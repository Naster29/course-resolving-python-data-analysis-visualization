{
 "cells": [
  {
   "cell_type": "markdown",
   "id": "ebf0c722-09b2-4559-a112-24472a4bb5c1",
   "metadata": {},
   "source": [
    "# Optimal Data Visualization"
   ]
  },
  {
   "cell_type": "markdown",
   "id": "7c672eb6-3e2a-4203-8194-495cfe6fc223",
   "metadata": {},
   "source": [
    "## Load the data\n",
    "\n",
    "- cars.xlsx"
   ]
  },
  {
   "cell_type": "code",
   "execution_count": 4,
   "id": "7380fdf3-f149-443d-bd37-a32e6ce9bf33",
   "metadata": {},
   "outputs": [],
   "source": [
    "import matplotlib as ptl"
   ]
  },
  {
   "cell_type": "code",
   "execution_count": 6,
   "id": "e5a3b52b-26c1-4d3d-a811-fd39032d8b6b",
   "metadata": {},
   "outputs": [],
   "source": [
    "import pandas as pd"
   ]
  },
  {
   "cell_type": "code",
   "execution_count": 7,
   "id": "2243e19c-e2ae-4024-ab89-555de0383dbf",
   "metadata": {},
   "outputs": [],
   "source": [
    "df_cars = pd.read_excel('cars.xlsx')"
   ]
  },
  {
   "cell_type": "code",
   "execution_count": 8,
   "id": "a71194fb-80c5-4373-8b33-49de9296f463",
   "metadata": {},
   "outputs": [
    {
     "data": {
      "text/html": [
       "<div>\n",
       "<style scoped>\n",
       "    .dataframe tbody tr th:only-of-type {\n",
       "        vertical-align: middle;\n",
       "    }\n",
       "\n",
       "    .dataframe tbody tr th {\n",
       "        vertical-align: top;\n",
       "    }\n",
       "\n",
       "    .dataframe thead th {\n",
       "        text-align: right;\n",
       "    }\n",
       "</style>\n",
       "<table border=\"1\" class=\"dataframe\">\n",
       "  <thead>\n",
       "    <tr style=\"text-align: right;\">\n",
       "      <th></th>\n",
       "      <th>mpg</th>\n",
       "      <th>cylinders</th>\n",
       "      <th>displacement</th>\n",
       "      <th>horsepower</th>\n",
       "      <th>weight</th>\n",
       "      <th>acceleration</th>\n",
       "      <th>model_year</th>\n",
       "      <th>origin</th>\n",
       "      <th>name</th>\n",
       "    </tr>\n",
       "  </thead>\n",
       "  <tbody>\n",
       "    <tr>\n",
       "      <th>0</th>\n",
       "      <td>18.0</td>\n",
       "      <td>8</td>\n",
       "      <td>307.0</td>\n",
       "      <td>130.0</td>\n",
       "      <td>3504</td>\n",
       "      <td>12.0</td>\n",
       "      <td>70</td>\n",
       "      <td>usa</td>\n",
       "      <td>chevrolet chevelle malibu</td>\n",
       "    </tr>\n",
       "    <tr>\n",
       "      <th>1</th>\n",
       "      <td>15.0</td>\n",
       "      <td>8</td>\n",
       "      <td>350.0</td>\n",
       "      <td>165.0</td>\n",
       "      <td>3693</td>\n",
       "      <td>11.5</td>\n",
       "      <td>70</td>\n",
       "      <td>usa</td>\n",
       "      <td>buick skylark 320</td>\n",
       "    </tr>\n",
       "    <tr>\n",
       "      <th>2</th>\n",
       "      <td>18.0</td>\n",
       "      <td>8</td>\n",
       "      <td>318.0</td>\n",
       "      <td>150.0</td>\n",
       "      <td>3436</td>\n",
       "      <td>11.0</td>\n",
       "      <td>70</td>\n",
       "      <td>usa</td>\n",
       "      <td>plymouth satellite</td>\n",
       "    </tr>\n",
       "    <tr>\n",
       "      <th>3</th>\n",
       "      <td>16.0</td>\n",
       "      <td>8</td>\n",
       "      <td>304.0</td>\n",
       "      <td>150.0</td>\n",
       "      <td>3433</td>\n",
       "      <td>12.0</td>\n",
       "      <td>70</td>\n",
       "      <td>usa</td>\n",
       "      <td>amc rebel sst</td>\n",
       "    </tr>\n",
       "    <tr>\n",
       "      <th>4</th>\n",
       "      <td>17.0</td>\n",
       "      <td>8</td>\n",
       "      <td>302.0</td>\n",
       "      <td>140.0</td>\n",
       "      <td>3449</td>\n",
       "      <td>10.5</td>\n",
       "      <td>70</td>\n",
       "      <td>usa</td>\n",
       "      <td>ford torino</td>\n",
       "    </tr>\n",
       "    <tr>\n",
       "      <th>...</th>\n",
       "      <td>...</td>\n",
       "      <td>...</td>\n",
       "      <td>...</td>\n",
       "      <td>...</td>\n",
       "      <td>...</td>\n",
       "      <td>...</td>\n",
       "      <td>...</td>\n",
       "      <td>...</td>\n",
       "      <td>...</td>\n",
       "    </tr>\n",
       "    <tr>\n",
       "      <th>393</th>\n",
       "      <td>27.0</td>\n",
       "      <td>4</td>\n",
       "      <td>140.0</td>\n",
       "      <td>86.0</td>\n",
       "      <td>2790</td>\n",
       "      <td>15.6</td>\n",
       "      <td>82</td>\n",
       "      <td>usa</td>\n",
       "      <td>ford mustang gl</td>\n",
       "    </tr>\n",
       "    <tr>\n",
       "      <th>394</th>\n",
       "      <td>44.0</td>\n",
       "      <td>4</td>\n",
       "      <td>97.0</td>\n",
       "      <td>52.0</td>\n",
       "      <td>2130</td>\n",
       "      <td>24.6</td>\n",
       "      <td>82</td>\n",
       "      <td>europe</td>\n",
       "      <td>vw pickup</td>\n",
       "    </tr>\n",
       "    <tr>\n",
       "      <th>395</th>\n",
       "      <td>32.0</td>\n",
       "      <td>4</td>\n",
       "      <td>135.0</td>\n",
       "      <td>84.0</td>\n",
       "      <td>2295</td>\n",
       "      <td>11.6</td>\n",
       "      <td>82</td>\n",
       "      <td>usa</td>\n",
       "      <td>dodge rampage</td>\n",
       "    </tr>\n",
       "    <tr>\n",
       "      <th>396</th>\n",
       "      <td>28.0</td>\n",
       "      <td>4</td>\n",
       "      <td>120.0</td>\n",
       "      <td>79.0</td>\n",
       "      <td>2625</td>\n",
       "      <td>18.6</td>\n",
       "      <td>82</td>\n",
       "      <td>usa</td>\n",
       "      <td>ford ranger</td>\n",
       "    </tr>\n",
       "    <tr>\n",
       "      <th>397</th>\n",
       "      <td>31.0</td>\n",
       "      <td>4</td>\n",
       "      <td>119.0</td>\n",
       "      <td>82.0</td>\n",
       "      <td>2720</td>\n",
       "      <td>19.4</td>\n",
       "      <td>82</td>\n",
       "      <td>usa</td>\n",
       "      <td>chevy s-10</td>\n",
       "    </tr>\n",
       "  </tbody>\n",
       "</table>\n",
       "<p>398 rows × 9 columns</p>\n",
       "</div>"
      ],
      "text/plain": [
       "      mpg  cylinders  displacement  horsepower  weight  acceleration  \\\n",
       "0    18.0          8         307.0       130.0    3504          12.0   \n",
       "1    15.0          8         350.0       165.0    3693          11.5   \n",
       "2    18.0          8         318.0       150.0    3436          11.0   \n",
       "3    16.0          8         304.0       150.0    3433          12.0   \n",
       "4    17.0          8         302.0       140.0    3449          10.5   \n",
       "..    ...        ...           ...         ...     ...           ...   \n",
       "393  27.0          4         140.0        86.0    2790          15.6   \n",
       "394  44.0          4          97.0        52.0    2130          24.6   \n",
       "395  32.0          4         135.0        84.0    2295          11.6   \n",
       "396  28.0          4         120.0        79.0    2625          18.6   \n",
       "397  31.0          4         119.0        82.0    2720          19.4   \n",
       "\n",
       "     model_year  origin                       name  \n",
       "0            70     usa  chevrolet chevelle malibu  \n",
       "1            70     usa          buick skylark 320  \n",
       "2            70     usa         plymouth satellite  \n",
       "3            70     usa              amc rebel sst  \n",
       "4            70     usa                ford torino  \n",
       "..          ...     ...                        ...  \n",
       "393          82     usa            ford mustang gl  \n",
       "394          82  europe                  vw pickup  \n",
       "395          82     usa              dodge rampage  \n",
       "396          82     usa                ford ranger  \n",
       "397          82     usa                 chevy s-10  \n",
       "\n",
       "[398 rows x 9 columns]"
      ]
     },
     "execution_count": 8,
     "metadata": {},
     "output_type": "execute_result"
    }
   ],
   "source": [
    "df_cars"
   ]
  },
  {
   "cell_type": "markdown",
   "id": "86f2ff51-e77d-4621-8ac1-79958292b92c",
   "metadata": {},
   "source": [
    "## Create data visualization"
   ]
  },
  {
   "cell_type": "markdown",
   "id": "ccd77248-316d-4053-9098-8cea9eea895d",
   "metadata": {},
   "source": [
    "### Import plotly library"
   ]
  },
  {
   "cell_type": "code",
   "execution_count": 9,
   "id": "8b963e70-abe0-40a2-8bca-e3f9a383f439",
   "metadata": {},
   "outputs": [],
   "source": [
    "import plotly.express as px"
   ]
  },
  {
   "cell_type": "markdown",
   "id": "cdff5e7b-8525-417c-9b55-b01ca946ed40",
   "metadata": {},
   "source": [
    "### Create scatter plot\n",
    "\n",
    "To represent the relationship between two numerical continuous variables:\n",
    "\n",
    "1. x-axis → `horsepower`\n",
    "2. y-axis → `acceleration`"
   ]
  },
  {
   "cell_type": "code",
   "execution_count": 11,
   "id": "45491506-0905-4c6b-96b3-659d90e1f51a",
   "metadata": {},
   "outputs": [
    {
     "data": {
      "application/vnd.plotly.v1+json": {
       "config": {
        "plotlyServerURL": "https://plot.ly"
       },
       "data": [
        {
         "hovertemplate": "horsepower=%{x}<br>acceleration=%{y}<extra></extra>",
         "legendgroup": "",
         "marker": {
          "color": "#636efa",
          "symbol": "circle"
         },
         "mode": "markers",
         "name": "",
         "orientation": "v",
         "showlegend": false,
         "type": "scatter",
         "x": [
          130,
          165,
          150,
          150,
          140,
          198,
          220,
          215,
          225,
          190,
          170,
          160,
          150,
          225,
          95,
          95,
          97,
          85,
          88,
          46,
          87,
          90,
          95,
          113,
          90,
          215,
          200,
          210,
          193,
          88,
          90,
          95,
          null,
          100,
          105,
          100,
          88,
          100,
          165,
          175,
          153,
          150,
          180,
          170,
          175,
          110,
          72,
          100,
          88,
          86,
          90,
          70,
          76,
          65,
          69,
          60,
          70,
          95,
          80,
          54,
          90,
          86,
          165,
          175,
          150,
          153,
          150,
          208,
          155,
          160,
          190,
          97,
          150,
          130,
          140,
          150,
          112,
          76,
          87,
          69,
          86,
          92,
          97,
          80,
          88,
          175,
          150,
          145,
          137,
          150,
          198,
          150,
          158,
          150,
          215,
          225,
          175,
          105,
          100,
          100,
          88,
          95,
          46,
          150,
          167,
          170,
          180,
          100,
          88,
          72,
          94,
          90,
          85,
          107,
          90,
          145,
          230,
          49,
          75,
          91,
          112,
          150,
          110,
          122,
          180,
          95,
          null,
          100,
          100,
          67,
          80,
          65,
          75,
          100,
          110,
          105,
          140,
          150,
          150,
          140,
          150,
          83,
          67,
          78,
          52,
          61,
          75,
          75,
          75,
          97,
          93,
          67,
          95,
          105,
          72,
          72,
          170,
          145,
          150,
          148,
          110,
          105,
          110,
          95,
          110,
          110,
          129,
          75,
          83,
          100,
          78,
          96,
          71,
          97,
          97,
          70,
          90,
          95,
          88,
          98,
          115,
          53,
          86,
          81,
          92,
          79,
          83,
          140,
          150,
          120,
          152,
          100,
          105,
          81,
          90,
          52,
          60,
          70,
          53,
          100,
          78,
          110,
          95,
          71,
          70,
          75,
          72,
          102,
          150,
          88,
          108,
          120,
          180,
          145,
          130,
          150,
          68,
          80,
          58,
          96,
          70,
          145,
          110,
          145,
          130,
          110,
          105,
          100,
          98,
          180,
          170,
          190,
          149,
          78,
          88,
          75,
          89,
          63,
          83,
          67,
          78,
          97,
          110,
          110,
          48,
          66,
          52,
          70,
          60,
          110,
          140,
          139,
          105,
          95,
          85,
          88,
          100,
          90,
          105,
          85,
          110,
          120,
          145,
          165,
          139,
          140,
          68,
          95,
          97,
          75,
          95,
          105,
          85,
          97,
          103,
          125,
          115,
          133,
          71,
          68,
          115,
          85,
          88,
          90,
          110,
          130,
          129,
          138,
          135,
          155,
          142,
          125,
          150,
          71,
          65,
          80,
          80,
          77,
          125,
          71,
          90,
          70,
          70,
          65,
          69,
          90,
          115,
          115,
          90,
          76,
          60,
          70,
          65,
          90,
          88,
          90,
          90,
          78,
          90,
          75,
          92,
          75,
          65,
          105,
          65,
          48,
          48,
          67,
          67,
          67,
          null,
          67,
          62,
          132,
          100,
          88,
          null,
          72,
          84,
          84,
          92,
          110,
          84,
          58,
          64,
          60,
          67,
          65,
          62,
          68,
          63,
          65,
          65,
          74,
          null,
          75,
          75,
          100,
          74,
          80,
          76,
          116,
          120,
          110,
          105,
          88,
          85,
          88,
          88,
          88,
          85,
          84,
          90,
          92,
          null,
          74,
          68,
          68,
          63,
          70,
          88,
          75,
          70,
          67,
          67,
          67,
          110,
          85,
          92,
          112,
          96,
          84,
          90,
          86,
          52,
          84,
          79,
          82
         ],
         "xaxis": "x",
         "y": [
          12,
          11.5,
          11,
          12,
          10.5,
          10,
          9,
          8.5,
          10,
          8.5,
          10,
          8,
          9.5,
          10,
          15,
          15.5,
          15.5,
          16,
          14.5,
          20.5,
          17.5,
          14.5,
          17.5,
          12.5,
          15,
          14,
          15,
          13.5,
          18.5,
          14.5,
          15.5,
          14,
          19,
          13,
          15.5,
          15.5,
          15.5,
          15.5,
          12,
          11.5,
          13.5,
          13,
          11.5,
          12,
          12,
          13.5,
          19,
          15,
          14.5,
          14,
          14,
          19.5,
          14.5,
          19,
          18,
          19,
          20.5,
          15.5,
          17,
          23.5,
          19.5,
          16.5,
          12,
          12,
          13.5,
          13,
          11.5,
          11,
          13.5,
          13.5,
          12.5,
          13.5,
          12.5,
          14,
          16,
          14,
          14.5,
          18,
          19.5,
          18,
          16,
          17,
          14.5,
          15,
          16.5,
          13,
          11.5,
          13,
          14.5,
          12.5,
          11.5,
          12,
          13,
          14.5,
          11,
          11,
          11,
          16.5,
          18,
          16,
          16.5,
          16,
          21,
          14,
          12.5,
          13,
          12.5,
          15,
          19,
          19.5,
          16.5,
          13.5,
          18.5,
          14,
          15.5,
          13,
          9.5,
          19.5,
          15.5,
          14,
          15.5,
          11,
          14,
          13.5,
          11,
          16.5,
          17,
          16,
          17,
          19,
          16.5,
          21,
          17,
          17,
          18,
          16.5,
          14,
          14.5,
          13.5,
          16,
          15.5,
          16.5,
          15.5,
          14.5,
          16.5,
          19,
          14.5,
          15.5,
          14,
          15,
          15.5,
          16,
          16,
          16,
          21,
          19.5,
          11.5,
          14,
          14.5,
          13.5,
          21,
          18.5,
          19,
          19,
          15,
          13.5,
          12,
          16,
          17,
          16,
          18.5,
          13.5,
          16.5,
          17,
          14.5,
          14,
          17,
          15,
          17,
          14.5,
          13.5,
          17.5,
          15.5,
          16.9,
          14.9,
          17.7,
          15.3,
          13,
          13,
          13.9,
          12.8,
          15.4,
          14.5,
          17.6,
          17.6,
          22.2,
          22.1,
          14.2,
          17.4,
          17.7,
          21,
          16.2,
          17.8,
          12.2,
          17,
          16.4,
          13.6,
          15.7,
          13.2,
          21.9,
          15.5,
          16.7,
          12.1,
          12,
          15,
          14,
          18.5,
          14.8,
          18.6,
          15.5,
          16.8,
          12.5,
          19,
          13.7,
          14.9,
          16.4,
          16.9,
          17.7,
          19,
          11.1,
          11.4,
          12.2,
          14.5,
          14.5,
          16,
          18.2,
          15.8,
          17,
          15.9,
          16.4,
          14.1,
          14.5,
          12.8,
          13.5,
          21.5,
          14.4,
          19.4,
          18.6,
          16.4,
          15.5,
          13.2,
          12.8,
          19.2,
          18.2,
          15.8,
          15.4,
          17.2,
          17.2,
          15.8,
          16.7,
          18.7,
          15.1,
          13.2,
          13.4,
          11.2,
          13.7,
          16.5,
          14.2,
          14.7,
          14.5,
          14.8,
          16.7,
          17.6,
          14.9,
          15.9,
          13.6,
          15.7,
          15.8,
          14.9,
          16.6,
          15.4,
          18.2,
          17.3,
          18.2,
          16.6,
          15.4,
          13.4,
          13.2,
          15.2,
          14.9,
          14.3,
          15,
          13,
          14,
          15.2,
          14.4,
          15,
          20.1,
          17.4,
          24.8,
          22.2,
          13.2,
          14.9,
          19.2,
          14.7,
          16,
          11.3,
          12.9,
          13.2,
          14.7,
          18.8,
          15.5,
          16.4,
          16.5,
          18.1,
          20.1,
          18.7,
          15.8,
          15.5,
          17.5,
          15,
          15.2,
          17.9,
          14.4,
          19.2,
          21.7,
          23.7,
          19.9,
          21.8,
          13.8,
          17.3,
          18,
          15.3,
          11.4,
          12.5,
          15.1,
          14.3,
          17,
          15.7,
          16.4,
          14.4,
          12.6,
          12.9,
          16.9,
          16.4,
          16.1,
          17.8,
          19.4,
          17.3,
          16,
          14.9,
          16.2,
          20.7,
          14.2,
          15.8,
          14.4,
          16.8,
          14.8,
          18.3,
          20.4,
          19.6,
          12.6,
          13.8,
          15.8,
          19,
          17.1,
          16.6,
          19.6,
          18.6,
          18,
          16.2,
          16,
          18,
          16.4,
          20.5,
          15.3,
          18.2,
          17.6,
          14.7,
          17.3,
          14.5,
          14.5,
          16.9,
          15,
          15.7,
          16.2,
          16.4,
          17,
          14.5,
          14.7,
          13.9,
          13,
          17.3,
          15.6,
          24.6,
          11.6,
          18.6,
          19.4
         ],
         "yaxis": "y"
        }
       ],
       "layout": {
        "autosize": true,
        "legend": {
         "tracegroupgap": 0
        },
        "margin": {
         "t": 60
        },
        "template": {
         "data": {
          "bar": [
           {
            "error_x": {
             "color": "#2a3f5f"
            },
            "error_y": {
             "color": "#2a3f5f"
            },
            "marker": {
             "line": {
              "color": "#E5ECF6",
              "width": 0.5
             },
             "pattern": {
              "fillmode": "overlay",
              "size": 10,
              "solidity": 0.2
             }
            },
            "type": "bar"
           }
          ],
          "barpolar": [
           {
            "marker": {
             "line": {
              "color": "#E5ECF6",
              "width": 0.5
             },
             "pattern": {
              "fillmode": "overlay",
              "size": 10,
              "solidity": 0.2
             }
            },
            "type": "barpolar"
           }
          ],
          "carpet": [
           {
            "aaxis": {
             "endlinecolor": "#2a3f5f",
             "gridcolor": "white",
             "linecolor": "white",
             "minorgridcolor": "white",
             "startlinecolor": "#2a3f5f"
            },
            "baxis": {
             "endlinecolor": "#2a3f5f",
             "gridcolor": "white",
             "linecolor": "white",
             "minorgridcolor": "white",
             "startlinecolor": "#2a3f5f"
            },
            "type": "carpet"
           }
          ],
          "choropleth": [
           {
            "colorbar": {
             "outlinewidth": 0,
             "ticks": ""
            },
            "type": "choropleth"
           }
          ],
          "contour": [
           {
            "colorbar": {
             "outlinewidth": 0,
             "ticks": ""
            },
            "colorscale": [
             [
              0,
              "#0d0887"
             ],
             [
              0.1111111111111111,
              "#46039f"
             ],
             [
              0.2222222222222222,
              "#7201a8"
             ],
             [
              0.3333333333333333,
              "#9c179e"
             ],
             [
              0.4444444444444444,
              "#bd3786"
             ],
             [
              0.5555555555555556,
              "#d8576b"
             ],
             [
              0.6666666666666666,
              "#ed7953"
             ],
             [
              0.7777777777777778,
              "#fb9f3a"
             ],
             [
              0.8888888888888888,
              "#fdca26"
             ],
             [
              1,
              "#f0f921"
             ]
            ],
            "type": "contour"
           }
          ],
          "contourcarpet": [
           {
            "colorbar": {
             "outlinewidth": 0,
             "ticks": ""
            },
            "type": "contourcarpet"
           }
          ],
          "heatmap": [
           {
            "colorbar": {
             "outlinewidth": 0,
             "ticks": ""
            },
            "colorscale": [
             [
              0,
              "#0d0887"
             ],
             [
              0.1111111111111111,
              "#46039f"
             ],
             [
              0.2222222222222222,
              "#7201a8"
             ],
             [
              0.3333333333333333,
              "#9c179e"
             ],
             [
              0.4444444444444444,
              "#bd3786"
             ],
             [
              0.5555555555555556,
              "#d8576b"
             ],
             [
              0.6666666666666666,
              "#ed7953"
             ],
             [
              0.7777777777777778,
              "#fb9f3a"
             ],
             [
              0.8888888888888888,
              "#fdca26"
             ],
             [
              1,
              "#f0f921"
             ]
            ],
            "type": "heatmap"
           }
          ],
          "heatmapgl": [
           {
            "colorbar": {
             "outlinewidth": 0,
             "ticks": ""
            },
            "colorscale": [
             [
              0,
              "#0d0887"
             ],
             [
              0.1111111111111111,
              "#46039f"
             ],
             [
              0.2222222222222222,
              "#7201a8"
             ],
             [
              0.3333333333333333,
              "#9c179e"
             ],
             [
              0.4444444444444444,
              "#bd3786"
             ],
             [
              0.5555555555555556,
              "#d8576b"
             ],
             [
              0.6666666666666666,
              "#ed7953"
             ],
             [
              0.7777777777777778,
              "#fb9f3a"
             ],
             [
              0.8888888888888888,
              "#fdca26"
             ],
             [
              1,
              "#f0f921"
             ]
            ],
            "type": "heatmapgl"
           }
          ],
          "histogram": [
           {
            "marker": {
             "pattern": {
              "fillmode": "overlay",
              "size": 10,
              "solidity": 0.2
             }
            },
            "type": "histogram"
           }
          ],
          "histogram2d": [
           {
            "colorbar": {
             "outlinewidth": 0,
             "ticks": ""
            },
            "colorscale": [
             [
              0,
              "#0d0887"
             ],
             [
              0.1111111111111111,
              "#46039f"
             ],
             [
              0.2222222222222222,
              "#7201a8"
             ],
             [
              0.3333333333333333,
              "#9c179e"
             ],
             [
              0.4444444444444444,
              "#bd3786"
             ],
             [
              0.5555555555555556,
              "#d8576b"
             ],
             [
              0.6666666666666666,
              "#ed7953"
             ],
             [
              0.7777777777777778,
              "#fb9f3a"
             ],
             [
              0.8888888888888888,
              "#fdca26"
             ],
             [
              1,
              "#f0f921"
             ]
            ],
            "type": "histogram2d"
           }
          ],
          "histogram2dcontour": [
           {
            "colorbar": {
             "outlinewidth": 0,
             "ticks": ""
            },
            "colorscale": [
             [
              0,
              "#0d0887"
             ],
             [
              0.1111111111111111,
              "#46039f"
             ],
             [
              0.2222222222222222,
              "#7201a8"
             ],
             [
              0.3333333333333333,
              "#9c179e"
             ],
             [
              0.4444444444444444,
              "#bd3786"
             ],
             [
              0.5555555555555556,
              "#d8576b"
             ],
             [
              0.6666666666666666,
              "#ed7953"
             ],
             [
              0.7777777777777778,
              "#fb9f3a"
             ],
             [
              0.8888888888888888,
              "#fdca26"
             ],
             [
              1,
              "#f0f921"
             ]
            ],
            "type": "histogram2dcontour"
           }
          ],
          "mesh3d": [
           {
            "colorbar": {
             "outlinewidth": 0,
             "ticks": ""
            },
            "type": "mesh3d"
           }
          ],
          "parcoords": [
           {
            "line": {
             "colorbar": {
              "outlinewidth": 0,
              "ticks": ""
             }
            },
            "type": "parcoords"
           }
          ],
          "pie": [
           {
            "automargin": true,
            "type": "pie"
           }
          ],
          "scatter": [
           {
            "fillpattern": {
             "fillmode": "overlay",
             "size": 10,
             "solidity": 0.2
            },
            "type": "scatter"
           }
          ],
          "scatter3d": [
           {
            "line": {
             "colorbar": {
              "outlinewidth": 0,
              "ticks": ""
             }
            },
            "marker": {
             "colorbar": {
              "outlinewidth": 0,
              "ticks": ""
             }
            },
            "type": "scatter3d"
           }
          ],
          "scattercarpet": [
           {
            "marker": {
             "colorbar": {
              "outlinewidth": 0,
              "ticks": ""
             }
            },
            "type": "scattercarpet"
           }
          ],
          "scattergeo": [
           {
            "marker": {
             "colorbar": {
              "outlinewidth": 0,
              "ticks": ""
             }
            },
            "type": "scattergeo"
           }
          ],
          "scattergl": [
           {
            "marker": {
             "colorbar": {
              "outlinewidth": 0,
              "ticks": ""
             }
            },
            "type": "scattergl"
           }
          ],
          "scattermapbox": [
           {
            "marker": {
             "colorbar": {
              "outlinewidth": 0,
              "ticks": ""
             }
            },
            "type": "scattermapbox"
           }
          ],
          "scatterpolar": [
           {
            "marker": {
             "colorbar": {
              "outlinewidth": 0,
              "ticks": ""
             }
            },
            "type": "scatterpolar"
           }
          ],
          "scatterpolargl": [
           {
            "marker": {
             "colorbar": {
              "outlinewidth": 0,
              "ticks": ""
             }
            },
            "type": "scatterpolargl"
           }
          ],
          "scatterternary": [
           {
            "marker": {
             "colorbar": {
              "outlinewidth": 0,
              "ticks": ""
             }
            },
            "type": "scatterternary"
           }
          ],
          "surface": [
           {
            "colorbar": {
             "outlinewidth": 0,
             "ticks": ""
            },
            "colorscale": [
             [
              0,
              "#0d0887"
             ],
             [
              0.1111111111111111,
              "#46039f"
             ],
             [
              0.2222222222222222,
              "#7201a8"
             ],
             [
              0.3333333333333333,
              "#9c179e"
             ],
             [
              0.4444444444444444,
              "#bd3786"
             ],
             [
              0.5555555555555556,
              "#d8576b"
             ],
             [
              0.6666666666666666,
              "#ed7953"
             ],
             [
              0.7777777777777778,
              "#fb9f3a"
             ],
             [
              0.8888888888888888,
              "#fdca26"
             ],
             [
              1,
              "#f0f921"
             ]
            ],
            "type": "surface"
           }
          ],
          "table": [
           {
            "cells": {
             "fill": {
              "color": "#EBF0F8"
             },
             "line": {
              "color": "white"
             }
            },
            "header": {
             "fill": {
              "color": "#C8D4E3"
             },
             "line": {
              "color": "white"
             }
            },
            "type": "table"
           }
          ]
         },
         "layout": {
          "annotationdefaults": {
           "arrowcolor": "#2a3f5f",
           "arrowhead": 0,
           "arrowwidth": 1
          },
          "autotypenumbers": "strict",
          "coloraxis": {
           "colorbar": {
            "outlinewidth": 0,
            "ticks": ""
           }
          },
          "colorscale": {
           "diverging": [
            [
             0,
             "#8e0152"
            ],
            [
             0.1,
             "#c51b7d"
            ],
            [
             0.2,
             "#de77ae"
            ],
            [
             0.3,
             "#f1b6da"
            ],
            [
             0.4,
             "#fde0ef"
            ],
            [
             0.5,
             "#f7f7f7"
            ],
            [
             0.6,
             "#e6f5d0"
            ],
            [
             0.7,
             "#b8e186"
            ],
            [
             0.8,
             "#7fbc41"
            ],
            [
             0.9,
             "#4d9221"
            ],
            [
             1,
             "#276419"
            ]
           ],
           "sequential": [
            [
             0,
             "#0d0887"
            ],
            [
             0.1111111111111111,
             "#46039f"
            ],
            [
             0.2222222222222222,
             "#7201a8"
            ],
            [
             0.3333333333333333,
             "#9c179e"
            ],
            [
             0.4444444444444444,
             "#bd3786"
            ],
            [
             0.5555555555555556,
             "#d8576b"
            ],
            [
             0.6666666666666666,
             "#ed7953"
            ],
            [
             0.7777777777777778,
             "#fb9f3a"
            ],
            [
             0.8888888888888888,
             "#fdca26"
            ],
            [
             1,
             "#f0f921"
            ]
           ],
           "sequentialminus": [
            [
             0,
             "#0d0887"
            ],
            [
             0.1111111111111111,
             "#46039f"
            ],
            [
             0.2222222222222222,
             "#7201a8"
            ],
            [
             0.3333333333333333,
             "#9c179e"
            ],
            [
             0.4444444444444444,
             "#bd3786"
            ],
            [
             0.5555555555555556,
             "#d8576b"
            ],
            [
             0.6666666666666666,
             "#ed7953"
            ],
            [
             0.7777777777777778,
             "#fb9f3a"
            ],
            [
             0.8888888888888888,
             "#fdca26"
            ],
            [
             1,
             "#f0f921"
            ]
           ]
          },
          "colorway": [
           "#636efa",
           "#EF553B",
           "#00cc96",
           "#ab63fa",
           "#FFA15A",
           "#19d3f3",
           "#FF6692",
           "#B6E880",
           "#FF97FF",
           "#FECB52"
          ],
          "font": {
           "color": "#2a3f5f"
          },
          "geo": {
           "bgcolor": "white",
           "lakecolor": "white",
           "landcolor": "#E5ECF6",
           "showlakes": true,
           "showland": true,
           "subunitcolor": "white"
          },
          "hoverlabel": {
           "align": "left"
          },
          "hovermode": "closest",
          "mapbox": {
           "style": "light"
          },
          "paper_bgcolor": "white",
          "plot_bgcolor": "#E5ECF6",
          "polar": {
           "angularaxis": {
            "gridcolor": "white",
            "linecolor": "white",
            "ticks": ""
           },
           "bgcolor": "#E5ECF6",
           "radialaxis": {
            "gridcolor": "white",
            "linecolor": "white",
            "ticks": ""
           }
          },
          "scene": {
           "xaxis": {
            "backgroundcolor": "#E5ECF6",
            "gridcolor": "white",
            "gridwidth": 2,
            "linecolor": "white",
            "showbackground": true,
            "ticks": "",
            "zerolinecolor": "white"
           },
           "yaxis": {
            "backgroundcolor": "#E5ECF6",
            "gridcolor": "white",
            "gridwidth": 2,
            "linecolor": "white",
            "showbackground": true,
            "ticks": "",
            "zerolinecolor": "white"
           },
           "zaxis": {
            "backgroundcolor": "#E5ECF6",
            "gridcolor": "white",
            "gridwidth": 2,
            "linecolor": "white",
            "showbackground": true,
            "ticks": "",
            "zerolinecolor": "white"
           }
          },
          "shapedefaults": {
           "line": {
            "color": "#2a3f5f"
           }
          },
          "ternary": {
           "aaxis": {
            "gridcolor": "white",
            "linecolor": "white",
            "ticks": ""
           },
           "baxis": {
            "gridcolor": "white",
            "linecolor": "white",
            "ticks": ""
           },
           "bgcolor": "#E5ECF6",
           "caxis": {
            "gridcolor": "white",
            "linecolor": "white",
            "ticks": ""
           }
          },
          "title": {
           "x": 0.05
          },
          "xaxis": {
           "automargin": true,
           "gridcolor": "white",
           "linecolor": "white",
           "ticks": "",
           "title": {
            "standoff": 15
           },
           "zerolinecolor": "white",
           "zerolinewidth": 2
          },
          "yaxis": {
           "automargin": true,
           "gridcolor": "white",
           "linecolor": "white",
           "ticks": "",
           "title": {
            "standoff": 15
           },
           "zerolinecolor": "white",
           "zerolinewidth": 2
          }
         }
        },
        "xaxis": {
         "anchor": "y",
         "autorange": true,
         "domain": [
          0,
          1
         ],
         "range": [
          35.09774702856129,
          240.9022529714387
         ],
         "title": {
          "text": "horsepower"
         },
         "type": "linear"
        },
        "yaxis": {
         "anchor": "x",
         "autorange": true,
         "domain": [
          0,
          1
         ],
         "range": [
          6.699212598425197,
          26.100787401574802
         ],
         "title": {
          "text": "acceleration"
         },
         "type": "linear"
        }
       }
      },
      "image/png": "[encoded data removed]",
      "text/html": [
       "<div>                            <div id=\"e8b40e13-ad91-41b5-88a4-e35e65a9e769\" class=\"plotly-graph-div\" style=\"height:525px; width:100%;\"></div>            <script type=\"text/javascript\">                require([\"plotly\"], function(Plotly) {                    window.PLOTLYENV=window.PLOTLYENV || {};                                    if (document.getElementById(\"e8b40e13-ad91-41b5-88a4-e35e65a9e769\")) {                    Plotly.newPlot(                        \"e8b40e13-ad91-41b5-88a4-e35e65a9e769\",                        [{\"hovertemplate\":\"horsepower=%{x}\\u003cbr\\u003eacceleration=%{y}\\u003cextra\\u003e\\u003c\\u002fextra\\u003e\",\"legendgroup\":\"\",\"marker\":{\"color\":\"#636efa\",\"symbol\":\"circle\"},\"mode\":\"markers\",\"name\":\"\",\"orientation\":\"v\",\"showlegend\":false,\"x\":[130.0,165.0,150.0,150.0,140.0,198.0,220.0,215.0,225.0,190.0,170.0,160.0,150.0,225.0,95.0,95.0,97.0,85.0,88.0,46.0,87.0,90.0,95.0,113.0,90.0,215.0,200.0,210.0,193.0,88.0,90.0,95.0,null,100.0,105.0,100.0,88.0,100.0,165.0,175.0,153.0,150.0,180.0,170.0,175.0,110.0,72.0,100.0,88.0,86.0,90.0,70.0,76.0,65.0,69.0,60.0,70.0,95.0,80.0,54.0,90.0,86.0,165.0,175.0,150.0,153.0,150.0,208.0,155.0,160.0,190.0,97.0,150.0,130.0,140.0,150.0,112.0,76.0,87.0,69.0,86.0,92.0,97.0,80.0,88.0,175.0,150.0,145.0,137.0,150.0,198.0,150.0,158.0,150.0,215.0,225.0,175.0,105.0,100.0,100.0,88.0,95.0,46.0,150.0,167.0,170.0,180.0,100.0,88.0,72.0,94.0,90.0,85.0,107.0,90.0,145.0,230.0,49.0,75.0,91.0,112.0,150.0,110.0,122.0,180.0,95.0,null,100.0,100.0,67.0,80.0,65.0,75.0,100.0,110.0,105.0,140.0,150.0,150.0,140.0,150.0,83.0,67.0,78.0,52.0,61.0,75.0,75.0,75.0,97.0,93.0,67.0,95.0,105.0,72.0,72.0,170.0,145.0,150.0,148.0,110.0,105.0,110.0,95.0,110.0,110.0,129.0,75.0,83.0,100.0,78.0,96.0,71.0,97.0,97.0,70.0,90.0,95.0,88.0,98.0,115.0,53.0,86.0,81.0,92.0,79.0,83.0,140.0,150.0,120.0,152.0,100.0,105.0,81.0,90.0,52.0,60.0,70.0,53.0,100.0,78.0,110.0,95.0,71.0,70.0,75.0,72.0,102.0,150.0,88.0,108.0,120.0,180.0,145.0,130.0,150.0,68.0,80.0,58.0,96.0,70.0,145.0,110.0,145.0,130.0,110.0,105.0,100.0,98.0,180.0,170.0,190.0,149.0,78.0,88.0,75.0,89.0,63.0,83.0,67.0,78.0,97.0,110.0,110.0,48.0,66.0,52.0,70.0,60.0,110.0,140.0,139.0,105.0,95.0,85.0,88.0,100.0,90.0,105.0,85.0,110.0,120.0,145.0,165.0,139.0,140.0,68.0,95.0,97.0,75.0,95.0,105.0,85.0,97.0,103.0,125.0,115.0,133.0,71.0,68.0,115.0,85.0,88.0,90.0,110.0,130.0,129.0,138.0,135.0,155.0,142.0,125.0,150.0,71.0,65.0,80.0,80.0,77.0,125.0,71.0,90.0,70.0,70.0,65.0,69.0,90.0,115.0,115.0,90.0,76.0,60.0,70.0,65.0,90.0,88.0,90.0,90.0,78.0,90.0,75.0,92.0,75.0,65.0,105.0,65.0,48.0,48.0,67.0,67.0,67.0,null,67.0,62.0,132.0,100.0,88.0,null,72.0,84.0,84.0,92.0,110.0,84.0,58.0,64.0,60.0,67.0,65.0,62.0,68.0,63.0,65.0,65.0,74.0,null,75.0,75.0,100.0,74.0,80.0,76.0,116.0,120.0,110.0,105.0,88.0,85.0,88.0,88.0,88.0,85.0,84.0,90.0,92.0,null,74.0,68.0,68.0,63.0,70.0,88.0,75.0,70.0,67.0,67.0,67.0,110.0,85.0,92.0,112.0,96.0,84.0,90.0,86.0,52.0,84.0,79.0,82.0],\"xaxis\":\"x\",\"y\":[12.0,11.5,11.0,12.0,10.5,10.0,9.0,8.5,10.0,8.5,10.0,8.0,9.5,10.0,15.0,15.5,15.5,16.0,14.5,20.5,17.5,14.5,17.5,12.5,15.0,14.0,15.0,13.5,18.5,14.5,15.5,14.0,19.0,13.0,15.5,15.5,15.5,15.5,12.0,11.5,13.5,13.0,11.5,12.0,12.0,13.5,19.0,15.0,14.5,14.0,14.0,19.5,14.5,19.0,18.0,19.0,20.5,15.5,17.0,23.5,19.5,16.5,12.0,12.0,13.5,13.0,11.5,11.0,13.5,13.5,12.5,13.5,12.5,14.0,16.0,14.0,14.5,18.0,19.5,18.0,16.0,17.0,14.5,15.0,16.5,13.0,11.5,13.0,14.5,12.5,11.5,12.0,13.0,14.5,11.0,11.0,11.0,16.5,18.0,16.0,16.5,16.0,21.0,14.0,12.5,13.0,12.5,15.0,19.0,19.5,16.5,13.5,18.5,14.0,15.5,13.0,9.5,19.5,15.5,14.0,15.5,11.0,14.0,13.5,11.0,16.5,17.0,16.0,17.0,19.0,16.5,21.0,17.0,17.0,18.0,16.5,14.0,14.5,13.5,16.0,15.5,16.5,15.5,14.5,16.5,19.0,14.5,15.5,14.0,15.0,15.5,16.0,16.0,16.0,21.0,19.5,11.5,14.0,14.5,13.5,21.0,18.5,19.0,19.0,15.0,13.5,12.0,16.0,17.0,16.0,18.5,13.5,16.5,17.0,14.5,14.0,17.0,15.0,17.0,14.5,13.5,17.5,15.5,16.9,14.9,17.7,15.3,13.0,13.0,13.9,12.8,15.4,14.5,17.6,17.6,22.2,22.1,14.2,17.4,17.7,21.0,16.2,17.8,12.2,17.0,16.4,13.6,15.7,13.2,21.9,15.5,16.7,12.1,12.0,15.0,14.0,18.5,14.8,18.6,15.5,16.8,12.5,19.0,13.7,14.9,16.4,16.9,17.7,19.0,11.1,11.4,12.2,14.5,14.5,16.0,18.2,15.8,17.0,15.9,16.4,14.1,14.5,12.8,13.5,21.5,14.4,19.4,18.6,16.4,15.5,13.2,12.8,19.2,18.2,15.8,15.4,17.2,17.2,15.8,16.7,18.7,15.1,13.2,13.4,11.2,13.7,16.5,14.2,14.7,14.5,14.8,16.7,17.6,14.9,15.9,13.6,15.7,15.8,14.9,16.6,15.4,18.2,17.3,18.2,16.6,15.4,13.4,13.2,15.2,14.9,14.3,15.0,13.0,14.0,15.2,14.4,15.0,20.1,17.4,24.8,22.2,13.2,14.9,19.2,14.7,16.0,11.3,12.9,13.2,14.7,18.8,15.5,16.4,16.5,18.1,20.1,18.7,15.8,15.5,17.5,15.0,15.2,17.9,14.4,19.2,21.7,23.7,19.9,21.8,13.8,17.3,18.0,15.3,11.4,12.5,15.1,14.3,17.0,15.7,16.4,14.4,12.6,12.9,16.9,16.4,16.1,17.8,19.4,17.3,16.0,14.9,16.2,20.7,14.2,15.8,14.4,16.8,14.8,18.3,20.4,19.6,12.6,13.8,15.8,19.0,17.1,16.6,19.6,18.6,18.0,16.2,16.0,18.0,16.4,20.5,15.3,18.2,17.6,14.7,17.3,14.5,14.5,16.9,15.0,15.7,16.2,16.4,17.0,14.5,14.7,13.9,13.0,17.3,15.6,24.6,11.6,18.6,19.4],\"yaxis\":\"y\",\"type\":\"scatter\"}],                        {\"template\":{\"data\":{\"histogram2dcontour\":[{\"type\":\"histogram2dcontour\",\"colorbar\":{\"outlinewidth\":0,\"ticks\":\"\"},\"colorscale\":[[0.0,\"#0d0887\"],[0.1111111111111111,\"#46039f\"],[0.2222222222222222,\"#7201a8\"],[0.3333333333333333,\"#9c179e\"],[0.4444444444444444,\"#bd3786\"],[0.5555555555555556,\"#d8576b\"],[0.6666666666666666,\"#ed7953\"],[0.7777777777777778,\"#fb9f3a\"],[0.8888888888888888,\"#fdca26\"],[1.0,\"#f0f921\"]]}],\"choropleth\":[{\"type\":\"choropleth\",\"colorbar\":{\"outlinewidth\":0,\"ticks\":\"\"}}],\"histogram2d\":[{\"type\":\"histogram2d\",\"colorbar\":{\"outlinewidth\":0,\"ticks\":\"\"},\"colorscale\":[[0.0,\"#0d0887\"],[0.1111111111111111,\"#46039f\"],[0.2222222222222222,\"#7201a8\"],[0.3333333333333333,\"#9c179e\"],[0.4444444444444444,\"#bd3786\"],[0.5555555555555556,\"#d8576b\"],[0.6666666666666666,\"#ed7953\"],[0.7777777777777778,\"#fb9f3a\"],[0.8888888888888888,\"#fdca26\"],[1.0,\"#f0f921\"]]}],\"heatmap\":[{\"type\":\"heatmap\",\"colorbar\":{\"outlinewidth\":0,\"ticks\":\"\"},\"colorscale\":[[0.0,\"#0d0887\"],[0.1111111111111111,\"#46039f\"],[0.2222222222222222,\"#7201a8\"],[0.3333333333333333,\"#9c179e\"],[0.4444444444444444,\"#bd3786\"],[0.5555555555555556,\"#d8576b\"],[0.6666666666666666,\"#ed7953\"],[0.7777777777777778,\"#fb9f3a\"],[0.8888888888888888,\"#fdca26\"],[1.0,\"#f0f921\"]]}],\"heatmapgl\":[{\"type\":\"heatmapgl\",\"colorbar\":{\"outlinewidth\":0,\"ticks\":\"\"},\"colorscale\":[[0.0,\"#0d0887\"],[0.1111111111111111,\"#46039f\"],[0.2222222222222222,\"#7201a8\"],[0.3333333333333333,\"#9c179e\"],[0.4444444444444444,\"#bd3786\"],[0.5555555555555556,\"#d8576b\"],[0.6666666666666666,\"#ed7953\"],[0.7777777777777778,\"#fb9f3a\"],[0.8888888888888888,\"#fdca26\"],[1.0,\"#f0f921\"]]}],\"contourcarpet\":[{\"type\":\"contourcarpet\",\"colorbar\":{\"outlinewidth\":0,\"ticks\":\"\"}}],\"contour\":[{\"type\":\"contour\",\"colorbar\":{\"outlinewidth\":0,\"ticks\":\"\"},\"colorscale\":[[0.0,\"#0d0887\"],[0.1111111111111111,\"#46039f\"],[0.2222222222222222,\"#7201a8\"],[0.3333333333333333,\"#9c179e\"],[0.4444444444444444,\"#bd3786\"],[0.5555555555555556,\"#d8576b\"],[0.6666666666666666,\"#ed7953\"],[0.7777777777777778,\"#fb9f3a\"],[0.8888888888888888,\"#fdca26\"],[1.0,\"#f0f921\"]]}],\"surface\":[{\"type\":\"surface\",\"colorbar\":{\"outlinewidth\":0,\"ticks\":\"\"},\"colorscale\":[[0.0,\"#0d0887\"],[0.1111111111111111,\"#46039f\"],[0.2222222222222222,\"#7201a8\"],[0.3333333333333333,\"#9c179e\"],[0.4444444444444444,\"#bd3786\"],[0.5555555555555556,\"#d8576b\"],[0.6666666666666666,\"#ed7953\"],[0.7777777777777778,\"#fb9f3a\"],[0.8888888888888888,\"#fdca26\"],[1.0,\"#f0f921\"]]}],\"mesh3d\":[{\"type\":\"mesh3d\",\"colorbar\":{\"outlinewidth\":0,\"ticks\":\"\"}}],\"scatter\":[{\"fillpattern\":{\"fillmode\":\"overlay\",\"size\":10,\"solidity\":0.2},\"type\":\"scatter\"}],\"parcoords\":[{\"type\":\"parcoords\",\"line\":{\"colorbar\":{\"outlinewidth\":0,\"ticks\":\"\"}}}],\"scatterpolargl\":[{\"type\":\"scatterpolargl\",\"marker\":{\"colorbar\":{\"outlinewidth\":0,\"ticks\":\"\"}}}],\"bar\":[{\"error_x\":{\"color\":\"#2a3f5f\"},\"error_y\":{\"color\":\"#2a3f5f\"},\"marker\":{\"line\":{\"color\":\"#E5ECF6\",\"width\":0.5},\"pattern\":{\"fillmode\":\"overlay\",\"size\":10,\"solidity\":0.2}},\"type\":\"bar\"}],\"scattergeo\":[{\"type\":\"scattergeo\",\"marker\":{\"colorbar\":{\"outlinewidth\":0,\"ticks\":\"\"}}}],\"scatterpolar\":[{\"type\":\"scatterpolar\",\"marker\":{\"colorbar\":{\"outlinewidth\":0,\"ticks\":\"\"}}}],\"histogram\":[{\"marker\":{\"pattern\":{\"fillmode\":\"overlay\",\"size\":10,\"solidity\":0.2}},\"type\":\"histogram\"}],\"scattergl\":[{\"type\":\"scattergl\",\"marker\":{\"colorbar\":{\"outlinewidth\":0,\"ticks\":\"\"}}}],\"scatter3d\":[{\"type\":\"scatter3d\",\"line\":{\"colorbar\":{\"outlinewidth\":0,\"ticks\":\"\"}},\"marker\":{\"colorbar\":{\"outlinewidth\":0,\"ticks\":\"\"}}}],\"scattermapbox\":[{\"type\":\"scattermapbox\",\"marker\":{\"colorbar\":{\"outlinewidth\":0,\"ticks\":\"\"}}}],\"scatterternary\":[{\"type\":\"scatterternary\",\"marker\":{\"colorbar\":{\"outlinewidth\":0,\"ticks\":\"\"}}}],\"scattercarpet\":[{\"type\":\"scattercarpet\",\"marker\":{\"colorbar\":{\"outlinewidth\":0,\"ticks\":\"\"}}}],\"carpet\":[{\"aaxis\":{\"endlinecolor\":\"#2a3f5f\",\"gridcolor\":\"white\",\"linecolor\":\"white\",\"minorgridcolor\":\"white\",\"startlinecolor\":\"#2a3f5f\"},\"baxis\":{\"endlinecolor\":\"#2a3f5f\",\"gridcolor\":\"white\",\"linecolor\":\"white\",\"minorgridcolor\":\"white\",\"startlinecolor\":\"#2a3f5f\"},\"type\":\"carpet\"}],\"table\":[{\"cells\":{\"fill\":{\"color\":\"#EBF0F8\"},\"line\":{\"color\":\"white\"}},\"header\":{\"fill\":{\"color\":\"#C8D4E3\"},\"line\":{\"color\":\"white\"}},\"type\":\"table\"}],\"barpolar\":[{\"marker\":{\"line\":{\"color\":\"#E5ECF6\",\"width\":0.5},\"pattern\":{\"fillmode\":\"overlay\",\"size\":10,\"solidity\":0.2}},\"type\":\"barpolar\"}],\"pie\":[{\"automargin\":true,\"type\":\"pie\"}]},\"layout\":{\"autotypenumbers\":\"strict\",\"colorway\":[\"#636efa\",\"#EF553B\",\"#00cc96\",\"#ab63fa\",\"#FFA15A\",\"#19d3f3\",\"#FF6692\",\"#B6E880\",\"#FF97FF\",\"#FECB52\"],\"font\":{\"color\":\"#2a3f5f\"},\"hovermode\":\"closest\",\"hoverlabel\":{\"align\":\"left\"},\"paper_bgcolor\":\"white\",\"plot_bgcolor\":\"#E5ECF6\",\"polar\":{\"bgcolor\":\"#E5ECF6\",\"angularaxis\":{\"gridcolor\":\"white\",\"linecolor\":\"white\",\"ticks\":\"\"},\"radialaxis\":{\"gridcolor\":\"white\",\"linecolor\":\"white\",\"ticks\":\"\"}},\"ternary\":{\"bgcolor\":\"#E5ECF6\",\"aaxis\":{\"gridcolor\":\"white\",\"linecolor\":\"white\",\"ticks\":\"\"},\"baxis\":{\"gridcolor\":\"white\",\"linecolor\":\"white\",\"ticks\":\"\"},\"caxis\":{\"gridcolor\":\"white\",\"linecolor\":\"white\",\"ticks\":\"\"}},\"coloraxis\":{\"colorbar\":{\"outlinewidth\":0,\"ticks\":\"\"}},\"colorscale\":{\"sequential\":[[0.0,\"#0d0887\"],[0.1111111111111111,\"#46039f\"],[0.2222222222222222,\"#7201a8\"],[0.3333333333333333,\"#9c179e\"],[0.4444444444444444,\"#bd3786\"],[0.5555555555555556,\"#d8576b\"],[0.6666666666666666,\"#ed7953\"],[0.7777777777777778,\"#fb9f3a\"],[0.8888888888888888,\"#fdca26\"],[1.0,\"#f0f921\"]],\"sequentialminus\":[[0.0,\"#0d0887\"],[0.1111111111111111,\"#46039f\"],[0.2222222222222222,\"#7201a8\"],[0.3333333333333333,\"#9c179e\"],[0.4444444444444444,\"#bd3786\"],[0.5555555555555556,\"#d8576b\"],[0.6666666666666666,\"#ed7953\"],[0.7777777777777778,\"#fb9f3a\"],[0.8888888888888888,\"#fdca26\"],[1.0,\"#f0f921\"]],\"diverging\":[[0,\"#8e0152\"],[0.1,\"#c51b7d\"],[0.2,\"#de77ae\"],[0.3,\"#f1b6da\"],[0.4,\"#fde0ef\"],[0.5,\"#f7f7f7\"],[0.6,\"#e6f5d0\"],[0.7,\"#b8e186\"],[0.8,\"#7fbc41\"],[0.9,\"#4d9221\"],[1,\"#276419\"]]},\"xaxis\":{\"gridcolor\":\"white\",\"linecolor\":\"white\",\"ticks\":\"\",\"title\":{\"standoff\":15},\"zerolinecolor\":\"white\",\"automargin\":true,\"zerolinewidth\":2},\"yaxis\":{\"gridcolor\":\"white\",\"linecolor\":\"white\",\"ticks\":\"\",\"title\":{\"standoff\":15},\"zerolinecolor\":\"white\",\"automargin\":true,\"zerolinewidth\":2},\"scene\":{\"xaxis\":{\"backgroundcolor\":\"#E5ECF6\",\"gridcolor\":\"white\",\"linecolor\":\"white\",\"showbackground\":true,\"ticks\":\"\",\"zerolinecolor\":\"white\",\"gridwidth\":2},\"yaxis\":{\"backgroundcolor\":\"#E5ECF6\",\"gridcolor\":\"white\",\"linecolor\":\"white\",\"showbackground\":true,\"ticks\":\"\",\"zerolinecolor\":\"white\",\"gridwidth\":2},\"zaxis\":{\"backgroundcolor\":\"#E5ECF6\",\"gridcolor\":\"white\",\"linecolor\":\"white\",\"showbackground\":true,\"ticks\":\"\",\"zerolinecolor\":\"white\",\"gridwidth\":2}},\"shapedefaults\":{\"line\":{\"color\":\"#2a3f5f\"}},\"annotationdefaults\":{\"arrowcolor\":\"#2a3f5f\",\"arrowhead\":0,\"arrowwidth\":1},\"geo\":{\"bgcolor\":\"white\",\"landcolor\":\"#E5ECF6\",\"subunitcolor\":\"white\",\"showland\":true,\"showlakes\":true,\"lakecolor\":\"white\"},\"title\":{\"x\":0.05},\"mapbox\":{\"style\":\"light\"}}},\"xaxis\":{\"anchor\":\"y\",\"domain\":[0.0,1.0],\"title\":{\"text\":\"horsepower\"}},\"yaxis\":{\"anchor\":\"x\",\"domain\":[0.0,1.0],\"title\":{\"text\":\"acceleration\"}},\"legend\":{\"tracegroupgap\":0},\"margin\":{\"t\":60}},                        {\"responsive\": true}                    ).then(function(){\n",
       "                            \n",
       "var gd = document.getElementById('e8b40e13-ad91-41b5-88a4-e35e65a9e769');\n",
       "var x = new MutationObserver(function (mutations, observer) {{\n",
       "        var display = window.getComputedStyle(gd).display;\n",
       "        if (!display || display === 'none') {{\n",
       "            console.log([gd, 'removed!']);\n",
       "            Plotly.purge(gd);\n",
       "            observer.disconnect();\n",
       "        }}\n",
       "}});\n",
       "\n",
       "// Listen for the removal of the full notebook cells\n",
       "var notebookContainer = gd.closest('#notebook-container');\n",
       "if (notebookContainer) {{\n",
       "    x.observe(notebookContainer, {childList: true});\n",
       "}}\n",
       "\n",
       "// Listen for the clearing of the current output cell\n",
       "var outputEl = gd.closest('.output');\n",
       "if (outputEl) {{\n",
       "    x.observe(outputEl, {childList: true});\n",
       "}}\n",
       "\n",
       "                        })                };                });            </script>        </div>"
      ]
     },
     "metadata": {},
     "output_type": "display_data"
    }
   ],
   "source": [
    "px.scatter(data_frame=df_cars, x = 'horsepower', y = 'acceleration')"
   ]
  },
  {
   "cell_type": "markdown",
   "id": "8b6ab908-b2f7-4037-9e1b-8c86bf4352f8",
   "metadata": {},
   "source": [
    "### Change the color based on the origin"
   ]
  },
  {
   "cell_type": "code",
   "execution_count": 12,
   "id": "5c587d65-b74b-446d-9934-017353be0ac5",
   "metadata": {},
   "outputs": [
    {
     "data": {
      "application/vnd.plotly.v1+json": {
       "config": {
        "plotlyServerURL": "https://plot.ly"
       },
       "data": [
        {
         "hovertemplate": "origin=usa<br>horsepower=%{x}<br>acceleration=%{y}<extra></extra>",
         "legendgroup": "usa",
         "marker": {
          "color": "#636efa",
          "symbol": "circle"
         },
         "mode": "markers",
         "name": "usa",
         "orientation": "v",
         "showlegend": true,
         "type": "scatter",
         "x": [
          130,
          165,
          150,
          150,
          140,
          198,
          220,
          215,
          225,
          190,
          170,
          160,
          150,
          225,
          95,
          97,
          85,
          90,
          215,
          200,
          210,
          193,
          90,
          null,
          100,
          105,
          100,
          88,
          100,
          165,
          175,
          153,
          150,
          180,
          170,
          175,
          110,
          72,
          100,
          88,
          86,
          70,
          80,
          90,
          86,
          165,
          175,
          150,
          153,
          150,
          208,
          155,
          160,
          190,
          150,
          130,
          140,
          150,
          86,
          80,
          175,
          150,
          145,
          137,
          150,
          198,
          150,
          158,
          150,
          215,
          225,
          175,
          105,
          100,
          100,
          88,
          95,
          150,
          167,
          170,
          180,
          100,
          72,
          85,
          107,
          145,
          230,
          150,
          180,
          95,
          null,
          100,
          100,
          80,
          75,
          100,
          110,
          105,
          140,
          150,
          150,
          140,
          150,
          75,
          95,
          105,
          72,
          72,
          170,
          145,
          150,
          148,
          110,
          105,
          110,
          95,
          110,
          110,
          129,
          83,
          100,
          78,
          97,
          90,
          92,
          79,
          140,
          150,
          120,
          152,
          100,
          105,
          81,
          90,
          52,
          60,
          100,
          78,
          110,
          95,
          72,
          150,
          180,
          145,
          130,
          150,
          80,
          96,
          145,
          110,
          145,
          130,
          110,
          105,
          100,
          98,
          180,
          170,
          190,
          149,
          88,
          89,
          63,
          83,
          66,
          110,
          140,
          139,
          105,
          95,
          85,
          88,
          100,
          90,
          105,
          85,
          110,
          120,
          145,
          165,
          139,
          140,
          68,
          75,
          105,
          85,
          115,
          85,
          88,
          90,
          110,
          130,
          129,
          138,
          135,
          155,
          142,
          125,
          150,
          80,
          80,
          125,
          90,
          70,
          70,
          90,
          115,
          115,
          90,
          70,
          90,
          88,
          90,
          90,
          105,
          null,
          84,
          84,
          92,
          110,
          84,
          64,
          63,
          65,
          65,
          110,
          105,
          88,
          85,
          88,
          88,
          88,
          85,
          84,
          90,
          92,
          null,
          63,
          70,
          110,
          85,
          92,
          112,
          84,
          90,
          86,
          84,
          79,
          82
         ],
         "xaxis": "x",
         "y": [
          12,
          11.5,
          11,
          12,
          10.5,
          10,
          9,
          8.5,
          10,
          8.5,
          10,
          8,
          9.5,
          10,
          15.5,
          15.5,
          16,
          15,
          14,
          15,
          13.5,
          18.5,
          15.5,
          19,
          13,
          15.5,
          15.5,
          15.5,
          15.5,
          12,
          11.5,
          13.5,
          13,
          11.5,
          12,
          12,
          13.5,
          19,
          15,
          14.5,
          14,
          20.5,
          17,
          19.5,
          16.5,
          12,
          12,
          13.5,
          13,
          11.5,
          11,
          13.5,
          13.5,
          12.5,
          12.5,
          14,
          16,
          14,
          16,
          15,
          13,
          11.5,
          13,
          14.5,
          12.5,
          11.5,
          12,
          13,
          14.5,
          11,
          11,
          11,
          16.5,
          18,
          16,
          16.5,
          16,
          14,
          12.5,
          13,
          12.5,
          15,
          19.5,
          18.5,
          14,
          13,
          9.5,
          11,
          11,
          16.5,
          17,
          16,
          17,
          16.5,
          17,
          17,
          18,
          16.5,
          14,
          14.5,
          13.5,
          16,
          15.5,
          14.5,
          16,
          16,
          21,
          19.5,
          11.5,
          14,
          14.5,
          13.5,
          21,
          18.5,
          19,
          19,
          15,
          13.5,
          12,
          17,
          16,
          18.5,
          14.5,
          17,
          14.9,
          17.7,
          13,
          13,
          13.9,
          12.8,
          15.4,
          14.5,
          17.6,
          17.6,
          22.2,
          22.1,
          17.7,
          21,
          16.2,
          17.8,
          13.6,
          13.2,
          12.1,
          12,
          15,
          14,
          14.8,
          15.5,
          12.5,
          19,
          13.7,
          14.9,
          16.4,
          16.9,
          17.7,
          19,
          11.1,
          11.4,
          12.2,
          14.5,
          16,
          15.8,
          17,
          15.9,
          14.4,
          15.5,
          13.2,
          12.8,
          19.2,
          18.2,
          15.8,
          15.4,
          17.2,
          17.2,
          15.8,
          16.7,
          18.7,
          15.1,
          13.2,
          13.4,
          11.2,
          13.7,
          16.5,
          14.5,
          16.7,
          17.6,
          15.4,
          18.2,
          17.3,
          18.2,
          16.6,
          15.4,
          13.4,
          13.2,
          15.2,
          14.9,
          14.3,
          15,
          13,
          14.4,
          15,
          17.4,
          22.2,
          13.2,
          14.9,
          16,
          11.3,
          12.9,
          13.2,
          15.5,
          16.5,
          18.1,
          20.1,
          18.7,
          14.4,
          14.3,
          15.7,
          16.4,
          14.4,
          12.6,
          12.9,
          16.4,
          14.9,
          16.2,
          20.7,
          15.8,
          19,
          17.1,
          16.6,
          19.6,
          18.6,
          18,
          16.2,
          16,
          18,
          16.4,
          20.5,
          14.7,
          17.3,
          16.4,
          17,
          14.5,
          14.7,
          13,
          17.3,
          15.6,
          11.6,
          18.6,
          19.4
         ],
         "yaxis": "y"
        },
        {
         "hovertemplate": "origin=japan<br>horsepower=%{x}<br>acceleration=%{y}<extra></extra>",
         "legendgroup": "japan",
         "marker": {
          "color": "#EF553B",
          "symbol": "circle"
         },
         "mode": "markers",
         "name": "japan",
         "orientation": "v",
         "showlegend": true,
         "type": "scatter",
         "x": [
          95,
          88,
          88,
          95,
          65,
          69,
          95,
          97,
          92,
          97,
          88,
          88,
          94,
          90,
          122,
          67,
          65,
          52,
          61,
          97,
          93,
          75,
          96,
          97,
          53,
          53,
          70,
          75,
          108,
          68,
          70,
          75,
          67,
          97,
          110,
          52,
          70,
          60,
          95,
          97,
          95,
          97,
          68,
          65,
          65,
          60,
          65,
          90,
          75,
          92,
          75,
          65,
          65,
          67,
          67,
          132,
          100,
          72,
          58,
          60,
          67,
          65,
          62,
          68,
          75,
          75,
          100,
          74,
          116,
          120,
          68,
          68,
          88,
          75,
          70,
          67,
          67,
          67,
          96
         ],
         "xaxis": "x",
         "y": [
          15,
          14.5,
          14.5,
          14,
          19,
          18,
          15.5,
          13.5,
          17,
          14.5,
          16.5,
          19,
          16.5,
          13.5,
          13.5,
          19,
          21,
          16.5,
          19,
          15,
          15.5,
          16,
          13.5,
          17,
          17.5,
          17.4,
          17,
          16.4,
          15.5,
          18.5,
          16.8,
          18.2,
          16.4,
          14.5,
          13.5,
          19.4,
          18.6,
          16.4,
          14.2,
          14.7,
          14.8,
          14.9,
          16.6,
          15.2,
          19.2,
          18.8,
          16.4,
          15.5,
          17.5,
          15,
          15.2,
          17.9,
          19.2,
          13.8,
          18,
          11.4,
          12.5,
          17,
          16.9,
          16.1,
          17.8,
          19.4,
          17.3,
          16,
          14.4,
          16.8,
          14.8,
          18.3,
          12.6,
          13.8,
          18.2,
          17.6,
          14.5,
          14.5,
          16.9,
          15,
          15.7,
          16.2,
          13.9
         ],
         "yaxis": "y"
        },
        {
         "hovertemplate": "origin=europe<br>horsepower=%{x}<br>acceleration=%{y}<extra></extra>",
         "legendgroup": "europe",
         "marker": {
          "color": "#00cc96",
          "symbol": "circle"
         },
         "mode": "markers",
         "name": "europe",
         "orientation": "v",
         "showlegend": true,
         "type": "scatter",
         "x": [
          46,
          87,
          90,
          95,
          113,
          90,
          70,
          76,
          60,
          54,
          112,
          76,
          87,
          69,
          46,
          90,
          49,
          75,
          91,
          112,
          110,
          83,
          67,
          78,
          75,
          75,
          67,
          71,
          70,
          95,
          88,
          98,
          115,
          86,
          81,
          83,
          70,
          71,
          102,
          88,
          120,
          58,
          78,
          78,
          110,
          48,
          103,
          125,
          115,
          133,
          71,
          71,
          77,
          71,
          69,
          76,
          78,
          48,
          48,
          67,
          67,
          null,
          62,
          88,
          74,
          null,
          80,
          76,
          74,
          52
         ],
         "xaxis": "x",
         "y": [
          20.5,
          17.5,
          14.5,
          17.5,
          12.5,
          14,
          19.5,
          14.5,
          19,
          23.5,
          14.5,
          18,
          19.5,
          18,
          21,
          15.5,
          19.5,
          15.5,
          14,
          15.5,
          14,
          16.5,
          15.5,
          14.5,
          15.5,
          14,
          16,
          16.5,
          14,
          15,
          17,
          14.5,
          13.5,
          15.5,
          16.9,
          15.3,
          14.2,
          12.2,
          15.7,
          21.9,
          16.7,
          18.6,
          14.5,
          14.1,
          12.8,
          21.5,
          15.9,
          13.6,
          15.7,
          15.8,
          14.9,
          14,
          20.1,
          24.8,
          14.7,
          14.7,
          15.8,
          21.7,
          23.7,
          19.9,
          21.8,
          17.3,
          15.3,
          15.1,
          14.2,
          15.8,
          20.4,
          19.6,
          15.3,
          24.6
         ],
         "yaxis": "y"
        }
       ],
       "layout": {
        "autosize": true,
        "legend": {
         "title": {
          "text": "origin"
         },
         "tracegroupgap": 0
        },
        "margin": {
         "t": 60
        },
        "template": {
         "data": {
          "bar": [
           {
            "error_x": {
             "color": "#2a3f5f"
            },
            "error_y": {
             "color": "#2a3f5f"
            },
            "marker": {
             "line": {
              "color": "#E5ECF6",
              "width": 0.5
             },
             "pattern": {
              "fillmode": "overlay",
              "size": 10,
              "solidity": 0.2
             }
            },
            "type": "bar"
           }
          ],
          "barpolar": [
           {
            "marker": {
             "line": {
              "color": "#E5ECF6",
              "width": 0.5
             },
             "pattern": {
              "fillmode": "overlay",
              "size": 10,
              "solidity": 0.2
             }
            },
            "type": "barpolar"
           }
          ],
          "carpet": [
           {
            "aaxis": {
             "endlinecolor": "#2a3f5f",
             "gridcolor": "white",
             "linecolor": "white",
             "minorgridcolor": "white",
             "startlinecolor": "#2a3f5f"
            },
            "baxis": {
             "endlinecolor": "#2a3f5f",
             "gridcolor": "white",
             "linecolor": "white",
             "minorgridcolor": "white",
             "startlinecolor": "#2a3f5f"
            },
            "type": "carpet"
           }
          ],
          "choropleth": [
           {
            "colorbar": {
             "outlinewidth": 0,
             "ticks": ""
            },
            "type": "choropleth"
           }
          ],
          "contour": [
           {
            "colorbar": {
             "outlinewidth": 0,
             "ticks": ""
            },
            "colorscale": [
             [
              0,
              "#0d0887"
             ],
             [
              0.1111111111111111,
              "#46039f"
             ],
             [
              0.2222222222222222,
              "#7201a8"
             ],
             [
              0.3333333333333333,
              "#9c179e"
             ],
             [
              0.4444444444444444,
              "#bd3786"
             ],
             [
              0.5555555555555556,
              "#d8576b"
             ],
             [
              0.6666666666666666,
              "#ed7953"
             ],
             [
              0.7777777777777778,
              "#fb9f3a"
             ],
             [
              0.8888888888888888,
              "#fdca26"
             ],
             [
              1,
              "#f0f921"
             ]
            ],
            "type": "contour"
           }
          ],
          "contourcarpet": [
           {
            "colorbar": {
             "outlinewidth": 0,
             "ticks": ""
            },
            "type": "contourcarpet"
           }
          ],
          "heatmap": [
           {
            "colorbar": {
             "outlinewidth": 0,
             "ticks": ""
            },
            "colorscale": [
             [
              0,
              "#0d0887"
             ],
             [
              0.1111111111111111,
              "#46039f"
             ],
             [
              0.2222222222222222,
              "#7201a8"
             ],
             [
              0.3333333333333333,
              "#9c179e"
             ],
             [
              0.4444444444444444,
              "#bd3786"
             ],
             [
              0.5555555555555556,
              "#d8576b"
             ],
             [
              0.6666666666666666,
              "#ed7953"
             ],
             [
              0.7777777777777778,
              "#fb9f3a"
             ],
             [
              0.8888888888888888,
              "#fdca26"
             ],
             [
              1,
              "#f0f921"
             ]
            ],
            "type": "heatmap"
           }
          ],
          "heatmapgl": [
           {
            "colorbar": {
             "outlinewidth": 0,
             "ticks": ""
            },
            "colorscale": [
             [
              0,
              "#0d0887"
             ],
             [
              0.1111111111111111,
              "#46039f"
             ],
             [
              0.2222222222222222,
              "#7201a8"
             ],
             [
              0.3333333333333333,
              "#9c179e"
             ],
             [
              0.4444444444444444,
              "#bd3786"
             ],
             [
              0.5555555555555556,
              "#d8576b"
             ],
             [
              0.6666666666666666,
              "#ed7953"
             ],
             [
              0.7777777777777778,
              "#fb9f3a"
             ],
             [
              0.8888888888888888,
              "#fdca26"
             ],
             [
              1,
              "#f0f921"
             ]
            ],
            "type": "heatmapgl"
           }
          ],
          "histogram": [
           {
            "marker": {
             "pattern": {
              "fillmode": "overlay",
              "size": 10,
              "solidity": 0.2
             }
            },
            "type": "histogram"
           }
          ],
          "histogram2d": [
           {
            "colorbar": {
             "outlinewidth": 0,
             "ticks": ""
            },
            "colorscale": [
             [
              0,
              "#0d0887"
             ],
             [
              0.1111111111111111,
              "#46039f"
             ],
             [
              0.2222222222222222,
              "#7201a8"
             ],
             [
              0.3333333333333333,
              "#9c179e"
             ],
             [
              0.4444444444444444,
              "#bd3786"
             ],
             [
              0.5555555555555556,
              "#d8576b"
             ],
             [
              0.6666666666666666,
              "#ed7953"
             ],
             [
              0.7777777777777778,
              "#fb9f3a"
             ],
             [
              0.8888888888888888,
              "#fdca26"
             ],
             [
              1,
              "#f0f921"
             ]
            ],
            "type": "histogram2d"
           }
          ],
          "histogram2dcontour": [
           {
            "colorbar": {
             "outlinewidth": 0,
             "ticks": ""
            },
            "colorscale": [
             [
              0,
              "#0d0887"
             ],
             [
              0.1111111111111111,
              "#46039f"
             ],
             [
              0.2222222222222222,
              "#7201a8"
             ],
             [
              0.3333333333333333,
              "#9c179e"
             ],
             [
              0.4444444444444444,
              "#bd3786"
             ],
             [
              0.5555555555555556,
              "#d8576b"
             ],
             [
              0.6666666666666666,
              "#ed7953"
             ],
             [
              0.7777777777777778,
              "#fb9f3a"
             ],
             [
              0.8888888888888888,
              "#fdca26"
             ],
             [
              1,
              "#f0f921"
             ]
            ],
            "type": "histogram2dcontour"
           }
          ],
          "mesh3d": [
           {
            "colorbar": {
             "outlinewidth": 0,
             "ticks": ""
            },
            "type": "mesh3d"
           }
          ],
          "parcoords": [
           {
            "line": {
             "colorbar": {
              "outlinewidth": 0,
              "ticks": ""
             }
            },
            "type": "parcoords"
           }
          ],
          "pie": [
           {
            "automargin": true,
            "type": "pie"
           }
          ],
          "scatter": [
           {
            "fillpattern": {
             "fillmode": "overlay",
             "size": 10,
             "solidity": 0.2
            },
            "type": "scatter"
           }
          ],
          "scatter3d": [
           {
            "line": {
             "colorbar": {
              "outlinewidth": 0,
              "ticks": ""
             }
            },
            "marker": {
             "colorbar": {
              "outlinewidth": 0,
              "ticks": ""
             }
            },
            "type": "scatter3d"
           }
          ],
          "scattercarpet": [
           {
            "marker": {
             "colorbar": {
              "outlinewidth": 0,
              "ticks": ""
             }
            },
            "type": "scattercarpet"
           }
          ],
          "scattergeo": [
           {
            "marker": {
             "colorbar": {
              "outlinewidth": 0,
              "ticks": ""
             }
            },
            "type": "scattergeo"
           }
          ],
          "scattergl": [
           {
            "marker": {
             "colorbar": {
              "outlinewidth": 0,
              "ticks": ""
             }
            },
            "type": "scattergl"
           }
          ],
          "scattermapbox": [
           {
            "marker": {
             "colorbar": {
              "outlinewidth": 0,
              "ticks": ""
             }
            },
            "type": "scattermapbox"
           }
          ],
          "scatterpolar": [
           {
            "marker": {
             "colorbar": {
              "outlinewidth": 0,
              "ticks": ""
             }
            },
            "type": "scatterpolar"
           }
          ],
          "scatterpolargl": [
           {
            "marker": {
             "colorbar": {
              "outlinewidth": 0,
              "ticks": ""
             }
            },
            "type": "scatterpolargl"
           }
          ],
          "scatterternary": [
           {
            "marker": {
             "colorbar": {
              "outlinewidth": 0,
              "ticks": ""
             }
            },
            "type": "scatterternary"
           }
          ],
          "surface": [
           {
            "colorbar": {
             "outlinewidth": 0,
             "ticks": ""
            },
            "colorscale": [
             [
              0,
              "#0d0887"
             ],
             [
              0.1111111111111111,
              "#46039f"
             ],
             [
              0.2222222222222222,
              "#7201a8"
             ],
             [
              0.3333333333333333,
              "#9c179e"
             ],
             [
              0.4444444444444444,
              "#bd3786"
             ],
             [
              0.5555555555555556,
              "#d8576b"
             ],
             [
              0.6666666666666666,
              "#ed7953"
             ],
             [
              0.7777777777777778,
              "#fb9f3a"
             ],
             [
              0.8888888888888888,
              "#fdca26"
             ],
             [
              1,
              "#f0f921"
             ]
            ],
            "type": "surface"
           }
          ],
          "table": [
           {
            "cells": {
             "fill": {
              "color": "#EBF0F8"
             },
             "line": {
              "color": "white"
             }
            },
            "header": {
             "fill": {
              "color": "#C8D4E3"
             },
             "line": {
              "color": "white"
             }
            },
            "type": "table"
           }
          ]
         },
         "layout": {
          "annotationdefaults": {
           "arrowcolor": "#2a3f5f",
           "arrowhead": 0,
           "arrowwidth": 1
          },
          "autotypenumbers": "strict",
          "coloraxis": {
           "colorbar": {
            "outlinewidth": 0,
            "ticks": ""
           }
          },
          "colorscale": {
           "diverging": [
            [
             0,
             "#8e0152"
            ],
            [
             0.1,
             "#c51b7d"
            ],
            [
             0.2,
             "#de77ae"
            ],
            [
             0.3,
             "#f1b6da"
            ],
            [
             0.4,
             "#fde0ef"
            ],
            [
             0.5,
             "#f7f7f7"
            ],
            [
             0.6,
             "#e6f5d0"
            ],
            [
             0.7,
             "#b8e186"
            ],
            [
             0.8,
             "#7fbc41"
            ],
            [
             0.9,
             "#4d9221"
            ],
            [
             1,
             "#276419"
            ]
           ],
           "sequential": [
            [
             0,
             "#0d0887"
            ],
            [
             0.1111111111111111,
             "#46039f"
            ],
            [
             0.2222222222222222,
             "#7201a8"
            ],
            [
             0.3333333333333333,
             "#9c179e"
            ],
            [
             0.4444444444444444,
             "#bd3786"
            ],
            [
             0.5555555555555556,
             "#d8576b"
            ],
            [
             0.6666666666666666,
             "#ed7953"
            ],
            [
             0.7777777777777778,
             "#fb9f3a"
            ],
            [
             0.8888888888888888,
             "#fdca26"
            ],
            [
             1,
             "#f0f921"
            ]
           ],
           "sequentialminus": [
            [
             0,
             "#0d0887"
            ],
            [
             0.1111111111111111,
             "#46039f"
            ],
            [
             0.2222222222222222,
             "#7201a8"
            ],
            [
             0.3333333333333333,
             "#9c179e"
            ],
            [
             0.4444444444444444,
             "#bd3786"
            ],
            [
             0.5555555555555556,
             "#d8576b"
            ],
            [
             0.6666666666666666,
             "#ed7953"
            ],
            [
             0.7777777777777778,
             "#fb9f3a"
            ],
            [
             0.8888888888888888,
             "#fdca26"
            ],
            [
             1,
             "#f0f921"
            ]
           ]
          },
          "colorway": [
           "#636efa",
           "#EF553B",
           "#00cc96",
           "#ab63fa",
           "#FFA15A",
           "#19d3f3",
           "#FF6692",
           "#B6E880",
           "#FF97FF",
           "#FECB52"
          ],
          "font": {
           "color": "#2a3f5f"
          },
          "geo": {
           "bgcolor": "white",
           "lakecolor": "white",
           "landcolor": "#E5ECF6",
           "showlakes": true,
           "showland": true,
           "subunitcolor": "white"
          },
          "hoverlabel": {
           "align": "left"
          },
          "hovermode": "closest",
          "mapbox": {
           "style": "light"
          },
          "paper_bgcolor": "white",
          "plot_bgcolor": "#E5ECF6",
          "polar": {
           "angularaxis": {
            "gridcolor": "white",
            "linecolor": "white",
            "ticks": ""
           },
           "bgcolor": "#E5ECF6",
           "radialaxis": {
            "gridcolor": "white",
            "linecolor": "white",
            "ticks": ""
           }
          },
          "scene": {
           "xaxis": {
            "backgroundcolor": "#E5ECF6",
            "gridcolor": "white",
            "gridwidth": 2,
            "linecolor": "white",
            "showbackground": true,
            "ticks": "",
            "zerolinecolor": "white"
           },
           "yaxis": {
            "backgroundcolor": "#E5ECF6",
            "gridcolor": "white",
            "gridwidth": 2,
            "linecolor": "white",
            "showbackground": true,
            "ticks": "",
            "zerolinecolor": "white"
           },
           "zaxis": {
            "backgroundcolor": "#E5ECF6",
            "gridcolor": "white",
            "gridwidth": 2,
            "linecolor": "white",
            "showbackground": true,
            "ticks": "",
            "zerolinecolor": "white"
           }
          },
          "shapedefaults": {
           "line": {
            "color": "#2a3f5f"
           }
          },
          "ternary": {
           "aaxis": {
            "gridcolor": "white",
            "linecolor": "white",
            "ticks": ""
           },
           "baxis": {
            "gridcolor": "white",
            "linecolor": "white",
            "ticks": ""
           },
           "bgcolor": "#E5ECF6",
           "caxis": {
            "gridcolor": "white",
            "linecolor": "white",
            "ticks": ""
           }
          },
          "title": {
           "x": 0.05
          },
          "xaxis": {
           "automargin": true,
           "gridcolor": "white",
           "linecolor": "white",
           "ticks": "",
           "title": {
            "standoff": 15
           },
           "zerolinecolor": "white",
           "zerolinewidth": 2
          },
          "yaxis": {
           "automargin": true,
           "gridcolor": "white",
           "linecolor": "white",
           "ticks": "",
           "title": {
            "standoff": 15
           },
           "zerolinecolor": "white",
           "zerolinewidth": 2
          }
         }
        },
        "xaxis": {
         "anchor": "y",
         "autorange": true,
         "domain": [
          0,
          1
         ],
         "range": [
          35.07357398732433,
          240.92642601267568
         ],
         "title": {
          "text": "horsepower"
         },
         "type": "linear"
        },
        "yaxis": {
         "anchor": "x",
         "autorange": true,
         "domain": [
          0,
          1
         ],
         "range": [
          6.699212598425197,
          26.100787401574802
         ],
         "title": {
          "text": "acceleration"
         },
         "type": "linear"
        }
       }
      },
      "image/png": "[encoded data removed]",
      "text/html": [
       "<div>                            <div id=\"716b3433-46c5-422a-8aac-9b0a56b318f8\" class=\"plotly-graph-div\" style=\"height:525px; width:100%;\"></div>            <script type=\"text/javascript\">                require([\"plotly\"], function(Plotly) {                    window.PLOTLYENV=window.PLOTLYENV || {};                                    if (document.getElementById(\"716b3433-46c5-422a-8aac-9b0a56b318f8\")) {                    Plotly.newPlot(                        \"716b3433-46c5-422a-8aac-9b0a56b318f8\",                        [{\"hovertemplate\":\"origin=usa\\u003cbr\\u003ehorsepower=%{x}\\u003cbr\\u003eacceleration=%{y}\\u003cextra\\u003e\\u003c\\u002fextra\\u003e\",\"legendgroup\":\"usa\",\"marker\":{\"color\":\"#636efa\",\"symbol\":\"circle\"},\"mode\":\"markers\",\"name\":\"usa\",\"orientation\":\"v\",\"showlegend\":true,\"x\":[130.0,165.0,150.0,150.0,140.0,198.0,220.0,215.0,225.0,190.0,170.0,160.0,150.0,225.0,95.0,97.0,85.0,90.0,215.0,200.0,210.0,193.0,90.0,null,100.0,105.0,100.0,88.0,100.0,165.0,175.0,153.0,150.0,180.0,170.0,175.0,110.0,72.0,100.0,88.0,86.0,70.0,80.0,90.0,86.0,165.0,175.0,150.0,153.0,150.0,208.0,155.0,160.0,190.0,150.0,130.0,140.0,150.0,86.0,80.0,175.0,150.0,145.0,137.0,150.0,198.0,150.0,158.0,150.0,215.0,225.0,175.0,105.0,100.0,100.0,88.0,95.0,150.0,167.0,170.0,180.0,100.0,72.0,85.0,107.0,145.0,230.0,150.0,180.0,95.0,null,100.0,100.0,80.0,75.0,100.0,110.0,105.0,140.0,150.0,150.0,140.0,150.0,75.0,95.0,105.0,72.0,72.0,170.0,145.0,150.0,148.0,110.0,105.0,110.0,95.0,110.0,110.0,129.0,83.0,100.0,78.0,97.0,90.0,92.0,79.0,140.0,150.0,120.0,152.0,100.0,105.0,81.0,90.0,52.0,60.0,100.0,78.0,110.0,95.0,72.0,150.0,180.0,145.0,130.0,150.0,80.0,96.0,145.0,110.0,145.0,130.0,110.0,105.0,100.0,98.0,180.0,170.0,190.0,149.0,88.0,89.0,63.0,83.0,66.0,110.0,140.0,139.0,105.0,95.0,85.0,88.0,100.0,90.0,105.0,85.0,110.0,120.0,145.0,165.0,139.0,140.0,68.0,75.0,105.0,85.0,115.0,85.0,88.0,90.0,110.0,130.0,129.0,138.0,135.0,155.0,142.0,125.0,150.0,80.0,80.0,125.0,90.0,70.0,70.0,90.0,115.0,115.0,90.0,70.0,90.0,88.0,90.0,90.0,105.0,null,84.0,84.0,92.0,110.0,84.0,64.0,63.0,65.0,65.0,110.0,105.0,88.0,85.0,88.0,88.0,88.0,85.0,84.0,90.0,92.0,null,63.0,70.0,110.0,85.0,92.0,112.0,84.0,90.0,86.0,84.0,79.0,82.0],\"xaxis\":\"x\",\"y\":[12.0,11.5,11.0,12.0,10.5,10.0,9.0,8.5,10.0,8.5,10.0,8.0,9.5,10.0,15.5,15.5,16.0,15.0,14.0,15.0,13.5,18.5,15.5,19.0,13.0,15.5,15.5,15.5,15.5,12.0,11.5,13.5,13.0,11.5,12.0,12.0,13.5,19.0,15.0,14.5,14.0,20.5,17.0,19.5,16.5,12.0,12.0,13.5,13.0,11.5,11.0,13.5,13.5,12.5,12.5,14.0,16.0,14.0,16.0,15.0,13.0,11.5,13.0,14.5,12.5,11.5,12.0,13.0,14.5,11.0,11.0,11.0,16.5,18.0,16.0,16.5,16.0,14.0,12.5,13.0,12.5,15.0,19.5,18.5,14.0,13.0,9.5,11.0,11.0,16.5,17.0,16.0,17.0,16.5,17.0,17.0,18.0,16.5,14.0,14.5,13.5,16.0,15.5,14.5,16.0,16.0,21.0,19.5,11.5,14.0,14.5,13.5,21.0,18.5,19.0,19.0,15.0,13.5,12.0,17.0,16.0,18.5,14.5,17.0,14.9,17.7,13.0,13.0,13.9,12.8,15.4,14.5,17.6,17.6,22.2,22.1,17.7,21.0,16.2,17.8,13.6,13.2,12.1,12.0,15.0,14.0,14.8,15.5,12.5,19.0,13.7,14.9,16.4,16.9,17.7,19.0,11.1,11.4,12.2,14.5,16.0,15.8,17.0,15.9,14.4,15.5,13.2,12.8,19.2,18.2,15.8,15.4,17.2,17.2,15.8,16.7,18.7,15.1,13.2,13.4,11.2,13.7,16.5,14.5,16.7,17.6,15.4,18.2,17.3,18.2,16.6,15.4,13.4,13.2,15.2,14.9,14.3,15.0,13.0,14.4,15.0,17.4,22.2,13.2,14.9,16.0,11.3,12.9,13.2,15.5,16.5,18.1,20.1,18.7,14.4,14.3,15.7,16.4,14.4,12.6,12.9,16.4,14.9,16.2,20.7,15.8,19.0,17.1,16.6,19.6,18.6,18.0,16.2,16.0,18.0,16.4,20.5,14.7,17.3,16.4,17.0,14.5,14.7,13.0,17.3,15.6,11.6,18.6,19.4],\"yaxis\":\"y\",\"type\":\"scatter\"},{\"hovertemplate\":\"origin=japan\\u003cbr\\u003ehorsepower=%{x}\\u003cbr\\u003eacceleration=%{y}\\u003cextra\\u003e\\u003c\\u002fextra\\u003e\",\"legendgroup\":\"japan\",\"marker\":{\"color\":\"#EF553B\",\"symbol\":\"circle\"},\"mode\":\"markers\",\"name\":\"japan\",\"orientation\":\"v\",\"showlegend\":true,\"x\":[95.0,88.0,88.0,95.0,65.0,69.0,95.0,97.0,92.0,97.0,88.0,88.0,94.0,90.0,122.0,67.0,65.0,52.0,61.0,97.0,93.0,75.0,96.0,97.0,53.0,53.0,70.0,75.0,108.0,68.0,70.0,75.0,67.0,97.0,110.0,52.0,70.0,60.0,95.0,97.0,95.0,97.0,68.0,65.0,65.0,60.0,65.0,90.0,75.0,92.0,75.0,65.0,65.0,67.0,67.0,132.0,100.0,72.0,58.0,60.0,67.0,65.0,62.0,68.0,75.0,75.0,100.0,74.0,116.0,120.0,68.0,68.0,88.0,75.0,70.0,67.0,67.0,67.0,96.0],\"xaxis\":\"x\",\"y\":[15.0,14.5,14.5,14.0,19.0,18.0,15.5,13.5,17.0,14.5,16.5,19.0,16.5,13.5,13.5,19.0,21.0,16.5,19.0,15.0,15.5,16.0,13.5,17.0,17.5,17.4,17.0,16.4,15.5,18.5,16.8,18.2,16.4,14.5,13.5,19.4,18.6,16.4,14.2,14.7,14.8,14.9,16.6,15.2,19.2,18.8,16.4,15.5,17.5,15.0,15.2,17.9,19.2,13.8,18.0,11.4,12.5,17.0,16.9,16.1,17.8,19.4,17.3,16.0,14.4,16.8,14.8,18.3,12.6,13.8,18.2,17.6,14.5,14.5,16.9,15.0,15.7,16.2,13.9],\"yaxis\":\"y\",\"type\":\"scatter\"},{\"hovertemplate\":\"origin=europe\\u003cbr\\u003ehorsepower=%{x}\\u003cbr\\u003eacceleration=%{y}\\u003cextra\\u003e\\u003c\\u002fextra\\u003e\",\"legendgroup\":\"europe\",\"marker\":{\"color\":\"#00cc96\",\"symbol\":\"circle\"},\"mode\":\"markers\",\"name\":\"europe\",\"orientation\":\"v\",\"showlegend\":true,\"x\":[46.0,87.0,90.0,95.0,113.0,90.0,70.0,76.0,60.0,54.0,112.0,76.0,87.0,69.0,46.0,90.0,49.0,75.0,91.0,112.0,110.0,83.0,67.0,78.0,75.0,75.0,67.0,71.0,70.0,95.0,88.0,98.0,115.0,86.0,81.0,83.0,70.0,71.0,102.0,88.0,120.0,58.0,78.0,78.0,110.0,48.0,103.0,125.0,115.0,133.0,71.0,71.0,77.0,71.0,69.0,76.0,78.0,48.0,48.0,67.0,67.0,null,62.0,88.0,74.0,null,80.0,76.0,74.0,52.0],\"xaxis\":\"x\",\"y\":[20.5,17.5,14.5,17.5,12.5,14.0,19.5,14.5,19.0,23.5,14.5,18.0,19.5,18.0,21.0,15.5,19.5,15.5,14.0,15.5,14.0,16.5,15.5,14.5,15.5,14.0,16.0,16.5,14.0,15.0,17.0,14.5,13.5,15.5,16.9,15.3,14.2,12.2,15.7,21.9,16.7,18.6,14.5,14.1,12.8,21.5,15.9,13.6,15.7,15.8,14.9,14.0,20.1,24.8,14.7,14.7,15.8,21.7,23.7,19.9,21.8,17.3,15.3,15.1,14.2,15.8,20.4,19.6,15.3,24.6],\"yaxis\":\"y\",\"type\":\"scatter\"}],                        {\"template\":{\"data\":{\"histogram2dcontour\":[{\"type\":\"histogram2dcontour\",\"colorbar\":{\"outlinewidth\":0,\"ticks\":\"\"},\"colorscale\":[[0.0,\"#0d0887\"],[0.1111111111111111,\"#46039f\"],[0.2222222222222222,\"#7201a8\"],[0.3333333333333333,\"#9c179e\"],[0.4444444444444444,\"#bd3786\"],[0.5555555555555556,\"#d8576b\"],[0.6666666666666666,\"#ed7953\"],[0.7777777777777778,\"#fb9f3a\"],[0.8888888888888888,\"#fdca26\"],[1.0,\"#f0f921\"]]}],\"choropleth\":[{\"type\":\"choropleth\",\"colorbar\":{\"outlinewidth\":0,\"ticks\":\"\"}}],\"histogram2d\":[{\"type\":\"histogram2d\",\"colorbar\":{\"outlinewidth\":0,\"ticks\":\"\"},\"colorscale\":[[0.0,\"#0d0887\"],[0.1111111111111111,\"#46039f\"],[0.2222222222222222,\"#7201a8\"],[0.3333333333333333,\"#9c179e\"],[0.4444444444444444,\"#bd3786\"],[0.5555555555555556,\"#d8576b\"],[0.6666666666666666,\"#ed7953\"],[0.7777777777777778,\"#fb9f3a\"],[0.8888888888888888,\"#fdca26\"],[1.0,\"#f0f921\"]]}],\"heatmap\":[{\"type\":\"heatmap\",\"colorbar\":{\"outlinewidth\":0,\"ticks\":\"\"},\"colorscale\":[[0.0,\"#0d0887\"],[0.1111111111111111,\"#46039f\"],[0.2222222222222222,\"#7201a8\"],[0.3333333333333333,\"#9c179e\"],[0.4444444444444444,\"#bd3786\"],[0.5555555555555556,\"#d8576b\"],[0.6666666666666666,\"#ed7953\"],[0.7777777777777778,\"#fb9f3a\"],[0.8888888888888888,\"#fdca26\"],[1.0,\"#f0f921\"]]}],\"heatmapgl\":[{\"type\":\"heatmapgl\",\"colorbar\":{\"outlinewidth\":0,\"ticks\":\"\"},\"colorscale\":[[0.0,\"#0d0887\"],[0.1111111111111111,\"#46039f\"],[0.2222222222222222,\"#7201a8\"],[0.3333333333333333,\"#9c179e\"],[0.4444444444444444,\"#bd3786\"],[0.5555555555555556,\"#d8576b\"],[0.6666666666666666,\"#ed7953\"],[0.7777777777777778,\"#fb9f3a\"],[0.8888888888888888,\"#fdca26\"],[1.0,\"#f0f921\"]]}],\"contourcarpet\":[{\"type\":\"contourcarpet\",\"colorbar\":{\"outlinewidth\":0,\"ticks\":\"\"}}],\"contour\":[{\"type\":\"contour\",\"colorbar\":{\"outlinewidth\":0,\"ticks\":\"\"},\"colorscale\":[[0.0,\"#0d0887\"],[0.1111111111111111,\"#46039f\"],[0.2222222222222222,\"#7201a8\"],[0.3333333333333333,\"#9c179e\"],[0.4444444444444444,\"#bd3786\"],[0.5555555555555556,\"#d8576b\"],[0.6666666666666666,\"#ed7953\"],[0.7777777777777778,\"#fb9f3a\"],[0.8888888888888888,\"#fdca26\"],[1.0,\"#f0f921\"]]}],\"surface\":[{\"type\":\"surface\",\"colorbar\":{\"outlinewidth\":0,\"ticks\":\"\"},\"colorscale\":[[0.0,\"#0d0887\"],[0.1111111111111111,\"#46039f\"],[0.2222222222222222,\"#7201a8\"],[0.3333333333333333,\"#9c179e\"],[0.4444444444444444,\"#bd3786\"],[0.5555555555555556,\"#d8576b\"],[0.6666666666666666,\"#ed7953\"],[0.7777777777777778,\"#fb9f3a\"],[0.8888888888888888,\"#fdca26\"],[1.0,\"#f0f921\"]]}],\"mesh3d\":[{\"type\":\"mesh3d\",\"colorbar\":{\"outlinewidth\":0,\"ticks\":\"\"}}],\"scatter\":[{\"fillpattern\":{\"fillmode\":\"overlay\",\"size\":10,\"solidity\":0.2},\"type\":\"scatter\"}],\"parcoords\":[{\"type\":\"parcoords\",\"line\":{\"colorbar\":{\"outlinewidth\":0,\"ticks\":\"\"}}}],\"scatterpolargl\":[{\"type\":\"scatterpolargl\",\"marker\":{\"colorbar\":{\"outlinewidth\":0,\"ticks\":\"\"}}}],\"bar\":[{\"error_x\":{\"color\":\"#2a3f5f\"},\"error_y\":{\"color\":\"#2a3f5f\"},\"marker\":{\"line\":{\"color\":\"#E5ECF6\",\"width\":0.5},\"pattern\":{\"fillmode\":\"overlay\",\"size\":10,\"solidity\":0.2}},\"type\":\"bar\"}],\"scattergeo\":[{\"type\":\"scattergeo\",\"marker\":{\"colorbar\":{\"outlinewidth\":0,\"ticks\":\"\"}}}],\"scatterpolar\":[{\"type\":\"scatterpolar\",\"marker\":{\"colorbar\":{\"outlinewidth\":0,\"ticks\":\"\"}}}],\"histogram\":[{\"marker\":{\"pattern\":{\"fillmode\":\"overlay\",\"size\":10,\"solidity\":0.2}},\"type\":\"histogram\"}],\"scattergl\":[{\"type\":\"scattergl\",\"marker\":{\"colorbar\":{\"outlinewidth\":0,\"ticks\":\"\"}}}],\"scatter3d\":[{\"type\":\"scatter3d\",\"line\":{\"colorbar\":{\"outlinewidth\":0,\"ticks\":\"\"}},\"marker\":{\"colorbar\":{\"outlinewidth\":0,\"ticks\":\"\"}}}],\"scattermapbox\":[{\"type\":\"scattermapbox\",\"marker\":{\"colorbar\":{\"outlinewidth\":0,\"ticks\":\"\"}}}],\"scatterternary\":[{\"type\":\"scatterternary\",\"marker\":{\"colorbar\":{\"outlinewidth\":0,\"ticks\":\"\"}}}],\"scattercarpet\":[{\"type\":\"scattercarpet\",\"marker\":{\"colorbar\":{\"outlinewidth\":0,\"ticks\":\"\"}}}],\"carpet\":[{\"aaxis\":{\"endlinecolor\":\"#2a3f5f\",\"gridcolor\":\"white\",\"linecolor\":\"white\",\"minorgridcolor\":\"white\",\"startlinecolor\":\"#2a3f5f\"},\"baxis\":{\"endlinecolor\":\"#2a3f5f\",\"gridcolor\":\"white\",\"linecolor\":\"white\",\"minorgridcolor\":\"white\",\"startlinecolor\":\"#2a3f5f\"},\"type\":\"carpet\"}],\"table\":[{\"cells\":{\"fill\":{\"color\":\"#EBF0F8\"},\"line\":{\"color\":\"white\"}},\"header\":{\"fill\":{\"color\":\"#C8D4E3\"},\"line\":{\"color\":\"white\"}},\"type\":\"table\"}],\"barpolar\":[{\"marker\":{\"line\":{\"color\":\"#E5ECF6\",\"width\":0.5},\"pattern\":{\"fillmode\":\"overlay\",\"size\":10,\"solidity\":0.2}},\"type\":\"barpolar\"}],\"pie\":[{\"automargin\":true,\"type\":\"pie\"}]},\"layout\":{\"autotypenumbers\":\"strict\",\"colorway\":[\"#636efa\",\"#EF553B\",\"#00cc96\",\"#ab63fa\",\"#FFA15A\",\"#19d3f3\",\"#FF6692\",\"#B6E880\",\"#FF97FF\",\"#FECB52\"],\"font\":{\"color\":\"#2a3f5f\"},\"hovermode\":\"closest\",\"hoverlabel\":{\"align\":\"left\"},\"paper_bgcolor\":\"white\",\"plot_bgcolor\":\"#E5ECF6\",\"polar\":{\"bgcolor\":\"#E5ECF6\",\"angularaxis\":{\"gridcolor\":\"white\",\"linecolor\":\"white\",\"ticks\":\"\"},\"radialaxis\":{\"gridcolor\":\"white\",\"linecolor\":\"white\",\"ticks\":\"\"}},\"ternary\":{\"bgcolor\":\"#E5ECF6\",\"aaxis\":{\"gridcolor\":\"white\",\"linecolor\":\"white\",\"ticks\":\"\"},\"baxis\":{\"gridcolor\":\"white\",\"linecolor\":\"white\",\"ticks\":\"\"},\"caxis\":{\"gridcolor\":\"white\",\"linecolor\":\"white\",\"ticks\":\"\"}},\"coloraxis\":{\"colorbar\":{\"outlinewidth\":0,\"ticks\":\"\"}},\"colorscale\":{\"sequential\":[[0.0,\"#0d0887\"],[0.1111111111111111,\"#46039f\"],[0.2222222222222222,\"#7201a8\"],[0.3333333333333333,\"#9c179e\"],[0.4444444444444444,\"#bd3786\"],[0.5555555555555556,\"#d8576b\"],[0.6666666666666666,\"#ed7953\"],[0.7777777777777778,\"#fb9f3a\"],[0.8888888888888888,\"#fdca26\"],[1.0,\"#f0f921\"]],\"sequentialminus\":[[0.0,\"#0d0887\"],[0.1111111111111111,\"#46039f\"],[0.2222222222222222,\"#7201a8\"],[0.3333333333333333,\"#9c179e\"],[0.4444444444444444,\"#bd3786\"],[0.5555555555555556,\"#d8576b\"],[0.6666666666666666,\"#ed7953\"],[0.7777777777777778,\"#fb9f3a\"],[0.8888888888888888,\"#fdca26\"],[1.0,\"#f0f921\"]],\"diverging\":[[0,\"#8e0152\"],[0.1,\"#c51b7d\"],[0.2,\"#de77ae\"],[0.3,\"#f1b6da\"],[0.4,\"#fde0ef\"],[0.5,\"#f7f7f7\"],[0.6,\"#e6f5d0\"],[0.7,\"#b8e186\"],[0.8,\"#7fbc41\"],[0.9,\"#4d9221\"],[1,\"#276419\"]]},\"xaxis\":{\"gridcolor\":\"white\",\"linecolor\":\"white\",\"ticks\":\"\",\"title\":{\"standoff\":15},\"zerolinecolor\":\"white\",\"automargin\":true,\"zerolinewidth\":2},\"yaxis\":{\"gridcolor\":\"white\",\"linecolor\":\"white\",\"ticks\":\"\",\"title\":{\"standoff\":15},\"zerolinecolor\":\"white\",\"automargin\":true,\"zerolinewidth\":2},\"scene\":{\"xaxis\":{\"backgroundcolor\":\"#E5ECF6\",\"gridcolor\":\"white\",\"linecolor\":\"white\",\"showbackground\":true,\"ticks\":\"\",\"zerolinecolor\":\"white\",\"gridwidth\":2},\"yaxis\":{\"backgroundcolor\":\"#E5ECF6\",\"gridcolor\":\"white\",\"linecolor\":\"white\",\"showbackground\":true,\"ticks\":\"\",\"zerolinecolor\":\"white\",\"gridwidth\":2},\"zaxis\":{\"backgroundcolor\":\"#E5ECF6\",\"gridcolor\":\"white\",\"linecolor\":\"white\",\"showbackground\":true,\"ticks\":\"\",\"zerolinecolor\":\"white\",\"gridwidth\":2}},\"shapedefaults\":{\"line\":{\"color\":\"#2a3f5f\"}},\"annotationdefaults\":{\"arrowcolor\":\"#2a3f5f\",\"arrowhead\":0,\"arrowwidth\":1},\"geo\":{\"bgcolor\":\"white\",\"landcolor\":\"#E5ECF6\",\"subunitcolor\":\"white\",\"showland\":true,\"showlakes\":true,\"lakecolor\":\"white\"},\"title\":{\"x\":0.05},\"mapbox\":{\"style\":\"light\"}}},\"xaxis\":{\"anchor\":\"y\",\"domain\":[0.0,1.0],\"title\":{\"text\":\"horsepower\"}},\"yaxis\":{\"anchor\":\"x\",\"domain\":[0.0,1.0],\"title\":{\"text\":\"acceleration\"}},\"legend\":{\"title\":{\"text\":\"origin\"},\"tracegroupgap\":0},\"margin\":{\"t\":60}},                        {\"responsive\": true}                    ).then(function(){\n",
       "                            \n",
       "var gd = document.getElementById('716b3433-46c5-422a-8aac-9b0a56b318f8');\n",
       "var x = new MutationObserver(function (mutations, observer) {{\n",
       "        var display = window.getComputedStyle(gd).display;\n",
       "        if (!display || display === 'none') {{\n",
       "            console.log([gd, 'removed!']);\n",
       "            Plotly.purge(gd);\n",
       "            observer.disconnect();\n",
       "        }}\n",
       "}});\n",
       "\n",
       "// Listen for the removal of the full notebook cells\n",
       "var notebookContainer = gd.closest('#notebook-container');\n",
       "if (notebookContainer) {{\n",
       "    x.observe(notebookContainer, {childList: true});\n",
       "}}\n",
       "\n",
       "// Listen for the clearing of the current output cell\n",
       "var outputEl = gd.closest('.output');\n",
       "if (outputEl) {{\n",
       "    x.observe(outputEl, {childList: true});\n",
       "}}\n",
       "\n",
       "                        })                };                });            </script>        </div>"
      ]
     },
     "metadata": {},
     "output_type": "display_data"
    }
   ],
   "source": [
    "px.scatter(data_frame=df_cars, x = 'horsepower', y = 'acceleration', color = 'origin')"
   ]
  },
  {
   "cell_type": "markdown",
   "id": "66dae233-07ba-4dc7-9479-412582725cdc",
   "metadata": {},
   "source": [
    "### Change the size based on the mpg (miles per gallon)"
   ]
  },
  {
   "cell_type": "code",
   "execution_count": 13,
   "id": "e1d195a9-f820-44f1-b171-671556cb4811",
   "metadata": {},
   "outputs": [
    {
     "data": {
      "application/vnd.plotly.v1+json": {
       "config": {
        "plotlyServerURL": "https://plot.ly"
       },
       "data": [
        {
         "hovertemplate": "origin=usa<br>horsepower=%{x}<br>acceleration=%{y}<br>mpg=%{marker.size}<extra></extra>",
         "legendgroup": "usa",
         "marker": {
          "color": "#636efa",
          "size": [
           18,
           15,
           18,
           16,
           17,
           15,
           14,
           14,
           14,
           15,
           15,
           14,
           15,
           14,
           22,
           18,
           21,
           21,
           10,
           10,
           11,
           9,
           28,
           25,
           19,
           16,
           17,
           19,
           18,
           14,
           14,
           14,
           14,
           12,
           13,
           13,
           18,
           22,
           19,
           18,
           23,
           26,
           25,
           20,
           21,
           13,
           14,
           15,
           14,
           17,
           11,
           13,
           12,
           13,
           15,
           13,
           13,
           14,
           22,
           28,
           13,
           14,
           13,
           14,
           15,
           12,
           13,
           13,
           14,
           13,
           12,
           13,
           18,
           16,
           18,
           18,
           23,
           11,
           12,
           13,
           12,
           18,
           21,
           19,
           21,
           15,
           16,
           15,
           11,
           20,
           21,
           19,
           15,
           26,
           25,
           16,
           16,
           18,
           16,
           13,
           14,
           14,
           14,
           28,
           19,
           18,
           15,
           15,
           16,
           15,
           16,
           14,
           17,
           16,
           15,
           18,
           21,
           20,
           13,
           23,
           20,
           23,
           18,
           19,
           25,
           26,
           17.5,
           16,
           15.5,
           14.5,
           22,
           22,
           24,
           22.5,
           29,
           24.5,
           20,
           18,
           18.5,
           17.5,
           26.5,
           13,
           16.5,
           13,
           13,
           13,
           30,
           25.5,
           17.5,
           17,
           15.5,
           15,
           17.5,
           20.5,
           19,
           18.5,
           16,
           15.5,
           15.5,
           16,
           24.5,
           25.5,
           30.5,
           33.5,
           36.1,
           19.9,
           19.4,
           20.2,
           19.2,
           20.5,
           20.2,
           25.1,
           20.5,
           19.4,
           20.6,
           20.8,
           18.6,
           18.1,
           19.2,
           17.7,
           18.1,
           17.5,
           30,
           30.9,
           23.2,
           23.8,
           21.5,
           19.8,
           22.3,
           20.2,
           20.6,
           17,
           17.6,
           16.5,
           18.2,
           16.9,
           15.5,
           19.2,
           18.5,
           35.7,
           27.4,
           23,
           23.9,
           34.2,
           34.5,
           28.4,
           28.8,
           26.8,
           33.5,
           32.1,
           28,
           26.4,
           24.3,
           19.1,
           27.9,
           23.6,
           27.2,
           26.6,
           25.8,
           23.5,
           30,
           39,
           34.7,
           34.4,
           29.9,
           22.4,
           26.6,
           20.2,
           17.6,
           28,
           27,
           34,
           31,
           29,
           27,
           24,
           23,
           38,
           36,
           25,
           38,
           26,
           22,
           36,
           27,
           27,
           32,
           28,
           31
          ],
          "sizemode": "area",
          "sizeref": 0.1165,
          "symbol": "circle"
         },
         "mode": "markers",
         "name": "usa",
         "orientation": "v",
         "showlegend": true,
         "type": "scatter",
         "x": [
          130,
          165,
          150,
          150,
          140,
          198,
          220,
          215,
          225,
          190,
          170,
          160,
          150,
          225,
          95,
          97,
          85,
          90,
          215,
          200,
          210,
          193,
          90,
          null,
          100,
          105,
          100,
          88,
          100,
          165,
          175,
          153,
          150,
          180,
          170,
          175,
          110,
          72,
          100,
          88,
          86,
          70,
          80,
          90,
          86,
          165,
          175,
          150,
          153,
          150,
          208,
          155,
          160,
          190,
          150,
          130,
          140,
          150,
          86,
          80,
          175,
          150,
          145,
          137,
          150,
          198,
          150,
          158,
          150,
          215,
          225,
          175,
          105,
          100,
          100,
          88,
          95,
          150,
          167,
          170,
          180,
          100,
          72,
          85,
          107,
          145,
          230,
          150,
          180,
          95,
          null,
          100,
          100,
          80,
          75,
          100,
          110,
          105,
          140,
          150,
          150,
          140,
          150,
          75,
          95,
          105,
          72,
          72,
          170,
          145,
          150,
          148,
          110,
          105,
          110,
          95,
          110,
          110,
          129,
          83,
          100,
          78,
          97,
          90,
          92,
          79,
          140,
          150,
          120,
          152,
          100,
          105,
          81,
          90,
          52,
          60,
          100,
          78,
          110,
          95,
          72,
          150,
          180,
          145,
          130,
          150,
          80,
          96,
          145,
          110,
          145,
          130,
          110,
          105,
          100,
          98,
          180,
          170,
          190,
          149,
          88,
          89,
          63,
          83,
          66,
          110,
          140,
          139,
          105,
          95,
          85,
          88,
          100,
          90,
          105,
          85,
          110,
          120,
          145,
          165,
          139,
          140,
          68,
          75,
          105,
          85,
          115,
          85,
          88,
          90,
          110,
          130,
          129,
          138,
          135,
          155,
          142,
          125,
          150,
          80,
          80,
          125,
          90,
          70,
          70,
          90,
          115,
          115,
          90,
          70,
          90,
          88,
          90,
          90,
          105,
          null,
          84,
          84,
          92,
          110,
          84,
          64,
          63,
          65,
          65,
          110,
          105,
          88,
          85,
          88,
          88,
          88,
          85,
          84,
          90,
          92,
          null,
          63,
          70,
          110,
          85,
          92,
          112,
          84,
          90,
          86,
          84,
          79,
          82
         ],
         "xaxis": "x",
         "y": [
          12,
          11.5,
          11,
          12,
          10.5,
          10,
          9,
          8.5,
          10,
          8.5,
          10,
          8,
          9.5,
          10,
          15.5,
          15.5,
          16,
          15,
          14,
          15,
          13.5,
          18.5,
          15.5,
          19,
          13,
          15.5,
          15.5,
          15.5,
          15.5,
          12,
          11.5,
          13.5,
          13,
          11.5,
          12,
          12,
          13.5,
          19,
          15,
          14.5,
          14,
          20.5,
          17,
          19.5,
          16.5,
          12,
          12,
          13.5,
          13,
          11.5,
          11,
          13.5,
          13.5,
          12.5,
          12.5,
          14,
          16,
          14,
          16,
          15,
          13,
          11.5,
          13,
          14.5,
          12.5,
          11.5,
          12,
          13,
          14.5,
          11,
          11,
          11,
          16.5,
          18,
          16,
          16.5,
          16,
          14,
          12.5,
          13,
          12.5,
          15,
          19.5,
          18.5,
          14,
          13,
          9.5,
          11,
          11,
          16.5,
          17,
          16,
          17,
          16.5,
          17,
          17,
          18,
          16.5,
          14,
          14.5,
          13.5,
          16,
          15.5,
          14.5,
          16,
          16,
          21,
          19.5,
          11.5,
          14,
          14.5,
          13.5,
          21,
          18.5,
          19,
          19,
          15,
          13.5,
          12,
          17,
          16,
          18.5,
          14.5,
          17,
          14.9,
          17.7,
          13,
          13,
          13.9,
          12.8,
          15.4,
          14.5,
          17.6,
          17.6,
          22.2,
          22.1,
          17.7,
          21,
          16.2,
          17.8,
          13.6,
          13.2,
          12.1,
          12,
          15,
          14,
          14.8,
          15.5,
          12.5,
          19,
          13.7,
          14.9,
          16.4,
          16.9,
          17.7,
          19,
          11.1,
          11.4,
          12.2,
          14.5,
          16,
          15.8,
          17,
          15.9,
          14.4,
          15.5,
          13.2,
          12.8,
          19.2,
          18.2,
          15.8,
          15.4,
          17.2,
          17.2,
          15.8,
          16.7,
          18.7,
          15.1,
          13.2,
          13.4,
          11.2,
          13.7,
          16.5,
          14.5,
          16.7,
          17.6,
          15.4,
          18.2,
          17.3,
          18.2,
          16.6,
          15.4,
          13.4,
          13.2,
          15.2,
          14.9,
          14.3,
          15,
          13,
          14.4,
          15,
          17.4,
          22.2,
          13.2,
          14.9,
          16,
          11.3,
          12.9,
          13.2,
          15.5,
          16.5,
          18.1,
          20.1,
          18.7,
          14.4,
          14.3,
          15.7,
          16.4,
          14.4,
          12.6,
          12.9,
          16.4,
          14.9,
          16.2,
          20.7,
          15.8,
          19,
          17.1,
          16.6,
          19.6,
          18.6,
          18,
          16.2,
          16,
          18,
          16.4,
          20.5,
          14.7,
          17.3,
          16.4,
          17,
          14.5,
          14.7,
          13,
          17.3,
          15.6,
          11.6,
          18.6,
          19.4
         ],
         "yaxis": "y"
        },
        {
         "hovertemplate": "origin=japan<br>horsepower=%{x}<br>acceleration=%{y}<br>mpg=%{marker.size}<extra></extra>",
         "legendgroup": "japan",
         "marker": {
          "color": "#EF553B",
          "size": [
           24,
           27,
           27,
           25,
           31,
           35,
           24,
           19,
           28,
           23,
           27,
           20,
           22,
           18,
           20,
           31,
           32,
           31,
           32,
           24,
           26,
           29,
           24,
           24,
           33,
           33,
           32,
           28,
           19,
           31.5,
           33.5,
           26,
           30,
           22,
           21.5,
           32.8,
           39.4,
           36.1,
           27.5,
           27.2,
           21.1,
           23.9,
           29.5,
           34.1,
           31.8,
           38.1,
           37.2,
           29.8,
           31.3,
           37,
           32.2,
           46.6,
           40.8,
           44.6,
           33.8,
           32.7,
           23.7,
           32.4,
           39.1,
           35.1,
           32.3,
           37,
           37.7,
           34.1,
           33.7,
           32.4,
           32.9,
           31.6,
           25.4,
           24.2,
           37,
           31,
           36,
           36,
           34,
           38,
           32,
           38,
           32
          ],
          "sizemode": "area",
          "sizeref": 0.1165,
          "symbol": "circle"
         },
         "mode": "markers",
         "name": "japan",
         "orientation": "v",
         "showlegend": true,
         "type": "scatter",
         "x": [
          95,
          88,
          88,
          95,
          65,
          69,
          95,
          97,
          92,
          97,
          88,
          88,
          94,
          90,
          122,
          67,
          65,
          52,
          61,
          97,
          93,
          75,
          96,
          97,
          53,
          53,
          70,
          75,
          108,
          68,
          70,
          75,
          67,
          97,
          110,
          52,
          70,
          60,
          95,
          97,
          95,
          97,
          68,
          65,
          65,
          60,
          65,
          90,
          75,
          92,
          75,
          65,
          65,
          67,
          67,
          132,
          100,
          72,
          58,
          60,
          67,
          65,
          62,
          68,
          75,
          75,
          100,
          74,
          116,
          120,
          68,
          68,
          88,
          75,
          70,
          67,
          67,
          67,
          96
         ],
         "xaxis": "x",
         "y": [
          15,
          14.5,
          14.5,
          14,
          19,
          18,
          15.5,
          13.5,
          17,
          14.5,
          16.5,
          19,
          16.5,
          13.5,
          13.5,
          19,
          21,
          16.5,
          19,
          15,
          15.5,
          16,
          13.5,
          17,
          17.5,
          17.4,
          17,
          16.4,
          15.5,
          18.5,
          16.8,
          18.2,
          16.4,
          14.5,
          13.5,
          19.4,
          18.6,
          16.4,
          14.2,
          14.7,
          14.8,
          14.9,
          16.6,
          15.2,
          19.2,
          18.8,
          16.4,
          15.5,
          17.5,
          15,
          15.2,
          17.9,
          19.2,
          13.8,
          18,
          11.4,
          12.5,
          17,
          16.9,
          16.1,
          17.8,
          19.4,
          17.3,
          16,
          14.4,
          16.8,
          14.8,
          18.3,
          12.6,
          13.8,
          18.2,
          17.6,
          14.5,
          14.5,
          16.9,
          15,
          15.7,
          16.2,
          13.9
         ],
         "yaxis": "y"
        },
        {
         "hovertemplate": "origin=europe<br>horsepower=%{x}<br>acceleration=%{y}<br>mpg=%{marker.size}<extra></extra>",
         "legendgroup": "europe",
         "marker": {
          "color": "#00cc96",
          "size": [
           26,
           25,
           24,
           25,
           26,
           28,
           30,
           30,
           27,
           23,
           18,
           22,
           21,
           26,
           26,
           26,
           29,
           24,
           20,
           19,
           24,
           29,
           26,
           26,
           24,
           26,
           31,
           25,
           29,
           23,
           23,
           22,
           25,
           28,
           25,
           27,
           29,
           29.5,
           20,
           19,
           16.5,
           36,
           29,
           30.5,
           21.5,
           43.1,
           20.3,
           17,
           21.6,
           16.2,
           31.5,
           31.9,
           25.4,
           27.2,
           37.3,
           41.5,
           34.3,
           44.3,
           43.4,
           36.4,
           30,
           40.9,
           29.8,
           35,
           33,
           34.5,
           28.1,
           30.7,
           36,
           44
          ],
          "sizemode": "area",
          "sizeref": 0.1165,
          "symbol": "circle"
         },
         "mode": "markers",
         "name": "europe",
         "orientation": "v",
         "showlegend": true,
         "type": "scatter",
         "x": [
          46,
          87,
          90,
          95,
          113,
          90,
          70,
          76,
          60,
          54,
          112,
          76,
          87,
          69,
          46,
          90,
          49,
          75,
          91,
          112,
          110,
          83,
          67,
          78,
          75,
          75,
          67,
          71,
          70,
          95,
          88,
          98,
          115,
          86,
          81,
          83,
          70,
          71,
          102,
          88,
          120,
          58,
          78,
          78,
          110,
          48,
          103,
          125,
          115,
          133,
          71,
          71,
          77,
          71,
          69,
          76,
          78,
          48,
          48,
          67,
          67,
          null,
          62,
          88,
          74,
          null,
          80,
          76,
          74,
          52
         ],
         "xaxis": "x",
         "y": [
          20.5,
          17.5,
          14.5,
          17.5,
          12.5,
          14,
          19.5,
          14.5,
          19,
          23.5,
          14.5,
          18,
          19.5,
          18,
          21,
          15.5,
          19.5,
          15.5,
          14,
          15.5,
          14,
          16.5,
          15.5,
          14.5,
          15.5,
          14,
          16,
          16.5,
          14,
          15,
          17,
          14.5,
          13.5,
          15.5,
          16.9,
          15.3,
          14.2,
          12.2,
          15.7,
          21.9,
          16.7,
          18.6,
          14.5,
          14.1,
          12.8,
          21.5,
          15.9,
          13.6,
          15.7,
          15.8,
          14.9,
          14,
          20.1,
          24.8,
          14.7,
          14.7,
          15.8,
          21.7,
          23.7,
          19.9,
          21.8,
          17.3,
          15.3,
          15.1,
          14.2,
          15.8,
          20.4,
          19.6,
          15.3,
          24.6
         ],
         "yaxis": "y"
        }
       ],
       "layout": {
        "autosize": true,
        "legend": {
         "itemsizing": "constant",
         "title": {
          "text": "origin"
         },
         "tracegroupgap": 0
        },
        "margin": {
         "t": 60
        },
        "template": {
         "data": {
          "bar": [
           {
            "error_x": {
             "color": "#2a3f5f"
            },
            "error_y": {
             "color": "#2a3f5f"
            },
            "marker": {
             "line": {
              "color": "#E5ECF6",
              "width": 0.5
             },
             "pattern": {
              "fillmode": "overlay",
              "size": 10,
              "solidity": 0.2
             }
            },
            "type": "bar"
           }
          ],
          "barpolar": [
           {
            "marker": {
             "line": {
              "color": "#E5ECF6",
              "width": 0.5
             },
             "pattern": {
              "fillmode": "overlay",
              "size": 10,
              "solidity": 0.2
             }
            },
            "type": "barpolar"
           }
          ],
          "carpet": [
           {
            "aaxis": {
             "endlinecolor": "#2a3f5f",
             "gridcolor": "white",
             "linecolor": "white",
             "minorgridcolor": "white",
             "startlinecolor": "#2a3f5f"
            },
            "baxis": {
             "endlinecolor": "#2a3f5f",
             "gridcolor": "white",
             "linecolor": "white",
             "minorgridcolor": "white",
             "startlinecolor": "#2a3f5f"
            },
            "type": "carpet"
           }
          ],
          "choropleth": [
           {
            "colorbar": {
             "outlinewidth": 0,
             "ticks": ""
            },
            "type": "choropleth"
           }
          ],
          "contour": [
           {
            "colorbar": {
             "outlinewidth": 0,
             "ticks": ""
            },
            "colorscale": [
             [
              0,
              "#0d0887"
             ],
             [
              0.1111111111111111,
              "#46039f"
             ],
             [
              0.2222222222222222,
              "#7201a8"
             ],
             [
              0.3333333333333333,
              "#9c179e"
             ],
             [
              0.4444444444444444,
              "#bd3786"
             ],
             [
              0.5555555555555556,
              "#d8576b"
             ],
             [
              0.6666666666666666,
              "#ed7953"
             ],
             [
              0.7777777777777778,
              "#fb9f3a"
             ],
             [
              0.8888888888888888,
              "#fdca26"
             ],
             [
              1,
              "#f0f921"
             ]
            ],
            "type": "contour"
           }
          ],
          "contourcarpet": [
           {
            "colorbar": {
             "outlinewidth": 0,
             "ticks": ""
            },
            "type": "contourcarpet"
           }
          ],
          "heatmap": [
           {
            "colorbar": {
             "outlinewidth": 0,
             "ticks": ""
            },
            "colorscale": [
             [
              0,
              "#0d0887"
             ],
             [
              0.1111111111111111,
              "#46039f"
             ],
             [
              0.2222222222222222,
              "#7201a8"
             ],
             [
              0.3333333333333333,
              "#9c179e"
             ],
             [
              0.4444444444444444,
              "#bd3786"
             ],
             [
              0.5555555555555556,
              "#d8576b"
             ],
             [
              0.6666666666666666,
              "#ed7953"
             ],
             [
              0.7777777777777778,
              "#fb9f3a"
             ],
             [
              0.8888888888888888,
              "#fdca26"
             ],
             [
              1,
              "#f0f921"
             ]
            ],
            "type": "heatmap"
           }
          ],
          "heatmapgl": [
           {
            "colorbar": {
             "outlinewidth": 0,
             "ticks": ""
            },
            "colorscale": [
             [
              0,
              "#0d0887"
             ],
             [
              0.1111111111111111,
              "#46039f"
             ],
             [
              0.2222222222222222,
              "#7201a8"
             ],
             [
              0.3333333333333333,
              "#9c179e"
             ],
             [
              0.4444444444444444,
              "#bd3786"
             ],
             [
              0.5555555555555556,
              "#d8576b"
             ],
             [
              0.6666666666666666,
              "#ed7953"
             ],
             [
              0.7777777777777778,
              "#fb9f3a"
             ],
             [
              0.8888888888888888,
              "#fdca26"
             ],
             [
              1,
              "#f0f921"
             ]
            ],
            "type": "heatmapgl"
           }
          ],
          "histogram": [
           {
            "marker": {
             "pattern": {
              "fillmode": "overlay",
              "size": 10,
              "solidity": 0.2
             }
            },
            "type": "histogram"
           }
          ],
          "histogram2d": [
           {
            "colorbar": {
             "outlinewidth": 0,
             "ticks": ""
            },
            "colorscale": [
             [
              0,
              "#0d0887"
             ],
             [
              0.1111111111111111,
              "#46039f"
             ],
             [
              0.2222222222222222,
              "#7201a8"
             ],
             [
              0.3333333333333333,
              "#9c179e"
             ],
             [
              0.4444444444444444,
              "#bd3786"
             ],
             [
              0.5555555555555556,
              "#d8576b"
             ],
             [
              0.6666666666666666,
              "#ed7953"
             ],
             [
              0.7777777777777778,
              "#fb9f3a"
             ],
             [
              0.8888888888888888,
              "#fdca26"
             ],
             [
              1,
              "#f0f921"
             ]
            ],
            "type": "histogram2d"
           }
          ],
          "histogram2dcontour": [
           {
            "colorbar": {
             "outlinewidth": 0,
             "ticks": ""
            },
            "colorscale": [
             [
              0,
              "#0d0887"
             ],
             [
              0.1111111111111111,
              "#46039f"
             ],
             [
              0.2222222222222222,
              "#7201a8"
             ],
             [
              0.3333333333333333,
              "#9c179e"
             ],
             [
              0.4444444444444444,
              "#bd3786"
             ],
             [
              0.5555555555555556,
              "#d8576b"
             ],
             [
              0.6666666666666666,
              "#ed7953"
             ],
             [
              0.7777777777777778,
              "#fb9f3a"
             ],
             [
              0.8888888888888888,
              "#fdca26"
             ],
             [
              1,
              "#f0f921"
             ]
            ],
            "type": "histogram2dcontour"
           }
          ],
          "mesh3d": [
           {
            "colorbar": {
             "outlinewidth": 0,
             "ticks": ""
            },
            "type": "mesh3d"
           }
          ],
          "parcoords": [
           {
            "line": {
             "colorbar": {
              "outlinewidth": 0,
              "ticks": ""
             }
            },
            "type": "parcoords"
           }
          ],
          "pie": [
           {
            "automargin": true,
            "type": "pie"
           }
          ],
          "scatter": [
           {
            "fillpattern": {
             "fillmode": "overlay",
             "size": 10,
             "solidity": 0.2
            },
            "type": "scatter"
           }
          ],
          "scatter3d": [
           {
            "line": {
             "colorbar": {
              "outlinewidth": 0,
              "ticks": ""
             }
            },
            "marker": {
             "colorbar": {
              "outlinewidth": 0,
              "ticks": ""
             }
            },
            "type": "scatter3d"
           }
          ],
          "scattercarpet": [
           {
            "marker": {
             "colorbar": {
              "outlinewidth": 0,
              "ticks": ""
             }
            },
            "type": "scattercarpet"
           }
          ],
          "scattergeo": [
           {
            "marker": {
             "colorbar": {
              "outlinewidth": 0,
              "ticks": ""
             }
            },
            "type": "scattergeo"
           }
          ],
          "scattergl": [
           {
            "marker": {
             "colorbar": {
              "outlinewidth": 0,
              "ticks": ""
             }
            },
            "type": "scattergl"
           }
          ],
          "scattermapbox": [
           {
            "marker": {
             "colorbar": {
              "outlinewidth": 0,
              "ticks": ""
             }
            },
            "type": "scattermapbox"
           }
          ],
          "scatterpolar": [
           {
            "marker": {
             "colorbar": {
              "outlinewidth": 0,
              "ticks": ""
             }
            },
            "type": "scatterpolar"
           }
          ],
          "scatterpolargl": [
           {
            "marker": {
             "colorbar": {
              "outlinewidth": 0,
              "ticks": ""
             }
            },
            "type": "scatterpolargl"
           }
          ],
          "scatterternary": [
           {
            "marker": {
             "colorbar": {
              "outlinewidth": 0,
              "ticks": ""
             }
            },
            "type": "scatterternary"
           }
          ],
          "surface": [
           {
            "colorbar": {
             "outlinewidth": 0,
             "ticks": ""
            },
            "colorscale": [
             [
              0,
              "#0d0887"
             ],
             [
              0.1111111111111111,
              "#46039f"
             ],
             [
              0.2222222222222222,
              "#7201a8"
             ],
             [
              0.3333333333333333,
              "#9c179e"
             ],
             [
              0.4444444444444444,
              "#bd3786"
             ],
             [
              0.5555555555555556,
              "#d8576b"
             ],
             [
              0.6666666666666666,
              "#ed7953"
             ],
             [
              0.7777777777777778,
              "#fb9f3a"
             ],
             [
              0.8888888888888888,
              "#fdca26"
             ],
             [
              1,
              "#f0f921"
             ]
            ],
            "type": "surface"
           }
          ],
          "table": [
           {
            "cells": {
             "fill": {
              "color": "#EBF0F8"
             },
             "line": {
              "color": "white"
             }
            },
            "header": {
             "fill": {
              "color": "#C8D4E3"
             },
             "line": {
              "color": "white"
             }
            },
            "type": "table"
           }
          ]
         },
         "layout": {
          "annotationdefaults": {
           "arrowcolor": "#2a3f5f",
           "arrowhead": 0,
           "arrowwidth": 1
          },
          "autotypenumbers": "strict",
          "coloraxis": {
           "colorbar": {
            "outlinewidth": 0,
            "ticks": ""
           }
          },
          "colorscale": {
           "diverging": [
            [
             0,
             "#8e0152"
            ],
            [
             0.1,
             "#c51b7d"
            ],
            [
             0.2,
             "#de77ae"
            ],
            [
             0.3,
             "#f1b6da"
            ],
            [
             0.4,
             "#fde0ef"
            ],
            [
             0.5,
             "#f7f7f7"
            ],
            [
             0.6,
             "#e6f5d0"
            ],
            [
             0.7,
             "#b8e186"
            ],
            [
             0.8,
             "#7fbc41"
            ],
            [
             0.9,
             "#4d9221"
            ],
            [
             1,
             "#276419"
            ]
           ],
           "sequential": [
            [
             0,
             "#0d0887"
            ],
            [
             0.1111111111111111,
             "#46039f"
            ],
            [
             0.2222222222222222,
             "#7201a8"
            ],
            [
             0.3333333333333333,
             "#9c179e"
            ],
            [
             0.4444444444444444,
             "#bd3786"
            ],
            [
             0.5555555555555556,
             "#d8576b"
            ],
            [
             0.6666666666666666,
             "#ed7953"
            ],
            [
             0.7777777777777778,
             "#fb9f3a"
            ],
            [
             0.8888888888888888,
             "#fdca26"
            ],
            [
             1,
             "#f0f921"
            ]
           ],
           "sequentialminus": [
            [
             0,
             "#0d0887"
            ],
            [
             0.1111111111111111,
             "#46039f"
            ],
            [
             0.2222222222222222,
             "#7201a8"
            ],
            [
             0.3333333333333333,
             "#9c179e"
            ],
            [
             0.4444444444444444,
             "#bd3786"
            ],
            [
             0.5555555555555556,
             "#d8576b"
            ],
            [
             0.6666666666666666,
             "#ed7953"
            ],
            [
             0.7777777777777778,
             "#fb9f3a"
            ],
            [
             0.8888888888888888,
             "#fdca26"
            ],
            [
             1,
             "#f0f921"
            ]
           ]
          },
          "colorway": [
           "#636efa",
           "#EF553B",
           "#00cc96",
           "#ab63fa",
           "#FFA15A",
           "#19d3f3",
           "#FF6692",
           "#B6E880",
           "#FF97FF",
           "#FECB52"
          ],
          "font": {
           "color": "#2a3f5f"
          },
          "geo": {
           "bgcolor": "white",
           "lakecolor": "white",
           "landcolor": "#E5ECF6",
           "showlakes": true,
           "showland": true,
           "subunitcolor": "white"
          },
          "hoverlabel": {
           "align": "left"
          },
          "hovermode": "closest",
          "mapbox": {
           "style": "light"
          },
          "paper_bgcolor": "white",
          "plot_bgcolor": "#E5ECF6",
          "polar": {
           "angularaxis": {
            "gridcolor": "white",
            "linecolor": "white",
            "ticks": ""
           },
           "bgcolor": "#E5ECF6",
           "radialaxis": {
            "gridcolor": "white",
            "linecolor": "white",
            "ticks": ""
           }
          },
          "scene": {
           "xaxis": {
            "backgroundcolor": "#E5ECF6",
            "gridcolor": "white",
            "gridwidth": 2,
            "linecolor": "white",
            "showbackground": true,
            "ticks": "",
            "zerolinecolor": "white"
           },
           "yaxis": {
            "backgroundcolor": "#E5ECF6",
            "gridcolor": "white",
            "gridwidth": 2,
            "linecolor": "white",
            "showbackground": true,
            "ticks": "",
            "zerolinecolor": "white"
           },
           "zaxis": {
            "backgroundcolor": "#E5ECF6",
            "gridcolor": "white",
            "gridwidth": 2,
            "linecolor": "white",
            "showbackground": true,
            "ticks": "",
            "zerolinecolor": "white"
           }
          },
          "shapedefaults": {
           "line": {
            "color": "#2a3f5f"
           }
          },
          "ternary": {
           "aaxis": {
            "gridcolor": "white",
            "linecolor": "white",
            "ticks": ""
           },
           "baxis": {
            "gridcolor": "white",
            "linecolor": "white",
            "ticks": ""
           },
           "bgcolor": "#E5ECF6",
           "caxis": {
            "gridcolor": "white",
            "linecolor": "white",
            "ticks": ""
           }
          },
          "title": {
           "x": 0.05
          },
          "xaxis": {
           "automargin": true,
           "gridcolor": "white",
           "linecolor": "white",
           "ticks": "",
           "title": {
            "standoff": 15
           },
           "zerolinecolor": "white",
           "zerolinewidth": 2
          },
          "yaxis": {
           "automargin": true,
           "gridcolor": "white",
           "linecolor": "white",
           "ticks": "",
           "title": {
            "standoff": 15
           },
           "zerolinecolor": "white",
           "zerolinewidth": 2
          }
         }
        },
        "xaxis": {
         "anchor": "y",
         "autorange": true,
         "domain": [
          0,
          1
         ],
         "range": [
          33.55613383191409,
          242.0082124834925
         ],
         "title": {
          "text": "horsepower"
         },
         "type": "linear"
        },
        "yaxis": {
         "anchor": "x",
         "autorange": true,
         "domain": [
          0,
          1
         ],
         "range": [
          6.123447776253336,
          27.115622838024297
         ],
         "title": {
          "text": "acceleration"
         },
         "type": "linear"
        }
       }
      },
      "image/png": "[encoded data removed]",
      "text/html": [
       "<div>                            <div id=\"9127c2c0-d78f-464c-9ed8-9a04da7fb45b\" class=\"plotly-graph-div\" style=\"height:525px; width:100%;\"></div>            <script type=\"text/javascript\">                require([\"plotly\"], function(Plotly) {                    window.PLOTLYENV=window.PLOTLYENV || {};                                    if (document.getElementById(\"9127c2c0-d78f-464c-9ed8-9a04da7fb45b\")) {                    Plotly.newPlot(                        \"9127c2c0-d78f-464c-9ed8-9a04da7fb45b\",                        [{\"hovertemplate\":\"origin=usa\\u003cbr\\u003ehorsepower=%{x}\\u003cbr\\u003eacceleration=%{y}\\u003cbr\\u003empg=%{marker.size}\\u003cextra\\u003e\\u003c\\u002fextra\\u003e\",\"legendgroup\":\"usa\",\"marker\":{\"color\":\"#636efa\",\"size\":[18.0,15.0,18.0,16.0,17.0,15.0,14.0,14.0,14.0,15.0,15.0,14.0,15.0,14.0,22.0,18.0,21.0,21.0,10.0,10.0,11.0,9.0,28.0,25.0,19.0,16.0,17.0,19.0,18.0,14.0,14.0,14.0,14.0,12.0,13.0,13.0,18.0,22.0,19.0,18.0,23.0,26.0,25.0,20.0,21.0,13.0,14.0,15.0,14.0,17.0,11.0,13.0,12.0,13.0,15.0,13.0,13.0,14.0,22.0,28.0,13.0,14.0,13.0,14.0,15.0,12.0,13.0,13.0,14.0,13.0,12.0,13.0,18.0,16.0,18.0,18.0,23.0,11.0,12.0,13.0,12.0,18.0,21.0,19.0,21.0,15.0,16.0,15.0,11.0,20.0,21.0,19.0,15.0,26.0,25.0,16.0,16.0,18.0,16.0,13.0,14.0,14.0,14.0,28.0,19.0,18.0,15.0,15.0,16.0,15.0,16.0,14.0,17.0,16.0,15.0,18.0,21.0,20.0,13.0,23.0,20.0,23.0,18.0,19.0,25.0,26.0,17.5,16.0,15.5,14.5,22.0,22.0,24.0,22.5,29.0,24.5,20.0,18.0,18.5,17.5,26.5,13.0,16.5,13.0,13.0,13.0,30.0,25.5,17.5,17.0,15.5,15.0,17.5,20.5,19.0,18.5,16.0,15.5,15.5,16.0,24.5,25.5,30.5,33.5,36.1,19.9,19.4,20.2,19.2,20.5,20.2,25.1,20.5,19.4,20.6,20.8,18.6,18.1,19.2,17.7,18.1,17.5,30.0,30.9,23.2,23.8,21.5,19.8,22.3,20.2,20.6,17.0,17.6,16.5,18.2,16.9,15.5,19.2,18.5,35.7,27.4,23.0,23.9,34.2,34.5,28.4,28.8,26.8,33.5,32.1,28.0,26.4,24.3,19.1,27.9,23.6,27.2,26.6,25.8,23.5,30.0,39.0,34.7,34.4,29.9,22.4,26.6,20.2,17.6,28.0,27.0,34.0,31.0,29.0,27.0,24.0,23.0,38.0,36.0,25.0,38.0,26.0,22.0,36.0,27.0,27.0,32.0,28.0,31.0],\"sizemode\":\"area\",\"sizeref\":0.1165,\"symbol\":\"circle\"},\"mode\":\"markers\",\"name\":\"usa\",\"orientation\":\"v\",\"showlegend\":true,\"x\":[130.0,165.0,150.0,150.0,140.0,198.0,220.0,215.0,225.0,190.0,170.0,160.0,150.0,225.0,95.0,97.0,85.0,90.0,215.0,200.0,210.0,193.0,90.0,null,100.0,105.0,100.0,88.0,100.0,165.0,175.0,153.0,150.0,180.0,170.0,175.0,110.0,72.0,100.0,88.0,86.0,70.0,80.0,90.0,86.0,165.0,175.0,150.0,153.0,150.0,208.0,155.0,160.0,190.0,150.0,130.0,140.0,150.0,86.0,80.0,175.0,150.0,145.0,137.0,150.0,198.0,150.0,158.0,150.0,215.0,225.0,175.0,105.0,100.0,100.0,88.0,95.0,150.0,167.0,170.0,180.0,100.0,72.0,85.0,107.0,145.0,230.0,150.0,180.0,95.0,null,100.0,100.0,80.0,75.0,100.0,110.0,105.0,140.0,150.0,150.0,140.0,150.0,75.0,95.0,105.0,72.0,72.0,170.0,145.0,150.0,148.0,110.0,105.0,110.0,95.0,110.0,110.0,129.0,83.0,100.0,78.0,97.0,90.0,92.0,79.0,140.0,150.0,120.0,152.0,100.0,105.0,81.0,90.0,52.0,60.0,100.0,78.0,110.0,95.0,72.0,150.0,180.0,145.0,130.0,150.0,80.0,96.0,145.0,110.0,145.0,130.0,110.0,105.0,100.0,98.0,180.0,170.0,190.0,149.0,88.0,89.0,63.0,83.0,66.0,110.0,140.0,139.0,105.0,95.0,85.0,88.0,100.0,90.0,105.0,85.0,110.0,120.0,145.0,165.0,139.0,140.0,68.0,75.0,105.0,85.0,115.0,85.0,88.0,90.0,110.0,130.0,129.0,138.0,135.0,155.0,142.0,125.0,150.0,80.0,80.0,125.0,90.0,70.0,70.0,90.0,115.0,115.0,90.0,70.0,90.0,88.0,90.0,90.0,105.0,null,84.0,84.0,92.0,110.0,84.0,64.0,63.0,65.0,65.0,110.0,105.0,88.0,85.0,88.0,88.0,88.0,85.0,84.0,90.0,92.0,null,63.0,70.0,110.0,85.0,92.0,112.0,84.0,90.0,86.0,84.0,79.0,82.0],\"xaxis\":\"x\",\"y\":[12.0,11.5,11.0,12.0,10.5,10.0,9.0,8.5,10.0,8.5,10.0,8.0,9.5,10.0,15.5,15.5,16.0,15.0,14.0,15.0,13.5,18.5,15.5,19.0,13.0,15.5,15.5,15.5,15.5,12.0,11.5,13.5,13.0,11.5,12.0,12.0,13.5,19.0,15.0,14.5,14.0,20.5,17.0,19.5,16.5,12.0,12.0,13.5,13.0,11.5,11.0,13.5,13.5,12.5,12.5,14.0,16.0,14.0,16.0,15.0,13.0,11.5,13.0,14.5,12.5,11.5,12.0,13.0,14.5,11.0,11.0,11.0,16.5,18.0,16.0,16.5,16.0,14.0,12.5,13.0,12.5,15.0,19.5,18.5,14.0,13.0,9.5,11.0,11.0,16.5,17.0,16.0,17.0,16.5,17.0,17.0,18.0,16.5,14.0,14.5,13.5,16.0,15.5,14.5,16.0,16.0,21.0,19.5,11.5,14.0,14.5,13.5,21.0,18.5,19.0,19.0,15.0,13.5,12.0,17.0,16.0,18.5,14.5,17.0,14.9,17.7,13.0,13.0,13.9,12.8,15.4,14.5,17.6,17.6,22.2,22.1,17.7,21.0,16.2,17.8,13.6,13.2,12.1,12.0,15.0,14.0,14.8,15.5,12.5,19.0,13.7,14.9,16.4,16.9,17.7,19.0,11.1,11.4,12.2,14.5,16.0,15.8,17.0,15.9,14.4,15.5,13.2,12.8,19.2,18.2,15.8,15.4,17.2,17.2,15.8,16.7,18.7,15.1,13.2,13.4,11.2,13.7,16.5,14.5,16.7,17.6,15.4,18.2,17.3,18.2,16.6,15.4,13.4,13.2,15.2,14.9,14.3,15.0,13.0,14.4,15.0,17.4,22.2,13.2,14.9,16.0,11.3,12.9,13.2,15.5,16.5,18.1,20.1,18.7,14.4,14.3,15.7,16.4,14.4,12.6,12.9,16.4,14.9,16.2,20.7,15.8,19.0,17.1,16.6,19.6,18.6,18.0,16.2,16.0,18.0,16.4,20.5,14.7,17.3,16.4,17.0,14.5,14.7,13.0,17.3,15.6,11.6,18.6,19.4],\"yaxis\":\"y\",\"type\":\"scatter\"},{\"hovertemplate\":\"origin=japan\\u003cbr\\u003ehorsepower=%{x}\\u003cbr\\u003eacceleration=%{y}\\u003cbr\\u003empg=%{marker.size}\\u003cextra\\u003e\\u003c\\u002fextra\\u003e\",\"legendgroup\":\"japan\",\"marker\":{\"color\":\"#EF553B\",\"size\":[24.0,27.0,27.0,25.0,31.0,35.0,24.0,19.0,28.0,23.0,27.0,20.0,22.0,18.0,20.0,31.0,32.0,31.0,32.0,24.0,26.0,29.0,24.0,24.0,33.0,33.0,32.0,28.0,19.0,31.5,33.5,26.0,30.0,22.0,21.5,32.8,39.4,36.1,27.5,27.2,21.1,23.9,29.5,34.1,31.8,38.1,37.2,29.8,31.3,37.0,32.2,46.6,40.8,44.6,33.8,32.7,23.7,32.4,39.1,35.1,32.3,37.0,37.7,34.1,33.7,32.4,32.9,31.6,25.4,24.2,37.0,31.0,36.0,36.0,34.0,38.0,32.0,38.0,32.0],\"sizemode\":\"area\",\"sizeref\":0.1165,\"symbol\":\"circle\"},\"mode\":\"markers\",\"name\":\"japan\",\"orientation\":\"v\",\"showlegend\":true,\"x\":[95.0,88.0,88.0,95.0,65.0,69.0,95.0,97.0,92.0,97.0,88.0,88.0,94.0,90.0,122.0,67.0,65.0,52.0,61.0,97.0,93.0,75.0,96.0,97.0,53.0,53.0,70.0,75.0,108.0,68.0,70.0,75.0,67.0,97.0,110.0,52.0,70.0,60.0,95.0,97.0,95.0,97.0,68.0,65.0,65.0,60.0,65.0,90.0,75.0,92.0,75.0,65.0,65.0,67.0,67.0,132.0,100.0,72.0,58.0,60.0,67.0,65.0,62.0,68.0,75.0,75.0,100.0,74.0,116.0,120.0,68.0,68.0,88.0,75.0,70.0,67.0,67.0,67.0,96.0],\"xaxis\":\"x\",\"y\":[15.0,14.5,14.5,14.0,19.0,18.0,15.5,13.5,17.0,14.5,16.5,19.0,16.5,13.5,13.5,19.0,21.0,16.5,19.0,15.0,15.5,16.0,13.5,17.0,17.5,17.4,17.0,16.4,15.5,18.5,16.8,18.2,16.4,14.5,13.5,19.4,18.6,16.4,14.2,14.7,14.8,14.9,16.6,15.2,19.2,18.8,16.4,15.5,17.5,15.0,15.2,17.9,19.2,13.8,18.0,11.4,12.5,17.0,16.9,16.1,17.8,19.4,17.3,16.0,14.4,16.8,14.8,18.3,12.6,13.8,18.2,17.6,14.5,14.5,16.9,15.0,15.7,16.2,13.9],\"yaxis\":\"y\",\"type\":\"scatter\"},{\"hovertemplate\":\"origin=europe\\u003cbr\\u003ehorsepower=%{x}\\u003cbr\\u003eacceleration=%{y}\\u003cbr\\u003empg=%{marker.size}\\u003cextra\\u003e\\u003c\\u002fextra\\u003e\",\"legendgroup\":\"europe\",\"marker\":{\"color\":\"#00cc96\",\"size\":[26.0,25.0,24.0,25.0,26.0,28.0,30.0,30.0,27.0,23.0,18.0,22.0,21.0,26.0,26.0,26.0,29.0,24.0,20.0,19.0,24.0,29.0,26.0,26.0,24.0,26.0,31.0,25.0,29.0,23.0,23.0,22.0,25.0,28.0,25.0,27.0,29.0,29.5,20.0,19.0,16.5,36.0,29.0,30.5,21.5,43.1,20.3,17.0,21.6,16.2,31.5,31.9,25.4,27.2,37.3,41.5,34.3,44.3,43.4,36.4,30.0,40.9,29.8,35.0,33.0,34.5,28.1,30.7,36.0,44.0],\"sizemode\":\"area\",\"sizeref\":0.1165,\"symbol\":\"circle\"},\"mode\":\"markers\",\"name\":\"europe\",\"orientation\":\"v\",\"showlegend\":true,\"x\":[46.0,87.0,90.0,95.0,113.0,90.0,70.0,76.0,60.0,54.0,112.0,76.0,87.0,69.0,46.0,90.0,49.0,75.0,91.0,112.0,110.0,83.0,67.0,78.0,75.0,75.0,67.0,71.0,70.0,95.0,88.0,98.0,115.0,86.0,81.0,83.0,70.0,71.0,102.0,88.0,120.0,58.0,78.0,78.0,110.0,48.0,103.0,125.0,115.0,133.0,71.0,71.0,77.0,71.0,69.0,76.0,78.0,48.0,48.0,67.0,67.0,null,62.0,88.0,74.0,null,80.0,76.0,74.0,52.0],\"xaxis\":\"x\",\"y\":[20.5,17.5,14.5,17.5,12.5,14.0,19.5,14.5,19.0,23.5,14.5,18.0,19.5,18.0,21.0,15.5,19.5,15.5,14.0,15.5,14.0,16.5,15.5,14.5,15.5,14.0,16.0,16.5,14.0,15.0,17.0,14.5,13.5,15.5,16.9,15.3,14.2,12.2,15.7,21.9,16.7,18.6,14.5,14.1,12.8,21.5,15.9,13.6,15.7,15.8,14.9,14.0,20.1,24.8,14.7,14.7,15.8,21.7,23.7,19.9,21.8,17.3,15.3,15.1,14.2,15.8,20.4,19.6,15.3,24.6],\"yaxis\":\"y\",\"type\":\"scatter\"}],                        {\"template\":{\"data\":{\"histogram2dcontour\":[{\"type\":\"histogram2dcontour\",\"colorbar\":{\"outlinewidth\":0,\"ticks\":\"\"},\"colorscale\":[[0.0,\"#0d0887\"],[0.1111111111111111,\"#46039f\"],[0.2222222222222222,\"#7201a8\"],[0.3333333333333333,\"#9c179e\"],[0.4444444444444444,\"#bd3786\"],[0.5555555555555556,\"#d8576b\"],[0.6666666666666666,\"#ed7953\"],[0.7777777777777778,\"#fb9f3a\"],[0.8888888888888888,\"#fdca26\"],[1.0,\"#f0f921\"]]}],\"choropleth\":[{\"type\":\"choropleth\",\"colorbar\":{\"outlinewidth\":0,\"ticks\":\"\"}}],\"histogram2d\":[{\"type\":\"histogram2d\",\"colorbar\":{\"outlinewidth\":0,\"ticks\":\"\"},\"colorscale\":[[0.0,\"#0d0887\"],[0.1111111111111111,\"#46039f\"],[0.2222222222222222,\"#7201a8\"],[0.3333333333333333,\"#9c179e\"],[0.4444444444444444,\"#bd3786\"],[0.5555555555555556,\"#d8576b\"],[0.6666666666666666,\"#ed7953\"],[0.7777777777777778,\"#fb9f3a\"],[0.8888888888888888,\"#fdca26\"],[1.0,\"#f0f921\"]]}],\"heatmap\":[{\"type\":\"heatmap\",\"colorbar\":{\"outlinewidth\":0,\"ticks\":\"\"},\"colorscale\":[[0.0,\"#0d0887\"],[0.1111111111111111,\"#46039f\"],[0.2222222222222222,\"#7201a8\"],[0.3333333333333333,\"#9c179e\"],[0.4444444444444444,\"#bd3786\"],[0.5555555555555556,\"#d8576b\"],[0.6666666666666666,\"#ed7953\"],[0.7777777777777778,\"#fb9f3a\"],[0.8888888888888888,\"#fdca26\"],[1.0,\"#f0f921\"]]}],\"heatmapgl\":[{\"type\":\"heatmapgl\",\"colorbar\":{\"outlinewidth\":0,\"ticks\":\"\"},\"colorscale\":[[0.0,\"#0d0887\"],[0.1111111111111111,\"#46039f\"],[0.2222222222222222,\"#7201a8\"],[0.3333333333333333,\"#9c179e\"],[0.4444444444444444,\"#bd3786\"],[0.5555555555555556,\"#d8576b\"],[0.6666666666666666,\"#ed7953\"],[0.7777777777777778,\"#fb9f3a\"],[0.8888888888888888,\"#fdca26\"],[1.0,\"#f0f921\"]]}],\"contourcarpet\":[{\"type\":\"contourcarpet\",\"colorbar\":{\"outlinewidth\":0,\"ticks\":\"\"}}],\"contour\":[{\"type\":\"contour\",\"colorbar\":{\"outlinewidth\":0,\"ticks\":\"\"},\"colorscale\":[[0.0,\"#0d0887\"],[0.1111111111111111,\"#46039f\"],[0.2222222222222222,\"#7201a8\"],[0.3333333333333333,\"#9c179e\"],[0.4444444444444444,\"#bd3786\"],[0.5555555555555556,\"#d8576b\"],[0.6666666666666666,\"#ed7953\"],[0.7777777777777778,\"#fb9f3a\"],[0.8888888888888888,\"#fdca26\"],[1.0,\"#f0f921\"]]}],\"surface\":[{\"type\":\"surface\",\"colorbar\":{\"outlinewidth\":0,\"ticks\":\"\"},\"colorscale\":[[0.0,\"#0d0887\"],[0.1111111111111111,\"#46039f\"],[0.2222222222222222,\"#7201a8\"],[0.3333333333333333,\"#9c179e\"],[0.4444444444444444,\"#bd3786\"],[0.5555555555555556,\"#d8576b\"],[0.6666666666666666,\"#ed7953\"],[0.7777777777777778,\"#fb9f3a\"],[0.8888888888888888,\"#fdca26\"],[1.0,\"#f0f921\"]]}],\"mesh3d\":[{\"type\":\"mesh3d\",\"colorbar\":{\"outlinewidth\":0,\"ticks\":\"\"}}],\"scatter\":[{\"fillpattern\":{\"fillmode\":\"overlay\",\"size\":10,\"solidity\":0.2},\"type\":\"scatter\"}],\"parcoords\":[{\"type\":\"parcoords\",\"line\":{\"colorbar\":{\"outlinewidth\":0,\"ticks\":\"\"}}}],\"scatterpolargl\":[{\"type\":\"scatterpolargl\",\"marker\":{\"colorbar\":{\"outlinewidth\":0,\"ticks\":\"\"}}}],\"bar\":[{\"error_x\":{\"color\":\"#2a3f5f\"},\"error_y\":{\"color\":\"#2a3f5f\"},\"marker\":{\"line\":{\"color\":\"#E5ECF6\",\"width\":0.5},\"pattern\":{\"fillmode\":\"overlay\",\"size\":10,\"solidity\":0.2}},\"type\":\"bar\"}],\"scattergeo\":[{\"type\":\"scattergeo\",\"marker\":{\"colorbar\":{\"outlinewidth\":0,\"ticks\":\"\"}}}],\"scatterpolar\":[{\"type\":\"scatterpolar\",\"marker\":{\"colorbar\":{\"outlinewidth\":0,\"ticks\":\"\"}}}],\"histogram\":[{\"marker\":{\"pattern\":{\"fillmode\":\"overlay\",\"size\":10,\"solidity\":0.2}},\"type\":\"histogram\"}],\"scattergl\":[{\"type\":\"scattergl\",\"marker\":{\"colorbar\":{\"outlinewidth\":0,\"ticks\":\"\"}}}],\"scatter3d\":[{\"type\":\"scatter3d\",\"line\":{\"colorbar\":{\"outlinewidth\":0,\"ticks\":\"\"}},\"marker\":{\"colorbar\":{\"outlinewidth\":0,\"ticks\":\"\"}}}],\"scattermapbox\":[{\"type\":\"scattermapbox\",\"marker\":{\"colorbar\":{\"outlinewidth\":0,\"ticks\":\"\"}}}],\"scatterternary\":[{\"type\":\"scatterternary\",\"marker\":{\"colorbar\":{\"outlinewidth\":0,\"ticks\":\"\"}}}],\"scattercarpet\":[{\"type\":\"scattercarpet\",\"marker\":{\"colorbar\":{\"outlinewidth\":0,\"ticks\":\"\"}}}],\"carpet\":[{\"aaxis\":{\"endlinecolor\":\"#2a3f5f\",\"gridcolor\":\"white\",\"linecolor\":\"white\",\"minorgridcolor\":\"white\",\"startlinecolor\":\"#2a3f5f\"},\"baxis\":{\"endlinecolor\":\"#2a3f5f\",\"gridcolor\":\"white\",\"linecolor\":\"white\",\"minorgridcolor\":\"white\",\"startlinecolor\":\"#2a3f5f\"},\"type\":\"carpet\"}],\"table\":[{\"cells\":{\"fill\":{\"color\":\"#EBF0F8\"},\"line\":{\"color\":\"white\"}},\"header\":{\"fill\":{\"color\":\"#C8D4E3\"},\"line\":{\"color\":\"white\"}},\"type\":\"table\"}],\"barpolar\":[{\"marker\":{\"line\":{\"color\":\"#E5ECF6\",\"width\":0.5},\"pattern\":{\"fillmode\":\"overlay\",\"size\":10,\"solidity\":0.2}},\"type\":\"barpolar\"}],\"pie\":[{\"automargin\":true,\"type\":\"pie\"}]},\"layout\":{\"autotypenumbers\":\"strict\",\"colorway\":[\"#636efa\",\"#EF553B\",\"#00cc96\",\"#ab63fa\",\"#FFA15A\",\"#19d3f3\",\"#FF6692\",\"#B6E880\",\"#FF97FF\",\"#FECB52\"],\"font\":{\"color\":\"#2a3f5f\"},\"hovermode\":\"closest\",\"hoverlabel\":{\"align\":\"left\"},\"paper_bgcolor\":\"white\",\"plot_bgcolor\":\"#E5ECF6\",\"polar\":{\"bgcolor\":\"#E5ECF6\",\"angularaxis\":{\"gridcolor\":\"white\",\"linecolor\":\"white\",\"ticks\":\"\"},\"radialaxis\":{\"gridcolor\":\"white\",\"linecolor\":\"white\",\"ticks\":\"\"}},\"ternary\":{\"bgcolor\":\"#E5ECF6\",\"aaxis\":{\"gridcolor\":\"white\",\"linecolor\":\"white\",\"ticks\":\"\"},\"baxis\":{\"gridcolor\":\"white\",\"linecolor\":\"white\",\"ticks\":\"\"},\"caxis\":{\"gridcolor\":\"white\",\"linecolor\":\"white\",\"ticks\":\"\"}},\"coloraxis\":{\"colorbar\":{\"outlinewidth\":0,\"ticks\":\"\"}},\"colorscale\":{\"sequential\":[[0.0,\"#0d0887\"],[0.1111111111111111,\"#46039f\"],[0.2222222222222222,\"#7201a8\"],[0.3333333333333333,\"#9c179e\"],[0.4444444444444444,\"#bd3786\"],[0.5555555555555556,\"#d8576b\"],[0.6666666666666666,\"#ed7953\"],[0.7777777777777778,\"#fb9f3a\"],[0.8888888888888888,\"#fdca26\"],[1.0,\"#f0f921\"]],\"sequentialminus\":[[0.0,\"#0d0887\"],[0.1111111111111111,\"#46039f\"],[0.2222222222222222,\"#7201a8\"],[0.3333333333333333,\"#9c179e\"],[0.4444444444444444,\"#bd3786\"],[0.5555555555555556,\"#d8576b\"],[0.6666666666666666,\"#ed7953\"],[0.7777777777777778,\"#fb9f3a\"],[0.8888888888888888,\"#fdca26\"],[1.0,\"#f0f921\"]],\"diverging\":[[0,\"#8e0152\"],[0.1,\"#c51b7d\"],[0.2,\"#de77ae\"],[0.3,\"#f1b6da\"],[0.4,\"#fde0ef\"],[0.5,\"#f7f7f7\"],[0.6,\"#e6f5d0\"],[0.7,\"#b8e186\"],[0.8,\"#7fbc41\"],[0.9,\"#4d9221\"],[1,\"#276419\"]]},\"xaxis\":{\"gridcolor\":\"white\",\"linecolor\":\"white\",\"ticks\":\"\",\"title\":{\"standoff\":15},\"zerolinecolor\":\"white\",\"automargin\":true,\"zerolinewidth\":2},\"yaxis\":{\"gridcolor\":\"white\",\"linecolor\":\"white\",\"ticks\":\"\",\"title\":{\"standoff\":15},\"zerolinecolor\":\"white\",\"automargin\":true,\"zerolinewidth\":2},\"scene\":{\"xaxis\":{\"backgroundcolor\":\"#E5ECF6\",\"gridcolor\":\"white\",\"linecolor\":\"white\",\"showbackground\":true,\"ticks\":\"\",\"zerolinecolor\":\"white\",\"gridwidth\":2},\"yaxis\":{\"backgroundcolor\":\"#E5ECF6\",\"gridcolor\":\"white\",\"linecolor\":\"white\",\"showbackground\":true,\"ticks\":\"\",\"zerolinecolor\":\"white\",\"gridwidth\":2},\"zaxis\":{\"backgroundcolor\":\"#E5ECF6\",\"gridcolor\":\"white\",\"linecolor\":\"white\",\"showbackground\":true,\"ticks\":\"\",\"zerolinecolor\":\"white\",\"gridwidth\":2}},\"shapedefaults\":{\"line\":{\"color\":\"#2a3f5f\"}},\"annotationdefaults\":{\"arrowcolor\":\"#2a3f5f\",\"arrowhead\":0,\"arrowwidth\":1},\"geo\":{\"bgcolor\":\"white\",\"landcolor\":\"#E5ECF6\",\"subunitcolor\":\"white\",\"showland\":true,\"showlakes\":true,\"lakecolor\":\"white\"},\"title\":{\"x\":0.05},\"mapbox\":{\"style\":\"light\"}}},\"xaxis\":{\"anchor\":\"y\",\"domain\":[0.0,1.0],\"title\":{\"text\":\"horsepower\"}},\"yaxis\":{\"anchor\":\"x\",\"domain\":[0.0,1.0],\"title\":{\"text\":\"acceleration\"}},\"legend\":{\"title\":{\"text\":\"origin\"},\"tracegroupgap\":0,\"itemsizing\":\"constant\"},\"margin\":{\"t\":60}},                        {\"responsive\": true}                    ).then(function(){\n",
       "                            \n",
       "var gd = document.getElementById('9127c2c0-d78f-464c-9ed8-9a04da7fb45b');\n",
       "var x = new MutationObserver(function (mutations, observer) {{\n",
       "        var display = window.getComputedStyle(gd).display;\n",
       "        if (!display || display === 'none') {{\n",
       "            console.log([gd, 'removed!']);\n",
       "            Plotly.purge(gd);\n",
       "            observer.disconnect();\n",
       "        }}\n",
       "}});\n",
       "\n",
       "// Listen for the removal of the full notebook cells\n",
       "var notebookContainer = gd.closest('#notebook-container');\n",
       "if (notebookContainer) {{\n",
       "    x.observe(notebookContainer, {childList: true});\n",
       "}}\n",
       "\n",
       "// Listen for the clearing of the current output cell\n",
       "var outputEl = gd.closest('.output');\n",
       "if (outputEl) {{\n",
       "    x.observe(outputEl, {childList: true});\n",
       "}}\n",
       "\n",
       "                        })                };                });            </script>        </div>"
      ]
     },
     "metadata": {},
     "output_type": "display_data"
    }
   ],
   "source": [
    "px.scatter(data_frame=df_cars, x = 'horsepower', y = 'acceleration', color = 'origin', size = 'mpg')"
   ]
  },
  {
   "cell_type": "markdown",
   "id": "2af90813-5e29-493b-a85b-25ccd3eae6f9",
   "metadata": {},
   "source": [
    "### Show the car name as you hover the mouse over the points\n",
    "\n",
    "> You may use the `hover_name` parameter"
   ]
  },
  {
   "cell_type": "code",
   "execution_count": 15,
   "id": "6eda92d5-7f1e-4660-9c89-2caf500594ee",
   "metadata": {},
   "outputs": [
    {
     "data": {
      "application/vnd.plotly.v1+json": {
       "config": {
        "plotlyServerURL": "https://plot.ly"
       },
       "data": [
        {
         "hovertemplate": "<b>%{hovertext}</b><br><br>origin=usa<br>horsepower=%{x}<br>acceleration=%{y}<br>mpg=%{marker.size}<extra></extra>",
         "hovertext": [
          "chevrolet chevelle malibu",
          "buick skylark 320",
          "plymouth satellite",
          "amc rebel sst",
          "ford torino",
          "ford galaxie 500",
          "chevrolet impala",
          "plymouth fury iii",
          "pontiac catalina",
          "amc ambassador dpl",
          "dodge challenger se",
          "plymouth 'cuda 340",
          "chevrolet monte carlo",
          "buick estate wagon (sw)",
          "plymouth duster",
          "amc hornet",
          "ford maverick",
          "amc gremlin",
          "ford f250",
          "chevy c20",
          "dodge d200",
          "hi 1200d",
          "chevrolet vega 2300",
          "ford pinto",
          "amc gremlin",
          "plymouth satellite custom",
          "chevrolet chevelle malibu",
          "ford torino 500",
          "amc matador",
          "chevrolet impala",
          "pontiac catalina brougham",
          "ford galaxie 500",
          "plymouth fury iii",
          "dodge monaco (sw)",
          "ford country squire (sw)",
          "pontiac safari (sw)",
          "amc hornet sportabout (sw)",
          "chevrolet vega (sw)",
          "pontiac firebird",
          "ford mustang",
          "mercury capri 2000",
          "plymouth cricket",
          "dodge colt hardtop",
          "chevrolet vega",
          "ford pinto runabout",
          "chevrolet impala",
          "pontiac catalina",
          "plymouth fury iii",
          "ford galaxie 500",
          "amc ambassador sst",
          "mercury marquis",
          "buick lesabre custom",
          "oldsmobile delta 88 royale",
          "chrysler newport royal",
          "amc matador (sw)",
          "chevrolet chevelle concours (sw)",
          "ford gran torino (sw)",
          "plymouth satellite custom (sw)",
          "ford pinto (sw)",
          "dodge colt (sw)",
          "buick century 350",
          "amc matador",
          "chevrolet malibu",
          "ford gran torino",
          "dodge coronet custom",
          "mercury marquis brougham",
          "chevrolet caprice classic",
          "ford ltd",
          "plymouth fury gran sedan",
          "chrysler new yorker brougham",
          "buick electra 225 custom",
          "amc ambassador brougham",
          "plymouth valiant",
          "chevrolet nova custom",
          "amc hornet",
          "ford maverick",
          "plymouth duster",
          "chevrolet impala",
          "ford country",
          "plymouth custom suburb",
          "oldsmobile vista cruiser",
          "amc gremlin",
          "chevrolet vega",
          "ford pinto",
          "mercury capri v6",
          "chevrolet monte carlo s",
          "pontiac grand prix",
          "dodge dart custom",
          "oldsmobile omega",
          "plymouth duster",
          "ford maverick",
          "amc hornet",
          "chevrolet nova",
          "ford pinto",
          "chevrolet vega",
          "chevrolet chevelle malibu classic",
          "amc matador",
          "plymouth satellite sebring",
          "ford gran torino",
          "buick century luxus (sw)",
          "dodge coronet custom (sw)",
          "ford gran torino (sw)",
          "amc matador (sw)",
          "dodge colt",
          "plymouth valiant custom",
          "chevrolet nova",
          "mercury monarch",
          "ford maverick",
          "pontiac catalina",
          "chevrolet bel air",
          "plymouth grand fury",
          "ford ltd",
          "buick century",
          "chevroelt chevelle malibu",
          "amc matador",
          "plymouth fury",
          "buick skyhawk",
          "chevrolet monza 2+2",
          "ford mustang ii",
          "ford pinto",
          "amc gremlin",
          "pontiac astro",
          "ford pinto",
          "amc pacer",
          "capri ii",
          "dodge colt",
          "chevrolet chevelle malibu classic",
          "dodge coronet brougham",
          "amc matador",
          "ford gran torino",
          "plymouth valiant",
          "chevrolet nova",
          "ford maverick",
          "amc hornet",
          "chevrolet chevette",
          "chevrolet woody",
          "dodge aspen se",
          "ford granada ghia",
          "pontiac ventura sj",
          "amc pacer d/l",
          "ford pinto",
          "plymouth volare premier v8",
          "cadillac seville",
          "chevy c10",
          "ford f108",
          "dodge d100",
          "buick opel isuzu deluxe",
          "plymouth arrow gs",
          "chevrolet caprice classic",
          "oldsmobile cutlass supreme",
          "dodge monaco brougham",
          "mercury cougar brougham",
          "chevrolet concours",
          "buick skylark",
          "plymouth volare custom",
          "ford granada",
          "pontiac grand prix lj",
          "chevrolet monte carlo landau",
          "chrysler cordoba",
          "ford thunderbird",
          "pontiac sunbird coupe",
          "ford mustang ii 2+2",
          "chevrolet chevette",
          "dodge colt m/m",
          "ford fiesta",
          "oldsmobile cutlass salon brougham",
          "dodge diplomat",
          "mercury monarch ghia",
          "pontiac phoenix lj",
          "chevrolet malibu",
          "ford fairmont (auto)",
          "ford fairmont (man)",
          "plymouth volare",
          "amc concord",
          "buick century special",
          "mercury zephyr",
          "dodge aspen",
          "amc concord d/l",
          "chevrolet monte carlo landau",
          "buick regal sport coupe (turbo)",
          "ford futura",
          "dodge magnum xe",
          "chevrolet chevette",
          "dodge omni",
          "plymouth sapporo",
          "oldsmobile starfire sx",
          "pontiac lemans v6",
          "mercury zephyr 6",
          "ford fairmont 4",
          "amc concord dl 6",
          "dodge aspen 6",
          "chevrolet caprice classic",
          "ford ltd landau",
          "mercury grand marquis",
          "dodge st. regis",
          "buick estate wagon (sw)",
          "ford country squire (sw)",
          "chevrolet malibu classic (sw)",
          "chrysler lebaron town @ country (sw)",
          "dodge colt hatchback custom",
          "amc spirit dl",
          "cadillac eldorado",
          "oldsmobile cutlass salon brougham",
          "plymouth horizon",
          "plymouth horizon tc3",
          "buick skylark limited",
          "chevrolet citation",
          "oldsmobile omega brougham",
          "pontiac phoenix",
          "chevrolet chevette",
          "chevrolet citation",
          "ford fairmont",
          "amc concord",
          "dodge aspen",
          "dodge colt",
          "ford mustang cobra",
          "plymouth reliant",
          "buick skylark",
          "dodge aries wagon (sw)",
          "chevrolet citation",
          "plymouth reliant",
          "plymouth champ",
          "plymouth horizon 4",
          "ford escort 4w",
          "ford escort 2h",
          "buick century",
          "oldsmobile cutlass ls",
          "ford granada gl",
          "chrysler lebaron salon",
          "chevrolet cavalier",
          "chevrolet cavalier wagon",
          "chevrolet cavalier 2-door",
          "pontiac j2000 se hatchback",
          "dodge aries se",
          "pontiac phoenix",
          "ford fairmont futura",
          "amc concord dl",
          "plymouth horizon miser",
          "mercury lynx l",
          "buick century limited",
          "oldsmobile cutlass ciera (diesel)",
          "chrysler lebaron medallion",
          "ford granada l",
          "dodge charger 2.2",
          "chevrolet camaro",
          "ford mustang gl",
          "dodge rampage",
          "ford ranger",
          "chevy s-10"
         ],
         "legendgroup": "usa",
         "marker": {
          "color": "#636efa",
          "size": [
           18,
           15,
           18,
           16,
           17,
           15,
           14,
           14,
           14,
           15,
           15,
           14,
           15,
           14,
           22,
           18,
           21,
           21,
           10,
           10,
           11,
           9,
           28,
           25,
           19,
           16,
           17,
           19,
           18,
           14,
           14,
           14,
           14,
           12,
           13,
           13,
           18,
           22,
           19,
           18,
           23,
           26,
           25,
           20,
           21,
           13,
           14,
           15,
           14,
           17,
           11,
           13,
           12,
           13,
           15,
           13,
           13,
           14,
           22,
           28,
           13,
           14,
           13,
           14,
           15,
           12,
           13,
           13,
           14,
           13,
           12,
           13,
           18,
           16,
           18,
           18,
           23,
           11,
           12,
           13,
           12,
           18,
           21,
           19,
           21,
           15,
           16,
           15,
           11,
           20,
           21,
           19,
           15,
           26,
           25,
           16,
           16,
           18,
           16,
           13,
           14,
           14,
           14,
           28,
           19,
           18,
           15,
           15,
           16,
           15,
           16,
           14,
           17,
           16,
           15,
           18,
           21,
           20,
           13,
           23,
           20,
           23,
           18,
           19,
           25,
           26,
           17.5,
           16,
           15.5,
           14.5,
           22,
           22,
           24,
           22.5,
           29,
           24.5,
           20,
           18,
           18.5,
           17.5,
           26.5,
           13,
           16.5,
           13,
           13,
           13,
           30,
           25.5,
           17.5,
           17,
           15.5,
           15,
           17.5,
           20.5,
           19,
           18.5,
           16,
           15.5,
           15.5,
           16,
           24.5,
           25.5,
           30.5,
           33.5,
           36.1,
           19.9,
           19.4,
           20.2,
           19.2,
           20.5,
           20.2,
           25.1,
           20.5,
           19.4,
           20.6,
           20.8,
           18.6,
           18.1,
           19.2,
           17.7,
           18.1,
           17.5,
           30,
           30.9,
           23.2,
           23.8,
           21.5,
           19.8,
           22.3,
           20.2,
           20.6,
           17,
           17.6,
           16.5,
           18.2,
           16.9,
           15.5,
           19.2,
           18.5,
           35.7,
           27.4,
           23,
           23.9,
           34.2,
           34.5,
           28.4,
           28.8,
           26.8,
           33.5,
           32.1,
           28,
           26.4,
           24.3,
           19.1,
           27.9,
           23.6,
           27.2,
           26.6,
           25.8,
           23.5,
           30,
           39,
           34.7,
           34.4,
           29.9,
           22.4,
           26.6,
           20.2,
           17.6,
           28,
           27,
           34,
           31,
           29,
           27,
           24,
           23,
           38,
           36,
           25,
           38,
           26,
           22,
           36,
           27,
           27,
           32,
           28,
           31
          ],
          "sizemode": "area",
          "sizeref": 0.1165,
          "symbol": "circle"
         },
         "mode": "markers",
         "name": "usa",
         "orientation": "v",
         "showlegend": true,
         "type": "scatter",
         "x": [
          130,
          165,
          150,
          150,
          140,
          198,
          220,
          215,
          225,
          190,
          170,
          160,
          150,
          225,
          95,
          97,
          85,
          90,
          215,
          200,
          210,
          193,
          90,
          null,
          100,
          105,
          100,
          88,
          100,
          165,
          175,
          153,
          150,
          180,
          170,
          175,
          110,
          72,
          100,
          88,
          86,
          70,
          80,
          90,
          86,
          165,
          175,
          150,
          153,
          150,
          208,
          155,
          160,
          190,
          150,
          130,
          140,
          150,
          86,
          80,
          175,
          150,
          145,
          137,
          150,
          198,
          150,
          158,
          150,
          215,
          225,
          175,
          105,
          100,
          100,
          88,
          95,
          150,
          167,
          170,
          180,
          100,
          72,
          85,
          107,
          145,
          230,
          150,
          180,
          95,
          null,
          100,
          100,
          80,
          75,
          100,
          110,
          105,
          140,
          150,
          150,
          140,
          150,
          75,
          95,
          105,
          72,
          72,
          170,
          145,
          150,
          148,
          110,
          105,
          110,
          95,
          110,
          110,
          129,
          83,
          100,
          78,
          97,
          90,
          92,
          79,
          140,
          150,
          120,
          152,
          100,
          105,
          81,
          90,
          52,
          60,
          100,
          78,
          110,
          95,
          72,
          150,
          180,
          145,
          130,
          150,
          80,
          96,
          145,
          110,
          145,
          130,
          110,
          105,
          100,
          98,
          180,
          170,
          190,
          149,
          88,
          89,
          63,
          83,
          66,
          110,
          140,
          139,
          105,
          95,
          85,
          88,
          100,
          90,
          105,
          85,
          110,
          120,
          145,
          165,
          139,
          140,
          68,
          75,
          105,
          85,
          115,
          85,
          88,
          90,
          110,
          130,
          129,
          138,
          135,
          155,
          142,
          125,
          150,
          80,
          80,
          125,
          90,
          70,
          70,
          90,
          115,
          115,
          90,
          70,
          90,
          88,
          90,
          90,
          105,
          null,
          84,
          84,
          92,
          110,
          84,
          64,
          63,
          65,
          65,
          110,
          105,
          88,
          85,
          88,
          88,
          88,
          85,
          84,
          90,
          92,
          null,
          63,
          70,
          110,
          85,
          92,
          112,
          84,
          90,
          86,
          84,
          79,
          82
         ],
         "xaxis": "x",
         "y": [
          12,
          11.5,
          11,
          12,
          10.5,
          10,
          9,
          8.5,
          10,
          8.5,
          10,
          8,
          9.5,
          10,
          15.5,
          15.5,
          16,
          15,
          14,
          15,
          13.5,
          18.5,
          15.5,
          19,
          13,
          15.5,
          15.5,
          15.5,
          15.5,
          12,
          11.5,
          13.5,
          13,
          11.5,
          12,
          12,
          13.5,
          19,
          15,
          14.5,
          14,
          20.5,
          17,
          19.5,
          16.5,
          12,
          12,
          13.5,
          13,
          11.5,
          11,
          13.5,
          13.5,
          12.5,
          12.5,
          14,
          16,
          14,
          16,
          15,
          13,
          11.5,
          13,
          14.5,
          12.5,
          11.5,
          12,
          13,
          14.5,
          11,
          11,
          11,
          16.5,
          18,
          16,
          16.5,
          16,
          14,
          12.5,
          13,
          12.5,
          15,
          19.5,
          18.5,
          14,
          13,
          9.5,
          11,
          11,
          16.5,
          17,
          16,
          17,
          16.5,
          17,
          17,
          18,
          16.5,
          14,
          14.5,
          13.5,
          16,
          15.5,
          14.5,
          16,
          16,
          21,
          19.5,
          11.5,
          14,
          14.5,
          13.5,
          21,
          18.5,
          19,
          19,
          15,
          13.5,
          12,
          17,
          16,
          18.5,
          14.5,
          17,
          14.9,
          17.7,
          13,
          13,
          13.9,
          12.8,
          15.4,
          14.5,
          17.6,
          17.6,
          22.2,
          22.1,
          17.7,
          21,
          16.2,
          17.8,
          13.6,
          13.2,
          12.1,
          12,
          15,
          14,
          14.8,
          15.5,
          12.5,
          19,
          13.7,
          14.9,
          16.4,
          16.9,
          17.7,
          19,
          11.1,
          11.4,
          12.2,
          14.5,
          16,
          15.8,
          17,
          15.9,
          14.4,
          15.5,
          13.2,
          12.8,
          19.2,
          18.2,
          15.8,
          15.4,
          17.2,
          17.2,
          15.8,
          16.7,
          18.7,
          15.1,
          13.2,
          13.4,
          11.2,
          13.7,
          16.5,
          14.5,
          16.7,
          17.6,
          15.4,
          18.2,
          17.3,
          18.2,
          16.6,
          15.4,
          13.4,
          13.2,
          15.2,
          14.9,
          14.3,
          15,
          13,
          14.4,
          15,
          17.4,
          22.2,
          13.2,
          14.9,
          16,
          11.3,
          12.9,
          13.2,
          15.5,
          16.5,
          18.1,
          20.1,
          18.7,
          14.4,
          14.3,
          15.7,
          16.4,
          14.4,
          12.6,
          12.9,
          16.4,
          14.9,
          16.2,
          20.7,
          15.8,
          19,
          17.1,
          16.6,
          19.6,
          18.6,
          18,
          16.2,
          16,
          18,
          16.4,
          20.5,
          14.7,
          17.3,
          16.4,
          17,
          14.5,
          14.7,
          13,
          17.3,
          15.6,
          11.6,
          18.6,
          19.4
         ],
         "yaxis": "y"
        },
        {
         "hovertemplate": "<b>%{hovertext}</b><br><br>origin=japan<br>horsepower=%{x}<br>acceleration=%{y}<br>mpg=%{marker.size}<extra></extra>",
         "hovertext": [
          "toyota corona mark ii",
          "datsun pl510",
          "datsun pl510",
          "toyota corona",
          "toyota corolla 1200",
          "datsun 1200",
          "toyota corona hardtop",
          "mazda rx2 coupe",
          "datsun 510 (sw)",
          "toyouta corona mark ii (sw)",
          "toyota corolla 1600 (sw)",
          "toyota carina",
          "datsun 610",
          "maxda rx3",
          "toyota mark ii",
          "datsun b210",
          "toyota corolla 1200",
          "toyota corona",
          "datsun 710",
          "honda civic",
          "subaru",
          "toyota corolla",
          "toyota corona",
          "datsun 710",
          "honda civic cvcc",
          "honda civic",
          "datsun b-210",
          "toyota corolla",
          "toyota mark ii",
          "honda accord cvcc",
          "datsun f-10 hatchback",
          "toyota corolla liftback",
          "subaru dl",
          "datsun 810",
          "mazda rx-4",
          "mazda glc deluxe",
          "datsun b210 gx",
          "honda civic cvcc",
          "toyota corona",
          "datsun 510",
          "toyota celica gt liftback",
          "datsun 200-sx",
          "honda accord lx",
          "maxda glc deluxe",
          "datsun 210",
          "toyota corolla tercel",
          "datsun 310",
          "toyota corona liftback",
          "mazda 626",
          "datsun 510 hatchback",
          "toyota corolla",
          "mazda glc",
          "datsun 210",
          "honda civic 1500 gl",
          "subaru dl",
          "datsun 280-zx",
          "mazda rx-7 gs",
          "honda accord",
          "toyota starlet",
          "honda civic 1300",
          "subaru",
          "datsun 210 mpg",
          "toyota tercel",
          "mazda glc 4",
          "honda prelude",
          "toyota corolla",
          "datsun 200sx",
          "mazda 626",
          "toyota cressida",
          "datsun 810 maxima",
          "mazda glc custom l",
          "mazda glc custom",
          "nissan stanza xe",
          "honda accord",
          "toyota corolla",
          "honda civic",
          "honda civic (auto)",
          "datsun 310 gx",
          "toyota celica gt"
         ],
         "legendgroup": "japan",
         "marker": {
          "color": "#EF553B",
          "size": [
           24,
           27,
           27,
           25,
           31,
           35,
           24,
           19,
           28,
           23,
           27,
           20,
           22,
           18,
           20,
           31,
           32,
           31,
           32,
           24,
           26,
           29,
           24,
           24,
           33,
           33,
           32,
           28,
           19,
           31.5,
           33.5,
           26,
           30,
           22,
           21.5,
           32.8,
           39.4,
           36.1,
           27.5,
           27.2,
           21.1,
           23.9,
           29.5,
           34.1,
           31.8,
           38.1,
           37.2,
           29.8,
           31.3,
           37,
           32.2,
           46.6,
           40.8,
           44.6,
           33.8,
           32.7,
           23.7,
           32.4,
           39.1,
           35.1,
           32.3,
           37,
           37.7,
           34.1,
           33.7,
           32.4,
           32.9,
           31.6,
           25.4,
           24.2,
           37,
           31,
           36,
           36,
           34,
           38,
           32,
           38,
           32
          ],
          "sizemode": "area",
          "sizeref": 0.1165,
          "symbol": "circle"
         },
         "mode": "markers",
         "name": "japan",
         "orientation": "v",
         "showlegend": true,
         "type": "scatter",
         "x": [
          95,
          88,
          88,
          95,
          65,
          69,
          95,
          97,
          92,
          97,
          88,
          88,
          94,
          90,
          122,
          67,
          65,
          52,
          61,
          97,
          93,
          75,
          96,
          97,
          53,
          53,
          70,
          75,
          108,
          68,
          70,
          75,
          67,
          97,
          110,
          52,
          70,
          60,
          95,
          97,
          95,
          97,
          68,
          65,
          65,
          60,
          65,
          90,
          75,
          92,
          75,
          65,
          65,
          67,
          67,
          132,
          100,
          72,
          58,
          60,
          67,
          65,
          62,
          68,
          75,
          75,
          100,
          74,
          116,
          120,
          68,
          68,
          88,
          75,
          70,
          67,
          67,
          67,
          96
         ],
         "xaxis": "x",
         "y": [
          15,
          14.5,
          14.5,
          14,
          19,
          18,
          15.5,
          13.5,
          17,
          14.5,
          16.5,
          19,
          16.5,
          13.5,
          13.5,
          19,
          21,
          16.5,
          19,
          15,
          15.5,
          16,
          13.5,
          17,
          17.5,
          17.4,
          17,
          16.4,
          15.5,
          18.5,
          16.8,
          18.2,
          16.4,
          14.5,
          13.5,
          19.4,
          18.6,
          16.4,
          14.2,
          14.7,
          14.8,
          14.9,
          16.6,
          15.2,
          19.2,
          18.8,
          16.4,
          15.5,
          17.5,
          15,
          15.2,
          17.9,
          19.2,
          13.8,
          18,
          11.4,
          12.5,
          17,
          16.9,
          16.1,
          17.8,
          19.4,
          17.3,
          16,
          14.4,
          16.8,
          14.8,
          18.3,
          12.6,
          13.8,
          18.2,
          17.6,
          14.5,
          14.5,
          16.9,
          15,
          15.7,
          16.2,
          13.9
         ],
         "yaxis": "y"
        },
        {
         "hovertemplate": "<b>%{hovertext}</b><br><br>origin=europe<br>horsepower=%{x}<br>acceleration=%{y}<br>mpg=%{marker.size}<extra></extra>",
         "hovertext": [
          "volkswagen 1131 deluxe sedan",
          "peugeot 504",
          "audi 100 ls",
          "saab 99e",
          "bmw 2002",
          "opel 1900",
          "peugeot 304",
          "fiat 124b",
          "volkswagen model 111",
          "volkswagen type 3",
          "volvo 145e (sw)",
          "volkswagen 411 (sw)",
          "peugeot 504 (sw)",
          "renault 12 (sw)",
          "volkswagen super beetle",
          "fiat 124 sport coupe",
          "fiat 128",
          "opel manta",
          "audi 100ls",
          "volvo 144ea",
          "saab 99le",
          "audi fox",
          "volkswagen dasher",
          "opel manta",
          "fiat 128",
          "fiat 124 tc",
          "fiat x1.9",
          "volkswagen dasher",
          "volkswagen rabbit",
          "audi 100ls",
          "peugeot 504",
          "volvo 244dl",
          "saab 99le",
          "fiat 131",
          "opel 1900",
          "renault 12tl",
          "vw rabbit",
          "volkswagen rabbit",
          "volvo 245",
          "peugeot 504",
          "mercedes-benz 280s",
          "renault 5 gtl",
          "volkswagen rabbit custom",
          "volkswagen dasher",
          "bmw 320i",
          "volkswagen rabbit custom diesel",
          "audi 5000",
          "volvo 264gl",
          "saab 99gle",
          "peugeot 604sl",
          "volkswagen scirocco",
          "vw rabbit custom",
          "mercedes benz 300d",
          "peugeot 504",
          "fiat strada custom",
          "vw rabbit",
          "audi 4000",
          "vw rabbit c (diesel)",
          "vw dasher (diesel)",
          "audi 5000s (diesel)",
          "mercedes-benz 240d",
          "renault lecar deluxe",
          "vokswagen rabbit",
          "triumph tr7 coupe",
          "volkswagen jetta",
          "renault 18i",
          "peugeot 505s turbo diesel",
          "volvo diesel",
          "volkswagen rabbit l",
          "vw pickup"
         ],
         "legendgroup": "europe",
         "marker": {
          "color": "#00cc96",
          "size": [
           26,
           25,
           24,
           25,
           26,
           28,
           30,
           30,
           27,
           23,
           18,
           22,
           21,
           26,
           26,
           26,
           29,
           24,
           20,
           19,
           24,
           29,
           26,
           26,
           24,
           26,
           31,
           25,
           29,
           23,
           23,
           22,
           25,
           28,
           25,
           27,
           29,
           29.5,
           20,
           19,
           16.5,
           36,
           29,
           30.5,
           21.5,
           43.1,
           20.3,
           17,
           21.6,
           16.2,
           31.5,
           31.9,
           25.4,
           27.2,
           37.3,
           41.5,
           34.3,
           44.3,
           43.4,
           36.4,
           30,
           40.9,
           29.8,
           35,
           33,
           34.5,
           28.1,
           30.7,
           36,
           44
          ],
          "sizemode": "area",
          "sizeref": 0.1165,
          "symbol": "circle"
         },
         "mode": "markers",
         "name": "europe",
         "orientation": "v",
         "showlegend": true,
         "type": "scatter",
         "x": [
          46,
          87,
          90,
          95,
          113,
          90,
          70,
          76,
          60,
          54,
          112,
          76,
          87,
          69,
          46,
          90,
          49,
          75,
          91,
          112,
          110,
          83,
          67,
          78,
          75,
          75,
          67,
          71,
          70,
          95,
          88,
          98,
          115,
          86,
          81,
          83,
          70,
          71,
          102,
          88,
          120,
          58,
          78,
          78,
          110,
          48,
          103,
          125,
          115,
          133,
          71,
          71,
          77,
          71,
          69,
          76,
          78,
          48,
          48,
          67,
          67,
          null,
          62,
          88,
          74,
          null,
          80,
          76,
          74,
          52
         ],
         "xaxis": "x",
         "y": [
          20.5,
          17.5,
          14.5,
          17.5,
          12.5,
          14,
          19.5,
          14.5,
          19,
          23.5,
          14.5,
          18,
          19.5,
          18,
          21,
          15.5,
          19.5,
          15.5,
          14,
          15.5,
          14,
          16.5,
          15.5,
          14.5,
          15.5,
          14,
          16,
          16.5,
          14,
          15,
          17,
          14.5,
          13.5,
          15.5,
          16.9,
          15.3,
          14.2,
          12.2,
          15.7,
          21.9,
          16.7,
          18.6,
          14.5,
          14.1,
          12.8,
          21.5,
          15.9,
          13.6,
          15.7,
          15.8,
          14.9,
          14,
          20.1,
          24.8,
          14.7,
          14.7,
          15.8,
          21.7,
          23.7,
          19.9,
          21.8,
          17.3,
          15.3,
          15.1,
          14.2,
          15.8,
          20.4,
          19.6,
          15.3,
          24.6
         ],
         "yaxis": "y"
        }
       ],
       "layout": {
        "autosize": true,
        "legend": {
         "itemsizing": "constant",
         "title": {
          "text": "origin"
         },
         "tracegroupgap": 0
        },
        "margin": {
         "t": 60
        },
        "template": {
         "data": {
          "bar": [
           {
            "error_x": {
             "color": "#2a3f5f"
            },
            "error_y": {
             "color": "#2a3f5f"
            },
            "marker": {
             "line": {
              "color": "#E5ECF6",
              "width": 0.5
             },
             "pattern": {
              "fillmode": "overlay",
              "size": 10,
              "solidity": 0.2
             }
            },
            "type": "bar"
           }
          ],
          "barpolar": [
           {
            "marker": {
             "line": {
              "color": "#E5ECF6",
              "width": 0.5
             },
             "pattern": {
              "fillmode": "overlay",
              "size": 10,
              "solidity": 0.2
             }
            },
            "type": "barpolar"
           }
          ],
          "carpet": [
           {
            "aaxis": {
             "endlinecolor": "#2a3f5f",
             "gridcolor": "white",
             "linecolor": "white",
             "minorgridcolor": "white",
             "startlinecolor": "#2a3f5f"
            },
            "baxis": {
             "endlinecolor": "#2a3f5f",
             "gridcolor": "white",
             "linecolor": "white",
             "minorgridcolor": "white",
             "startlinecolor": "#2a3f5f"
            },
            "type": "carpet"
           }
          ],
          "choropleth": [
           {
            "colorbar": {
             "outlinewidth": 0,
             "ticks": ""
            },
            "type": "choropleth"
           }
          ],
          "contour": [
           {
            "colorbar": {
             "outlinewidth": 0,
             "ticks": ""
            },
            "colorscale": [
             [
              0,
              "#0d0887"
             ],
             [
              0.1111111111111111,
              "#46039f"
             ],
             [
              0.2222222222222222,
              "#7201a8"
             ],
             [
              0.3333333333333333,
              "#9c179e"
             ],
             [
              0.4444444444444444,
              "#bd3786"
             ],
             [
              0.5555555555555556,
              "#d8576b"
             ],
             [
              0.6666666666666666,
              "#ed7953"
             ],
             [
              0.7777777777777778,
              "#fb9f3a"
             ],
             [
              0.8888888888888888,
              "#fdca26"
             ],
             [
              1,
              "#f0f921"
             ]
            ],
            "type": "contour"
           }
          ],
          "contourcarpet": [
           {
            "colorbar": {
             "outlinewidth": 0,
             "ticks": ""
            },
            "type": "contourcarpet"
           }
          ],
          "heatmap": [
           {
            "colorbar": {
             "outlinewidth": 0,
             "ticks": ""
            },
            "colorscale": [
             [
              0,
              "#0d0887"
             ],
             [
              0.1111111111111111,
              "#46039f"
             ],
             [
              0.2222222222222222,
              "#7201a8"
             ],
             [
              0.3333333333333333,
              "#9c179e"
             ],
             [
              0.4444444444444444,
              "#bd3786"
             ],
             [
              0.5555555555555556,
              "#d8576b"
             ],
             [
              0.6666666666666666,
              "#ed7953"
             ],
             [
              0.7777777777777778,
              "#fb9f3a"
             ],
             [
              0.8888888888888888,
              "#fdca26"
             ],
             [
              1,
              "#f0f921"
             ]
            ],
            "type": "heatmap"
           }
          ],
          "heatmapgl": [
           {
            "colorbar": {
             "outlinewidth": 0,
             "ticks": ""
            },
            "colorscale": [
             [
              0,
              "#0d0887"
             ],
             [
              0.1111111111111111,
              "#46039f"
             ],
             [
              0.2222222222222222,
              "#7201a8"
             ],
             [
              0.3333333333333333,
              "#9c179e"
             ],
             [
              0.4444444444444444,
              "#bd3786"
             ],
             [
              0.5555555555555556,
              "#d8576b"
             ],
             [
              0.6666666666666666,
              "#ed7953"
             ],
             [
              0.7777777777777778,
              "#fb9f3a"
             ],
             [
              0.8888888888888888,
              "#fdca26"
             ],
             [
              1,
              "#f0f921"
             ]
            ],
            "type": "heatmapgl"
           }
          ],
          "histogram": [
           {
            "marker": {
             "pattern": {
              "fillmode": "overlay",
              "size": 10,
              "solidity": 0.2
             }
            },
            "type": "histogram"
           }
          ],
          "histogram2d": [
           {
            "colorbar": {
             "outlinewidth": 0,
             "ticks": ""
            },
            "colorscale": [
             [
              0,
              "#0d0887"
             ],
             [
              0.1111111111111111,
              "#46039f"
             ],
             [
              0.2222222222222222,
              "#7201a8"
             ],
             [
              0.3333333333333333,
              "#9c179e"
             ],
             [
              0.4444444444444444,
              "#bd3786"
             ],
             [
              0.5555555555555556,
              "#d8576b"
             ],
             [
              0.6666666666666666,
              "#ed7953"
             ],
             [
              0.7777777777777778,
              "#fb9f3a"
             ],
             [
              0.8888888888888888,
              "#fdca26"
             ],
             [
              1,
              "#f0f921"
             ]
            ],
            "type": "histogram2d"
           }
          ],
          "histogram2dcontour": [
           {
            "colorbar": {
             "outlinewidth": 0,
             "ticks": ""
            },
            "colorscale": [
             [
              0,
              "#0d0887"
             ],
             [
              0.1111111111111111,
              "#46039f"
             ],
             [
              0.2222222222222222,
              "#7201a8"
             ],
             [
              0.3333333333333333,
              "#9c179e"
             ],
             [
              0.4444444444444444,
              "#bd3786"
             ],
             [
              0.5555555555555556,
              "#d8576b"
             ],
             [
              0.6666666666666666,
              "#ed7953"
             ],
             [
              0.7777777777777778,
              "#fb9f3a"
             ],
             [
              0.8888888888888888,
              "#fdca26"
             ],
             [
              1,
              "#f0f921"
             ]
            ],
            "type": "histogram2dcontour"
           }
          ],
          "mesh3d": [
           {
            "colorbar": {
             "outlinewidth": 0,
             "ticks": ""
            },
            "type": "mesh3d"
           }
          ],
          "parcoords": [
           {
            "line": {
             "colorbar": {
              "outlinewidth": 0,
              "ticks": ""
             }
            },
            "type": "parcoords"
           }
          ],
          "pie": [
           {
            "automargin": true,
            "type": "pie"
           }
          ],
          "scatter": [
           {
            "fillpattern": {
             "fillmode": "overlay",
             "size": 10,
             "solidity": 0.2
            },
            "type": "scatter"
           }
          ],
          "scatter3d": [
           {
            "line": {
             "colorbar": {
              "outlinewidth": 0,
              "ticks": ""
             }
            },
            "marker": {
             "colorbar": {
              "outlinewidth": 0,
              "ticks": ""
             }
            },
            "type": "scatter3d"
           }
          ],
          "scattercarpet": [
           {
            "marker": {
             "colorbar": {
              "outlinewidth": 0,
              "ticks": ""
             }
            },
            "type": "scattercarpet"
           }
          ],
          "scattergeo": [
           {
            "marker": {
             "colorbar": {
              "outlinewidth": 0,
              "ticks": ""
             }
            },
            "type": "scattergeo"
           }
          ],
          "scattergl": [
           {
            "marker": {
             "colorbar": {
              "outlinewidth": 0,
              "ticks": ""
             }
            },
            "type": "scattergl"
           }
          ],
          "scattermapbox": [
           {
            "marker": {
             "colorbar": {
              "outlinewidth": 0,
              "ticks": ""
             }
            },
            "type": "scattermapbox"
           }
          ],
          "scatterpolar": [
           {
            "marker": {
             "colorbar": {
              "outlinewidth": 0,
              "ticks": ""
             }
            },
            "type": "scatterpolar"
           }
          ],
          "scatterpolargl": [
           {
            "marker": {
             "colorbar": {
              "outlinewidth": 0,
              "ticks": ""
             }
            },
            "type": "scatterpolargl"
           }
          ],
          "scatterternary": [
           {
            "marker": {
             "colorbar": {
              "outlinewidth": 0,
              "ticks": ""
             }
            },
            "type": "scatterternary"
           }
          ],
          "surface": [
           {
            "colorbar": {
             "outlinewidth": 0,
             "ticks": ""
            },
            "colorscale": [
             [
              0,
              "#0d0887"
             ],
             [
              0.1111111111111111,
              "#46039f"
             ],
             [
              0.2222222222222222,
              "#7201a8"
             ],
             [
              0.3333333333333333,
              "#9c179e"
             ],
             [
              0.4444444444444444,
              "#bd3786"
             ],
             [
              0.5555555555555556,
              "#d8576b"
             ],
             [
              0.6666666666666666,
              "#ed7953"
             ],
             [
              0.7777777777777778,
              "#fb9f3a"
             ],
             [
              0.8888888888888888,
              "#fdca26"
             ],
             [
              1,
              "#f0f921"
             ]
            ],
            "type": "surface"
           }
          ],
          "table": [
           {
            "cells": {
             "fill": {
              "color": "#EBF0F8"
             },
             "line": {
              "color": "white"
             }
            },
            "header": {
             "fill": {
              "color": "#C8D4E3"
             },
             "line": {
              "color": "white"
             }
            },
            "type": "table"
           }
          ]
         },
         "layout": {
          "annotationdefaults": {
           "arrowcolor": "#2a3f5f",
           "arrowhead": 0,
           "arrowwidth": 1
          },
          "autotypenumbers": "strict",
          "coloraxis": {
           "colorbar": {
            "outlinewidth": 0,
            "ticks": ""
           }
          },
          "colorscale": {
           "diverging": [
            [
             0,
             "#8e0152"
            ],
            [
             0.1,
             "#c51b7d"
            ],
            [
             0.2,
             "#de77ae"
            ],
            [
             0.3,
             "#f1b6da"
            ],
            [
             0.4,
             "#fde0ef"
            ],
            [
             0.5,
             "#f7f7f7"
            ],
            [
             0.6,
             "#e6f5d0"
            ],
            [
             0.7,
             "#b8e186"
            ],
            [
             0.8,
             "#7fbc41"
            ],
            [
             0.9,
             "#4d9221"
            ],
            [
             1,
             "#276419"
            ]
           ],
           "sequential": [
            [
             0,
             "#0d0887"
            ],
            [
             0.1111111111111111,
             "#46039f"
            ],
            [
             0.2222222222222222,
             "#7201a8"
            ],
            [
             0.3333333333333333,
             "#9c179e"
            ],
            [
             0.4444444444444444,
             "#bd3786"
            ],
            [
             0.5555555555555556,
             "#d8576b"
            ],
            [
             0.6666666666666666,
             "#ed7953"
            ],
            [
             0.7777777777777778,
             "#fb9f3a"
            ],
            [
             0.8888888888888888,
             "#fdca26"
            ],
            [
             1,
             "#f0f921"
            ]
           ],
           "sequentialminus": [
            [
             0,
             "#0d0887"
            ],
            [
             0.1111111111111111,
             "#46039f"
            ],
            [
             0.2222222222222222,
             "#7201a8"
            ],
            [
             0.3333333333333333,
             "#9c179e"
            ],
            [
             0.4444444444444444,
             "#bd3786"
            ],
            [
             0.5555555555555556,
             "#d8576b"
            ],
            [
             0.6666666666666666,
             "#ed7953"
            ],
            [
             0.7777777777777778,
             "#fb9f3a"
            ],
            [
             0.8888888888888888,
             "#fdca26"
            ],
            [
             1,
             "#f0f921"
            ]
           ]
          },
          "colorway": [
           "#636efa",
           "#EF553B",
           "#00cc96",
           "#ab63fa",
           "#FFA15A",
           "#19d3f3",
           "#FF6692",
           "#B6E880",
           "#FF97FF",
           "#FECB52"
          ],
          "font": {
           "color": "#2a3f5f"
          },
          "geo": {
           "bgcolor": "white",
           "lakecolor": "white",
           "landcolor": "#E5ECF6",
           "showlakes": true,
           "showland": true,
           "subunitcolor": "white"
          },
          "hoverlabel": {
           "align": "left"
          },
          "hovermode": "closest",
          "mapbox": {
           "style": "light"
          },
          "paper_bgcolor": "white",
          "plot_bgcolor": "#E5ECF6",
          "polar": {
           "angularaxis": {
            "gridcolor": "white",
            "linecolor": "white",
            "ticks": ""
           },
           "bgcolor": "#E5ECF6",
           "radialaxis": {
            "gridcolor": "white",
            "linecolor": "white",
            "ticks": ""
           }
          },
          "scene": {
           "xaxis": {
            "backgroundcolor": "#E5ECF6",
            "gridcolor": "white",
            "gridwidth": 2,
            "linecolor": "white",
            "showbackground": true,
            "ticks": "",
            "zerolinecolor": "white"
           },
           "yaxis": {
            "backgroundcolor": "#E5ECF6",
            "gridcolor": "white",
            "gridwidth": 2,
            "linecolor": "white",
            "showbackground": true,
            "ticks": "",
            "zerolinecolor": "white"
           },
           "zaxis": {
            "backgroundcolor": "#E5ECF6",
            "gridcolor": "white",
            "gridwidth": 2,
            "linecolor": "white",
            "showbackground": true,
            "ticks": "",
            "zerolinecolor": "white"
           }
          },
          "shapedefaults": {
           "line": {
            "color": "#2a3f5f"
           }
          },
          "ternary": {
           "aaxis": {
            "gridcolor": "white",
            "linecolor": "white",
            "ticks": ""
           },
           "baxis": {
            "gridcolor": "white",
            "linecolor": "white",
            "ticks": ""
           },
           "bgcolor": "#E5ECF6",
           "caxis": {
            "gridcolor": "white",
            "linecolor": "white",
            "ticks": ""
           }
          },
          "title": {
           "x": 0.05
          },
          "xaxis": {
           "automargin": true,
           "gridcolor": "white",
           "linecolor": "white",
           "ticks": "",
           "title": {
            "standoff": 15
           },
           "zerolinecolor": "white",
           "zerolinewidth": 2
          },
          "yaxis": {
           "automargin": true,
           "gridcolor": "white",
           "linecolor": "white",
           "ticks": "",
           "title": {
            "standoff": 15
           },
           "zerolinecolor": "white",
           "zerolinewidth": 2
          }
         }
        },
        "xaxis": {
         "anchor": "y",
         "autorange": true,
         "domain": [
          0,
          1
         ],
         "range": [
          33.55613383191409,
          242.0082124834925
         ],
         "title": {
          "text": "horsepower"
         },
         "type": "linear"
        },
        "yaxis": {
         "anchor": "x",
         "autorange": true,
         "domain": [
          0,
          1
         ],
         "range": [
          6.123447776253336,
          27.115622838024297
         ],
         "title": {
          "text": "acceleration"
         },
         "type": "linear"
        }
       }
      },
      "image/png": "[encoded data removed]",
      "text/html": [
       "<div>                            <div id=\"56c06ac7-88ba-4a93-94c8-a6203502d200\" class=\"plotly-graph-div\" style=\"height:525px; width:100%;\"></div>            <script type=\"text/javascript\">                require([\"plotly\"], function(Plotly) {                    window.PLOTLYENV=window.PLOTLYENV || {};                                    if (document.getElementById(\"56c06ac7-88ba-4a93-94c8-a6203502d200\")) {                    Plotly.newPlot(                        \"56c06ac7-88ba-4a93-94c8-a6203502d200\",                        [{\"hovertemplate\":\"\\u003cb\\u003e%{hovertext}\\u003c\\u002fb\\u003e\\u003cbr\\u003e\\u003cbr\\u003eorigin=usa\\u003cbr\\u003ehorsepower=%{x}\\u003cbr\\u003eacceleration=%{y}\\u003cbr\\u003empg=%{marker.size}\\u003cextra\\u003e\\u003c\\u002fextra\\u003e\",\"hovertext\":[\"chevrolet chevelle malibu\",\"buick skylark 320\",\"plymouth satellite\",\"amc rebel sst\",\"ford torino\",\"ford galaxie 500\",\"chevrolet impala\",\"plymouth fury iii\",\"pontiac catalina\",\"amc ambassador dpl\",\"dodge challenger se\",\"plymouth 'cuda 340\",\"chevrolet monte carlo\",\"buick estate wagon (sw)\",\"plymouth duster\",\"amc hornet\",\"ford maverick\",\"amc gremlin\",\"ford f250\",\"chevy c20\",\"dodge d200\",\"hi 1200d\",\"chevrolet vega 2300\",\"ford pinto\",\"amc gremlin\",\"plymouth satellite custom\",\"chevrolet chevelle malibu\",\"ford torino 500\",\"amc matador\",\"chevrolet impala\",\"pontiac catalina brougham\",\"ford galaxie 500\",\"plymouth fury iii\",\"dodge monaco (sw)\",\"ford country squire (sw)\",\"pontiac safari (sw)\",\"amc hornet sportabout (sw)\",\"chevrolet vega (sw)\",\"pontiac firebird\",\"ford mustang\",\"mercury capri 2000\",\"plymouth cricket\",\"dodge colt hardtop\",\"chevrolet vega\",\"ford pinto runabout\",\"chevrolet impala\",\"pontiac catalina\",\"plymouth fury iii\",\"ford galaxie 500\",\"amc ambassador sst\",\"mercury marquis\",\"buick lesabre custom\",\"oldsmobile delta 88 royale\",\"chrysler newport royal\",\"amc matador (sw)\",\"chevrolet chevelle concours (sw)\",\"ford gran torino (sw)\",\"plymouth satellite custom (sw)\",\"ford pinto (sw)\",\"dodge colt (sw)\",\"buick century 350\",\"amc matador\",\"chevrolet malibu\",\"ford gran torino\",\"dodge coronet custom\",\"mercury marquis brougham\",\"chevrolet caprice classic\",\"ford ltd\",\"plymouth fury gran sedan\",\"chrysler new yorker brougham\",\"buick electra 225 custom\",\"amc ambassador brougham\",\"plymouth valiant\",\"chevrolet nova custom\",\"amc hornet\",\"ford maverick\",\"plymouth duster\",\"chevrolet impala\",\"ford country\",\"plymouth custom suburb\",\"oldsmobile vista cruiser\",\"amc gremlin\",\"chevrolet vega\",\"ford pinto\",\"mercury capri v6\",\"chevrolet monte carlo s\",\"pontiac grand prix\",\"dodge dart custom\",\"oldsmobile omega\",\"plymouth duster\",\"ford maverick\",\"amc hornet\",\"chevrolet nova\",\"ford pinto\",\"chevrolet vega\",\"chevrolet chevelle malibu classic\",\"amc matador\",\"plymouth satellite sebring\",\"ford gran torino\",\"buick century luxus (sw)\",\"dodge coronet custom (sw)\",\"ford gran torino (sw)\",\"amc matador (sw)\",\"dodge colt\",\"plymouth valiant custom\",\"chevrolet nova\",\"mercury monarch\",\"ford maverick\",\"pontiac catalina\",\"chevrolet bel air\",\"plymouth grand fury\",\"ford ltd\",\"buick century\",\"chevroelt chevelle malibu\",\"amc matador\",\"plymouth fury\",\"buick skyhawk\",\"chevrolet monza 2+2\",\"ford mustang ii\",\"ford pinto\",\"amc gremlin\",\"pontiac astro\",\"ford pinto\",\"amc pacer\",\"capri ii\",\"dodge colt\",\"chevrolet chevelle malibu classic\",\"dodge coronet brougham\",\"amc matador\",\"ford gran torino\",\"plymouth valiant\",\"chevrolet nova\",\"ford maverick\",\"amc hornet\",\"chevrolet chevette\",\"chevrolet woody\",\"dodge aspen se\",\"ford granada ghia\",\"pontiac ventura sj\",\"amc pacer d\\u002fl\",\"ford pinto\",\"plymouth volare premier v8\",\"cadillac seville\",\"chevy c10\",\"ford f108\",\"dodge d100\",\"buick opel isuzu deluxe\",\"plymouth arrow gs\",\"chevrolet caprice classic\",\"oldsmobile cutlass supreme\",\"dodge monaco brougham\",\"mercury cougar brougham\",\"chevrolet concours\",\"buick skylark\",\"plymouth volare custom\",\"ford granada\",\"pontiac grand prix lj\",\"chevrolet monte carlo landau\",\"chrysler cordoba\",\"ford thunderbird\",\"pontiac sunbird coupe\",\"ford mustang ii 2+2\",\"chevrolet chevette\",\"dodge colt m\\u002fm\",\"ford fiesta\",\"oldsmobile cutlass salon brougham\",\"dodge diplomat\",\"mercury monarch ghia\",\"pontiac phoenix lj\",\"chevrolet malibu\",\"ford fairmont (auto)\",\"ford fairmont (man)\",\"plymouth volare\",\"amc concord\",\"buick century special\",\"mercury zephyr\",\"dodge aspen\",\"amc concord d\\u002fl\",\"chevrolet monte carlo landau\",\"buick regal sport coupe (turbo)\",\"ford futura\",\"dodge magnum xe\",\"chevrolet chevette\",\"dodge omni\",\"plymouth sapporo\",\"oldsmobile starfire sx\",\"pontiac lemans v6\",\"mercury zephyr 6\",\"ford fairmont 4\",\"amc concord dl 6\",\"dodge aspen 6\",\"chevrolet caprice classic\",\"ford ltd landau\",\"mercury grand marquis\",\"dodge st. regis\",\"buick estate wagon (sw)\",\"ford country squire (sw)\",\"chevrolet malibu classic (sw)\",\"chrysler lebaron town @ country (sw)\",\"dodge colt hatchback custom\",\"amc spirit dl\",\"cadillac eldorado\",\"oldsmobile cutlass salon brougham\",\"plymouth horizon\",\"plymouth horizon tc3\",\"buick skylark limited\",\"chevrolet citation\",\"oldsmobile omega brougham\",\"pontiac phoenix\",\"chevrolet chevette\",\"chevrolet citation\",\"ford fairmont\",\"amc concord\",\"dodge aspen\",\"dodge colt\",\"ford mustang cobra\",\"plymouth reliant\",\"buick skylark\",\"dodge aries wagon (sw)\",\"chevrolet citation\",\"plymouth reliant\",\"plymouth champ\",\"plymouth horizon 4\",\"ford escort 4w\",\"ford escort 2h\",\"buick century\",\"oldsmobile cutlass ls\",\"ford granada gl\",\"chrysler lebaron salon\",\"chevrolet cavalier\",\"chevrolet cavalier wagon\",\"chevrolet cavalier 2-door\",\"pontiac j2000 se hatchback\",\"dodge aries se\",\"pontiac phoenix\",\"ford fairmont futura\",\"amc concord dl\",\"plymouth horizon miser\",\"mercury lynx l\",\"buick century limited\",\"oldsmobile cutlass ciera (diesel)\",\"chrysler lebaron medallion\",\"ford granada l\",\"dodge charger 2.2\",\"chevrolet camaro\",\"ford mustang gl\",\"dodge rampage\",\"ford ranger\",\"chevy s-10\"],\"legendgroup\":\"usa\",\"marker\":{\"color\":\"#636efa\",\"size\":[18.0,15.0,18.0,16.0,17.0,15.0,14.0,14.0,14.0,15.0,15.0,14.0,15.0,14.0,22.0,18.0,21.0,21.0,10.0,10.0,11.0,9.0,28.0,25.0,19.0,16.0,17.0,19.0,18.0,14.0,14.0,14.0,14.0,12.0,13.0,13.0,18.0,22.0,19.0,18.0,23.0,26.0,25.0,20.0,21.0,13.0,14.0,15.0,14.0,17.0,11.0,13.0,12.0,13.0,15.0,13.0,13.0,14.0,22.0,28.0,13.0,14.0,13.0,14.0,15.0,12.0,13.0,13.0,14.0,13.0,12.0,13.0,18.0,16.0,18.0,18.0,23.0,11.0,12.0,13.0,12.0,18.0,21.0,19.0,21.0,15.0,16.0,15.0,11.0,20.0,21.0,19.0,15.0,26.0,25.0,16.0,16.0,18.0,16.0,13.0,14.0,14.0,14.0,28.0,19.0,18.0,15.0,15.0,16.0,15.0,16.0,14.0,17.0,16.0,15.0,18.0,21.0,20.0,13.0,23.0,20.0,23.0,18.0,19.0,25.0,26.0,17.5,16.0,15.5,14.5,22.0,22.0,24.0,22.5,29.0,24.5,20.0,18.0,18.5,17.5,26.5,13.0,16.5,13.0,13.0,13.0,30.0,25.5,17.5,17.0,15.5,15.0,17.5,20.5,19.0,18.5,16.0,15.5,15.5,16.0,24.5,25.5,30.5,33.5,36.1,19.9,19.4,20.2,19.2,20.5,20.2,25.1,20.5,19.4,20.6,20.8,18.6,18.1,19.2,17.7,18.1,17.5,30.0,30.9,23.2,23.8,21.5,19.8,22.3,20.2,20.6,17.0,17.6,16.5,18.2,16.9,15.5,19.2,18.5,35.7,27.4,23.0,23.9,34.2,34.5,28.4,28.8,26.8,33.5,32.1,28.0,26.4,24.3,19.1,27.9,23.6,27.2,26.6,25.8,23.5,30.0,39.0,34.7,34.4,29.9,22.4,26.6,20.2,17.6,28.0,27.0,34.0,31.0,29.0,27.0,24.0,23.0,38.0,36.0,25.0,38.0,26.0,22.0,36.0,27.0,27.0,32.0,28.0,31.0],\"sizemode\":\"area\",\"sizeref\":0.1165,\"symbol\":\"circle\"},\"mode\":\"markers\",\"name\":\"usa\",\"orientation\":\"v\",\"showlegend\":true,\"x\":[130.0,165.0,150.0,150.0,140.0,198.0,220.0,215.0,225.0,190.0,170.0,160.0,150.0,225.0,95.0,97.0,85.0,90.0,215.0,200.0,210.0,193.0,90.0,null,100.0,105.0,100.0,88.0,100.0,165.0,175.0,153.0,150.0,180.0,170.0,175.0,110.0,72.0,100.0,88.0,86.0,70.0,80.0,90.0,86.0,165.0,175.0,150.0,153.0,150.0,208.0,155.0,160.0,190.0,150.0,130.0,140.0,150.0,86.0,80.0,175.0,150.0,145.0,137.0,150.0,198.0,150.0,158.0,150.0,215.0,225.0,175.0,105.0,100.0,100.0,88.0,95.0,150.0,167.0,170.0,180.0,100.0,72.0,85.0,107.0,145.0,230.0,150.0,180.0,95.0,null,100.0,100.0,80.0,75.0,100.0,110.0,105.0,140.0,150.0,150.0,140.0,150.0,75.0,95.0,105.0,72.0,72.0,170.0,145.0,150.0,148.0,110.0,105.0,110.0,95.0,110.0,110.0,129.0,83.0,100.0,78.0,97.0,90.0,92.0,79.0,140.0,150.0,120.0,152.0,100.0,105.0,81.0,90.0,52.0,60.0,100.0,78.0,110.0,95.0,72.0,150.0,180.0,145.0,130.0,150.0,80.0,96.0,145.0,110.0,145.0,130.0,110.0,105.0,100.0,98.0,180.0,170.0,190.0,149.0,88.0,89.0,63.0,83.0,66.0,110.0,140.0,139.0,105.0,95.0,85.0,88.0,100.0,90.0,105.0,85.0,110.0,120.0,145.0,165.0,139.0,140.0,68.0,75.0,105.0,85.0,115.0,85.0,88.0,90.0,110.0,130.0,129.0,138.0,135.0,155.0,142.0,125.0,150.0,80.0,80.0,125.0,90.0,70.0,70.0,90.0,115.0,115.0,90.0,70.0,90.0,88.0,90.0,90.0,105.0,null,84.0,84.0,92.0,110.0,84.0,64.0,63.0,65.0,65.0,110.0,105.0,88.0,85.0,88.0,88.0,88.0,85.0,84.0,90.0,92.0,null,63.0,70.0,110.0,85.0,92.0,112.0,84.0,90.0,86.0,84.0,79.0,82.0],\"xaxis\":\"x\",\"y\":[12.0,11.5,11.0,12.0,10.5,10.0,9.0,8.5,10.0,8.5,10.0,8.0,9.5,10.0,15.5,15.5,16.0,15.0,14.0,15.0,13.5,18.5,15.5,19.0,13.0,15.5,15.5,15.5,15.5,12.0,11.5,13.5,13.0,11.5,12.0,12.0,13.5,19.0,15.0,14.5,14.0,20.5,17.0,19.5,16.5,12.0,12.0,13.5,13.0,11.5,11.0,13.5,13.5,12.5,12.5,14.0,16.0,14.0,16.0,15.0,13.0,11.5,13.0,14.5,12.5,11.5,12.0,13.0,14.5,11.0,11.0,11.0,16.5,18.0,16.0,16.5,16.0,14.0,12.5,13.0,12.5,15.0,19.5,18.5,14.0,13.0,9.5,11.0,11.0,16.5,17.0,16.0,17.0,16.5,17.0,17.0,18.0,16.5,14.0,14.5,13.5,16.0,15.5,14.5,16.0,16.0,21.0,19.5,11.5,14.0,14.5,13.5,21.0,18.5,19.0,19.0,15.0,13.5,12.0,17.0,16.0,18.5,14.5,17.0,14.9,17.7,13.0,13.0,13.9,12.8,15.4,14.5,17.6,17.6,22.2,22.1,17.7,21.0,16.2,17.8,13.6,13.2,12.1,12.0,15.0,14.0,14.8,15.5,12.5,19.0,13.7,14.9,16.4,16.9,17.7,19.0,11.1,11.4,12.2,14.5,16.0,15.8,17.0,15.9,14.4,15.5,13.2,12.8,19.2,18.2,15.8,15.4,17.2,17.2,15.8,16.7,18.7,15.1,13.2,13.4,11.2,13.7,16.5,14.5,16.7,17.6,15.4,18.2,17.3,18.2,16.6,15.4,13.4,13.2,15.2,14.9,14.3,15.0,13.0,14.4,15.0,17.4,22.2,13.2,14.9,16.0,11.3,12.9,13.2,15.5,16.5,18.1,20.1,18.7,14.4,14.3,15.7,16.4,14.4,12.6,12.9,16.4,14.9,16.2,20.7,15.8,19.0,17.1,16.6,19.6,18.6,18.0,16.2,16.0,18.0,16.4,20.5,14.7,17.3,16.4,17.0,14.5,14.7,13.0,17.3,15.6,11.6,18.6,19.4],\"yaxis\":\"y\",\"type\":\"scatter\"},{\"hovertemplate\":\"\\u003cb\\u003e%{hovertext}\\u003c\\u002fb\\u003e\\u003cbr\\u003e\\u003cbr\\u003eorigin=japan\\u003cbr\\u003ehorsepower=%{x}\\u003cbr\\u003eacceleration=%{y}\\u003cbr\\u003empg=%{marker.size}\\u003cextra\\u003e\\u003c\\u002fextra\\u003e\",\"hovertext\":[\"toyota corona mark ii\",\"datsun pl510\",\"datsun pl510\",\"toyota corona\",\"toyota corolla 1200\",\"datsun 1200\",\"toyota corona hardtop\",\"mazda rx2 coupe\",\"datsun 510 (sw)\",\"toyouta corona mark ii (sw)\",\"toyota corolla 1600 (sw)\",\"toyota carina\",\"datsun 610\",\"maxda rx3\",\"toyota mark ii\",\"datsun b210\",\"toyota corolla 1200\",\"toyota corona\",\"datsun 710\",\"honda civic\",\"subaru\",\"toyota corolla\",\"toyota corona\",\"datsun 710\",\"honda civic cvcc\",\"honda civic\",\"datsun b-210\",\"toyota corolla\",\"toyota mark ii\",\"honda accord cvcc\",\"datsun f-10 hatchback\",\"toyota corolla liftback\",\"subaru dl\",\"datsun 810\",\"mazda rx-4\",\"mazda glc deluxe\",\"datsun b210 gx\",\"honda civic cvcc\",\"toyota corona\",\"datsun 510\",\"toyota celica gt liftback\",\"datsun 200-sx\",\"honda accord lx\",\"maxda glc deluxe\",\"datsun 210\",\"toyota corolla tercel\",\"datsun 310\",\"toyota corona liftback\",\"mazda 626\",\"datsun 510 hatchback\",\"toyota corolla\",\"mazda glc\",\"datsun 210\",\"honda civic 1500 gl\",\"subaru dl\",\"datsun 280-zx\",\"mazda rx-7 gs\",\"honda accord\",\"toyota starlet\",\"honda civic 1300\",\"subaru\",\"datsun 210 mpg\",\"toyota tercel\",\"mazda glc 4\",\"honda prelude\",\"toyota corolla\",\"datsun 200sx\",\"mazda 626\",\"toyota cressida\",\"datsun 810 maxima\",\"mazda glc custom l\",\"mazda glc custom\",\"nissan stanza xe\",\"honda accord\",\"toyota corolla\",\"honda civic\",\"honda civic (auto)\",\"datsun 310 gx\",\"toyota celica gt\"],\"legendgroup\":\"japan\",\"marker\":{\"color\":\"#EF553B\",\"size\":[24.0,27.0,27.0,25.0,31.0,35.0,24.0,19.0,28.0,23.0,27.0,20.0,22.0,18.0,20.0,31.0,32.0,31.0,32.0,24.0,26.0,29.0,24.0,24.0,33.0,33.0,32.0,28.0,19.0,31.5,33.5,26.0,30.0,22.0,21.5,32.8,39.4,36.1,27.5,27.2,21.1,23.9,29.5,34.1,31.8,38.1,37.2,29.8,31.3,37.0,32.2,46.6,40.8,44.6,33.8,32.7,23.7,32.4,39.1,35.1,32.3,37.0,37.7,34.1,33.7,32.4,32.9,31.6,25.4,24.2,37.0,31.0,36.0,36.0,34.0,38.0,32.0,38.0,32.0],\"sizemode\":\"area\",\"sizeref\":0.1165,\"symbol\":\"circle\"},\"mode\":\"markers\",\"name\":\"japan\",\"orientation\":\"v\",\"showlegend\":true,\"x\":[95.0,88.0,88.0,95.0,65.0,69.0,95.0,97.0,92.0,97.0,88.0,88.0,94.0,90.0,122.0,67.0,65.0,52.0,61.0,97.0,93.0,75.0,96.0,97.0,53.0,53.0,70.0,75.0,108.0,68.0,70.0,75.0,67.0,97.0,110.0,52.0,70.0,60.0,95.0,97.0,95.0,97.0,68.0,65.0,65.0,60.0,65.0,90.0,75.0,92.0,75.0,65.0,65.0,67.0,67.0,132.0,100.0,72.0,58.0,60.0,67.0,65.0,62.0,68.0,75.0,75.0,100.0,74.0,116.0,120.0,68.0,68.0,88.0,75.0,70.0,67.0,67.0,67.0,96.0],\"xaxis\":\"x\",\"y\":[15.0,14.5,14.5,14.0,19.0,18.0,15.5,13.5,17.0,14.5,16.5,19.0,16.5,13.5,13.5,19.0,21.0,16.5,19.0,15.0,15.5,16.0,13.5,17.0,17.5,17.4,17.0,16.4,15.5,18.5,16.8,18.2,16.4,14.5,13.5,19.4,18.6,16.4,14.2,14.7,14.8,14.9,16.6,15.2,19.2,18.8,16.4,15.5,17.5,15.0,15.2,17.9,19.2,13.8,18.0,11.4,12.5,17.0,16.9,16.1,17.8,19.4,17.3,16.0,14.4,16.8,14.8,18.3,12.6,13.8,18.2,17.6,14.5,14.5,16.9,15.0,15.7,16.2,13.9],\"yaxis\":\"y\",\"type\":\"scatter\"},{\"hovertemplate\":\"\\u003cb\\u003e%{hovertext}\\u003c\\u002fb\\u003e\\u003cbr\\u003e\\u003cbr\\u003eorigin=europe\\u003cbr\\u003ehorsepower=%{x}\\u003cbr\\u003eacceleration=%{y}\\u003cbr\\u003empg=%{marker.size}\\u003cextra\\u003e\\u003c\\u002fextra\\u003e\",\"hovertext\":[\"volkswagen 1131 deluxe sedan\",\"peugeot 504\",\"audi 100 ls\",\"saab 99e\",\"bmw 2002\",\"opel 1900\",\"peugeot 304\",\"fiat 124b\",\"volkswagen model 111\",\"volkswagen type 3\",\"volvo 145e (sw)\",\"volkswagen 411 (sw)\",\"peugeot 504 (sw)\",\"renault 12 (sw)\",\"volkswagen super beetle\",\"fiat 124 sport coupe\",\"fiat 128\",\"opel manta\",\"audi 100ls\",\"volvo 144ea\",\"saab 99le\",\"audi fox\",\"volkswagen dasher\",\"opel manta\",\"fiat 128\",\"fiat 124 tc\",\"fiat x1.9\",\"volkswagen dasher\",\"volkswagen rabbit\",\"audi 100ls\",\"peugeot 504\",\"volvo 244dl\",\"saab 99le\",\"fiat 131\",\"opel 1900\",\"renault 12tl\",\"vw rabbit\",\"volkswagen rabbit\",\"volvo 245\",\"peugeot 504\",\"mercedes-benz 280s\",\"renault 5 gtl\",\"volkswagen rabbit custom\",\"volkswagen dasher\",\"bmw 320i\",\"volkswagen rabbit custom diesel\",\"audi 5000\",\"volvo 264gl\",\"saab 99gle\",\"peugeot 604sl\",\"volkswagen scirocco\",\"vw rabbit custom\",\"mercedes benz 300d\",\"peugeot 504\",\"fiat strada custom\",\"vw rabbit\",\"audi 4000\",\"vw rabbit c (diesel)\",\"vw dasher (diesel)\",\"audi 5000s (diesel)\",\"mercedes-benz 240d\",\"renault lecar deluxe\",\"vokswagen rabbit\",\"triumph tr7 coupe\",\"volkswagen jetta\",\"renault 18i\",\"peugeot 505s turbo diesel\",\"volvo diesel\",\"volkswagen rabbit l\",\"vw pickup\"],\"legendgroup\":\"europe\",\"marker\":{\"color\":\"#00cc96\",\"size\":[26.0,25.0,24.0,25.0,26.0,28.0,30.0,30.0,27.0,23.0,18.0,22.0,21.0,26.0,26.0,26.0,29.0,24.0,20.0,19.0,24.0,29.0,26.0,26.0,24.0,26.0,31.0,25.0,29.0,23.0,23.0,22.0,25.0,28.0,25.0,27.0,29.0,29.5,20.0,19.0,16.5,36.0,29.0,30.5,21.5,43.1,20.3,17.0,21.6,16.2,31.5,31.9,25.4,27.2,37.3,41.5,34.3,44.3,43.4,36.4,30.0,40.9,29.8,35.0,33.0,34.5,28.1,30.7,36.0,44.0],\"sizemode\":\"area\",\"sizeref\":0.1165,\"symbol\":\"circle\"},\"mode\":\"markers\",\"name\":\"europe\",\"orientation\":\"v\",\"showlegend\":true,\"x\":[46.0,87.0,90.0,95.0,113.0,90.0,70.0,76.0,60.0,54.0,112.0,76.0,87.0,69.0,46.0,90.0,49.0,75.0,91.0,112.0,110.0,83.0,67.0,78.0,75.0,75.0,67.0,71.0,70.0,95.0,88.0,98.0,115.0,86.0,81.0,83.0,70.0,71.0,102.0,88.0,120.0,58.0,78.0,78.0,110.0,48.0,103.0,125.0,115.0,133.0,71.0,71.0,77.0,71.0,69.0,76.0,78.0,48.0,48.0,67.0,67.0,null,62.0,88.0,74.0,null,80.0,76.0,74.0,52.0],\"xaxis\":\"x\",\"y\":[20.5,17.5,14.5,17.5,12.5,14.0,19.5,14.5,19.0,23.5,14.5,18.0,19.5,18.0,21.0,15.5,19.5,15.5,14.0,15.5,14.0,16.5,15.5,14.5,15.5,14.0,16.0,16.5,14.0,15.0,17.0,14.5,13.5,15.5,16.9,15.3,14.2,12.2,15.7,21.9,16.7,18.6,14.5,14.1,12.8,21.5,15.9,13.6,15.7,15.8,14.9,14.0,20.1,24.8,14.7,14.7,15.8,21.7,23.7,19.9,21.8,17.3,15.3,15.1,14.2,15.8,20.4,19.6,15.3,24.6],\"yaxis\":\"y\",\"type\":\"scatter\"}],                        {\"template\":{\"data\":{\"histogram2dcontour\":[{\"type\":\"histogram2dcontour\",\"colorbar\":{\"outlinewidth\":0,\"ticks\":\"\"},\"colorscale\":[[0.0,\"#0d0887\"],[0.1111111111111111,\"#46039f\"],[0.2222222222222222,\"#7201a8\"],[0.3333333333333333,\"#9c179e\"],[0.4444444444444444,\"#bd3786\"],[0.5555555555555556,\"#d8576b\"],[0.6666666666666666,\"#ed7953\"],[0.7777777777777778,\"#fb9f3a\"],[0.8888888888888888,\"#fdca26\"],[1.0,\"#f0f921\"]]}],\"choropleth\":[{\"type\":\"choropleth\",\"colorbar\":{\"outlinewidth\":0,\"ticks\":\"\"}}],\"histogram2d\":[{\"type\":\"histogram2d\",\"colorbar\":{\"outlinewidth\":0,\"ticks\":\"\"},\"colorscale\":[[0.0,\"#0d0887\"],[0.1111111111111111,\"#46039f\"],[0.2222222222222222,\"#7201a8\"],[0.3333333333333333,\"#9c179e\"],[0.4444444444444444,\"#bd3786\"],[0.5555555555555556,\"#d8576b\"],[0.6666666666666666,\"#ed7953\"],[0.7777777777777778,\"#fb9f3a\"],[0.8888888888888888,\"#fdca26\"],[1.0,\"#f0f921\"]]}],\"heatmap\":[{\"type\":\"heatmap\",\"colorbar\":{\"outlinewidth\":0,\"ticks\":\"\"},\"colorscale\":[[0.0,\"#0d0887\"],[0.1111111111111111,\"#46039f\"],[0.2222222222222222,\"#7201a8\"],[0.3333333333333333,\"#9c179e\"],[0.4444444444444444,\"#bd3786\"],[0.5555555555555556,\"#d8576b\"],[0.6666666666666666,\"#ed7953\"],[0.7777777777777778,\"#fb9f3a\"],[0.8888888888888888,\"#fdca26\"],[1.0,\"#f0f921\"]]}],\"heatmapgl\":[{\"type\":\"heatmapgl\",\"colorbar\":{\"outlinewidth\":0,\"ticks\":\"\"},\"colorscale\":[[0.0,\"#0d0887\"],[0.1111111111111111,\"#46039f\"],[0.2222222222222222,\"#7201a8\"],[0.3333333333333333,\"#9c179e\"],[0.4444444444444444,\"#bd3786\"],[0.5555555555555556,\"#d8576b\"],[0.6666666666666666,\"#ed7953\"],[0.7777777777777778,\"#fb9f3a\"],[0.8888888888888888,\"#fdca26\"],[1.0,\"#f0f921\"]]}],\"contourcarpet\":[{\"type\":\"contourcarpet\",\"colorbar\":{\"outlinewidth\":0,\"ticks\":\"\"}}],\"contour\":[{\"type\":\"contour\",\"colorbar\":{\"outlinewidth\":0,\"ticks\":\"\"},\"colorscale\":[[0.0,\"#0d0887\"],[0.1111111111111111,\"#46039f\"],[0.2222222222222222,\"#7201a8\"],[0.3333333333333333,\"#9c179e\"],[0.4444444444444444,\"#bd3786\"],[0.5555555555555556,\"#d8576b\"],[0.6666666666666666,\"#ed7953\"],[0.7777777777777778,\"#fb9f3a\"],[0.8888888888888888,\"#fdca26\"],[1.0,\"#f0f921\"]]}],\"surface\":[{\"type\":\"surface\",\"colorbar\":{\"outlinewidth\":0,\"ticks\":\"\"},\"colorscale\":[[0.0,\"#0d0887\"],[0.1111111111111111,\"#46039f\"],[0.2222222222222222,\"#7201a8\"],[0.3333333333333333,\"#9c179e\"],[0.4444444444444444,\"#bd3786\"],[0.5555555555555556,\"#d8576b\"],[0.6666666666666666,\"#ed7953\"],[0.7777777777777778,\"#fb9f3a\"],[0.8888888888888888,\"#fdca26\"],[1.0,\"#f0f921\"]]}],\"mesh3d\":[{\"type\":\"mesh3d\",\"colorbar\":{\"outlinewidth\":0,\"ticks\":\"\"}}],\"scatter\":[{\"fillpattern\":{\"fillmode\":\"overlay\",\"size\":10,\"solidity\":0.2},\"type\":\"scatter\"}],\"parcoords\":[{\"type\":\"parcoords\",\"line\":{\"colorbar\":{\"outlinewidth\":0,\"ticks\":\"\"}}}],\"scatterpolargl\":[{\"type\":\"scatterpolargl\",\"marker\":{\"colorbar\":{\"outlinewidth\":0,\"ticks\":\"\"}}}],\"bar\":[{\"error_x\":{\"color\":\"#2a3f5f\"},\"error_y\":{\"color\":\"#2a3f5f\"},\"marker\":{\"line\":{\"color\":\"#E5ECF6\",\"width\":0.5},\"pattern\":{\"fillmode\":\"overlay\",\"size\":10,\"solidity\":0.2}},\"type\":\"bar\"}],\"scattergeo\":[{\"type\":\"scattergeo\",\"marker\":{\"colorbar\":{\"outlinewidth\":0,\"ticks\":\"\"}}}],\"scatterpolar\":[{\"type\":\"scatterpolar\",\"marker\":{\"colorbar\":{\"outlinewidth\":0,\"ticks\":\"\"}}}],\"histogram\":[{\"marker\":{\"pattern\":{\"fillmode\":\"overlay\",\"size\":10,\"solidity\":0.2}},\"type\":\"histogram\"}],\"scattergl\":[{\"type\":\"scattergl\",\"marker\":{\"colorbar\":{\"outlinewidth\":0,\"ticks\":\"\"}}}],\"scatter3d\":[{\"type\":\"scatter3d\",\"line\":{\"colorbar\":{\"outlinewidth\":0,\"ticks\":\"\"}},\"marker\":{\"colorbar\":{\"outlinewidth\":0,\"ticks\":\"\"}}}],\"scattermapbox\":[{\"type\":\"scattermapbox\",\"marker\":{\"colorbar\":{\"outlinewidth\":0,\"ticks\":\"\"}}}],\"scatterternary\":[{\"type\":\"scatterternary\",\"marker\":{\"colorbar\":{\"outlinewidth\":0,\"ticks\":\"\"}}}],\"scattercarpet\":[{\"type\":\"scattercarpet\",\"marker\":{\"colorbar\":{\"outlinewidth\":0,\"ticks\":\"\"}}}],\"carpet\":[{\"aaxis\":{\"endlinecolor\":\"#2a3f5f\",\"gridcolor\":\"white\",\"linecolor\":\"white\",\"minorgridcolor\":\"white\",\"startlinecolor\":\"#2a3f5f\"},\"baxis\":{\"endlinecolor\":\"#2a3f5f\",\"gridcolor\":\"white\",\"linecolor\":\"white\",\"minorgridcolor\":\"white\",\"startlinecolor\":\"#2a3f5f\"},\"type\":\"carpet\"}],\"table\":[{\"cells\":{\"fill\":{\"color\":\"#EBF0F8\"},\"line\":{\"color\":\"white\"}},\"header\":{\"fill\":{\"color\":\"#C8D4E3\"},\"line\":{\"color\":\"white\"}},\"type\":\"table\"}],\"barpolar\":[{\"marker\":{\"line\":{\"color\":\"#E5ECF6\",\"width\":0.5},\"pattern\":{\"fillmode\":\"overlay\",\"size\":10,\"solidity\":0.2}},\"type\":\"barpolar\"}],\"pie\":[{\"automargin\":true,\"type\":\"pie\"}]},\"layout\":{\"autotypenumbers\":\"strict\",\"colorway\":[\"#636efa\",\"#EF553B\",\"#00cc96\",\"#ab63fa\",\"#FFA15A\",\"#19d3f3\",\"#FF6692\",\"#B6E880\",\"#FF97FF\",\"#FECB52\"],\"font\":{\"color\":\"#2a3f5f\"},\"hovermode\":\"closest\",\"hoverlabel\":{\"align\":\"left\"},\"paper_bgcolor\":\"white\",\"plot_bgcolor\":\"#E5ECF6\",\"polar\":{\"bgcolor\":\"#E5ECF6\",\"angularaxis\":{\"gridcolor\":\"white\",\"linecolor\":\"white\",\"ticks\":\"\"},\"radialaxis\":{\"gridcolor\":\"white\",\"linecolor\":\"white\",\"ticks\":\"\"}},\"ternary\":{\"bgcolor\":\"#E5ECF6\",\"aaxis\":{\"gridcolor\":\"white\",\"linecolor\":\"white\",\"ticks\":\"\"},\"baxis\":{\"gridcolor\":\"white\",\"linecolor\":\"white\",\"ticks\":\"\"},\"caxis\":{\"gridcolor\":\"white\",\"linecolor\":\"white\",\"ticks\":\"\"}},\"coloraxis\":{\"colorbar\":{\"outlinewidth\":0,\"ticks\":\"\"}},\"colorscale\":{\"sequential\":[[0.0,\"#0d0887\"],[0.1111111111111111,\"#46039f\"],[0.2222222222222222,\"#7201a8\"],[0.3333333333333333,\"#9c179e\"],[0.4444444444444444,\"#bd3786\"],[0.5555555555555556,\"#d8576b\"],[0.6666666666666666,\"#ed7953\"],[0.7777777777777778,\"#fb9f3a\"],[0.8888888888888888,\"#fdca26\"],[1.0,\"#f0f921\"]],\"sequentialminus\":[[0.0,\"#0d0887\"],[0.1111111111111111,\"#46039f\"],[0.2222222222222222,\"#7201a8\"],[0.3333333333333333,\"#9c179e\"],[0.4444444444444444,\"#bd3786\"],[0.5555555555555556,\"#d8576b\"],[0.6666666666666666,\"#ed7953\"],[0.7777777777777778,\"#fb9f3a\"],[0.8888888888888888,\"#fdca26\"],[1.0,\"#f0f921\"]],\"diverging\":[[0,\"#8e0152\"],[0.1,\"#c51b7d\"],[0.2,\"#de77ae\"],[0.3,\"#f1b6da\"],[0.4,\"#fde0ef\"],[0.5,\"#f7f7f7\"],[0.6,\"#e6f5d0\"],[0.7,\"#b8e186\"],[0.8,\"#7fbc41\"],[0.9,\"#4d9221\"],[1,\"#276419\"]]},\"xaxis\":{\"gridcolor\":\"white\",\"linecolor\":\"white\",\"ticks\":\"\",\"title\":{\"standoff\":15},\"zerolinecolor\":\"white\",\"automargin\":true,\"zerolinewidth\":2},\"yaxis\":{\"gridcolor\":\"white\",\"linecolor\":\"white\",\"ticks\":\"\",\"title\":{\"standoff\":15},\"zerolinecolor\":\"white\",\"automargin\":true,\"zerolinewidth\":2},\"scene\":{\"xaxis\":{\"backgroundcolor\":\"#E5ECF6\",\"gridcolor\":\"white\",\"linecolor\":\"white\",\"showbackground\":true,\"ticks\":\"\",\"zerolinecolor\":\"white\",\"gridwidth\":2},\"yaxis\":{\"backgroundcolor\":\"#E5ECF6\",\"gridcolor\":\"white\",\"linecolor\":\"white\",\"showbackground\":true,\"ticks\":\"\",\"zerolinecolor\":\"white\",\"gridwidth\":2},\"zaxis\":{\"backgroundcolor\":\"#E5ECF6\",\"gridcolor\":\"white\",\"linecolor\":\"white\",\"showbackground\":true,\"ticks\":\"\",\"zerolinecolor\":\"white\",\"gridwidth\":2}},\"shapedefaults\":{\"line\":{\"color\":\"#2a3f5f\"}},\"annotationdefaults\":{\"arrowcolor\":\"#2a3f5f\",\"arrowhead\":0,\"arrowwidth\":1},\"geo\":{\"bgcolor\":\"white\",\"landcolor\":\"#E5ECF6\",\"subunitcolor\":\"white\",\"showland\":true,\"showlakes\":true,\"lakecolor\":\"white\"},\"title\":{\"x\":0.05},\"mapbox\":{\"style\":\"light\"}}},\"xaxis\":{\"anchor\":\"y\",\"domain\":[0.0,1.0],\"title\":{\"text\":\"horsepower\"}},\"yaxis\":{\"anchor\":\"x\",\"domain\":[0.0,1.0],\"title\":{\"text\":\"acceleration\"}},\"legend\":{\"title\":{\"text\":\"origin\"},\"tracegroupgap\":0,\"itemsizing\":\"constant\"},\"margin\":{\"t\":60}},                        {\"responsive\": true}                    ).then(function(){\n",
       "                            \n",
       "var gd = document.getElementById('56c06ac7-88ba-4a93-94c8-a6203502d200');\n",
       "var x = new MutationObserver(function (mutations, observer) {{\n",
       "        var display = window.getComputedStyle(gd).display;\n",
       "        if (!display || display === 'none') {{\n",
       "            console.log([gd, 'removed!']);\n",
       "            Plotly.purge(gd);\n",
       "            observer.disconnect();\n",
       "        }}\n",
       "}});\n",
       "\n",
       "// Listen for the removal of the full notebook cells\n",
       "var notebookContainer = gd.closest('#notebook-container');\n",
       "if (notebookContainer) {{\n",
       "    x.observe(notebookContainer, {childList: true});\n",
       "}}\n",
       "\n",
       "// Listen for the clearing of the current output cell\n",
       "var outputEl = gd.closest('.output');\n",
       "if (outputEl) {{\n",
       "    x.observe(outputEl, {childList: true});\n",
       "}}\n",
       "\n",
       "                        })                };                });            </script>        </div>"
      ]
     },
     "metadata": {},
     "output_type": "display_data"
    }
   ],
   "source": [
    "px.scatter(data_frame=df_cars, x = 'horsepower', y = 'acceleration', color = 'origin', size = 'mpg', hover_name='name')"
   ]
  },
  {
   "cell_type": "markdown",
   "id": "1fe5c048-9cc7-4200-91f0-2bf4f603fcaf",
   "metadata": {},
   "source": [
    "## Data Analysis"
   ]
  },
  {
   "cell_type": "markdown",
   "id": "40d501ae-cb2b-489f-9db4-7b81bd4e47fc",
   "metadata": {},
   "source": [
    "### Which observation represents the biggest point?"
   ]
  },
  {
   "cell_type": "code",
   "execution_count": 16,
   "id": "a9e7dfc4-85b5-4b29-88e6-78a1b14260a8",
   "metadata": {},
   "outputs": [
    {
     "data": {
      "text/html": [
       "<div>\n",
       "<style scoped>\n",
       "    .dataframe tbody tr th:only-of-type {\n",
       "        vertical-align: middle;\n",
       "    }\n",
       "\n",
       "    .dataframe tbody tr th {\n",
       "        vertical-align: top;\n",
       "    }\n",
       "\n",
       "    .dataframe thead th {\n",
       "        text-align: right;\n",
       "    }\n",
       "</style>\n",
       "<table border=\"1\" class=\"dataframe\">\n",
       "  <thead>\n",
       "    <tr style=\"text-align: right;\">\n",
       "      <th></th>\n",
       "      <th>mpg</th>\n",
       "      <th>cylinders</th>\n",
       "      <th>displacement</th>\n",
       "      <th>horsepower</th>\n",
       "      <th>weight</th>\n",
       "      <th>acceleration</th>\n",
       "      <th>model_year</th>\n",
       "      <th>origin</th>\n",
       "      <th>name</th>\n",
       "    </tr>\n",
       "  </thead>\n",
       "  <tbody>\n",
       "    <tr>\n",
       "      <th>0</th>\n",
       "      <td>18.0</td>\n",
       "      <td>8</td>\n",
       "      <td>307.0</td>\n",
       "      <td>130.0</td>\n",
       "      <td>3504</td>\n",
       "      <td>12.0</td>\n",
       "      <td>70</td>\n",
       "      <td>usa</td>\n",
       "      <td>chevrolet chevelle malibu</td>\n",
       "    </tr>\n",
       "    <tr>\n",
       "      <th>1</th>\n",
       "      <td>15.0</td>\n",
       "      <td>8</td>\n",
       "      <td>350.0</td>\n",
       "      <td>165.0</td>\n",
       "      <td>3693</td>\n",
       "      <td>11.5</td>\n",
       "      <td>70</td>\n",
       "      <td>usa</td>\n",
       "      <td>buick skylark 320</td>\n",
       "    </tr>\n",
       "    <tr>\n",
       "      <th>2</th>\n",
       "      <td>18.0</td>\n",
       "      <td>8</td>\n",
       "      <td>318.0</td>\n",
       "      <td>150.0</td>\n",
       "      <td>3436</td>\n",
       "      <td>11.0</td>\n",
       "      <td>70</td>\n",
       "      <td>usa</td>\n",
       "      <td>plymouth satellite</td>\n",
       "    </tr>\n",
       "    <tr>\n",
       "      <th>3</th>\n",
       "      <td>16.0</td>\n",
       "      <td>8</td>\n",
       "      <td>304.0</td>\n",
       "      <td>150.0</td>\n",
       "      <td>3433</td>\n",
       "      <td>12.0</td>\n",
       "      <td>70</td>\n",
       "      <td>usa</td>\n",
       "      <td>amc rebel sst</td>\n",
       "    </tr>\n",
       "    <tr>\n",
       "      <th>4</th>\n",
       "      <td>17.0</td>\n",
       "      <td>8</td>\n",
       "      <td>302.0</td>\n",
       "      <td>140.0</td>\n",
       "      <td>3449</td>\n",
       "      <td>10.5</td>\n",
       "      <td>70</td>\n",
       "      <td>usa</td>\n",
       "      <td>ford torino</td>\n",
       "    </tr>\n",
       "    <tr>\n",
       "      <th>...</th>\n",
       "      <td>...</td>\n",
       "      <td>...</td>\n",
       "      <td>...</td>\n",
       "      <td>...</td>\n",
       "      <td>...</td>\n",
       "      <td>...</td>\n",
       "      <td>...</td>\n",
       "      <td>...</td>\n",
       "      <td>...</td>\n",
       "    </tr>\n",
       "    <tr>\n",
       "      <th>393</th>\n",
       "      <td>27.0</td>\n",
       "      <td>4</td>\n",
       "      <td>140.0</td>\n",
       "      <td>86.0</td>\n",
       "      <td>2790</td>\n",
       "      <td>15.6</td>\n",
       "      <td>82</td>\n",
       "      <td>usa</td>\n",
       "      <td>ford mustang gl</td>\n",
       "    </tr>\n",
       "    <tr>\n",
       "      <th>394</th>\n",
       "      <td>44.0</td>\n",
       "      <td>4</td>\n",
       "      <td>97.0</td>\n",
       "      <td>52.0</td>\n",
       "      <td>2130</td>\n",
       "      <td>24.6</td>\n",
       "      <td>82</td>\n",
       "      <td>europe</td>\n",
       "      <td>vw pickup</td>\n",
       "    </tr>\n",
       "    <tr>\n",
       "      <th>395</th>\n",
       "      <td>32.0</td>\n",
       "      <td>4</td>\n",
       "      <td>135.0</td>\n",
       "      <td>84.0</td>\n",
       "      <td>2295</td>\n",
       "      <td>11.6</td>\n",
       "      <td>82</td>\n",
       "      <td>usa</td>\n",
       "      <td>dodge rampage</td>\n",
       "    </tr>\n",
       "    <tr>\n",
       "      <th>396</th>\n",
       "      <td>28.0</td>\n",
       "      <td>4</td>\n",
       "      <td>120.0</td>\n",
       "      <td>79.0</td>\n",
       "      <td>2625</td>\n",
       "      <td>18.6</td>\n",
       "      <td>82</td>\n",
       "      <td>usa</td>\n",
       "      <td>ford ranger</td>\n",
       "    </tr>\n",
       "    <tr>\n",
       "      <th>397</th>\n",
       "      <td>31.0</td>\n",
       "      <td>4</td>\n",
       "      <td>119.0</td>\n",
       "      <td>82.0</td>\n",
       "      <td>2720</td>\n",
       "      <td>19.4</td>\n",
       "      <td>82</td>\n",
       "      <td>usa</td>\n",
       "      <td>chevy s-10</td>\n",
       "    </tr>\n",
       "  </tbody>\n",
       "</table>\n",
       "<p>398 rows × 9 columns</p>\n",
       "</div>"
      ],
      "text/plain": [
       "      mpg  cylinders  displacement  horsepower  weight  acceleration  \\\n",
       "0    18.0          8         307.0       130.0    3504          12.0   \n",
       "1    15.0          8         350.0       165.0    3693          11.5   \n",
       "2    18.0          8         318.0       150.0    3436          11.0   \n",
       "3    16.0          8         304.0       150.0    3433          12.0   \n",
       "4    17.0          8         302.0       140.0    3449          10.5   \n",
       "..    ...        ...           ...         ...     ...           ...   \n",
       "393  27.0          4         140.0        86.0    2790          15.6   \n",
       "394  44.0          4          97.0        52.0    2130          24.6   \n",
       "395  32.0          4         135.0        84.0    2295          11.6   \n",
       "396  28.0          4         120.0        79.0    2625          18.6   \n",
       "397  31.0          4         119.0        82.0    2720          19.4   \n",
       "\n",
       "     model_year  origin                       name  \n",
       "0            70     usa  chevrolet chevelle malibu  \n",
       "1            70     usa          buick skylark 320  \n",
       "2            70     usa         plymouth satellite  \n",
       "3            70     usa              amc rebel sst  \n",
       "4            70     usa                ford torino  \n",
       "..          ...     ...                        ...  \n",
       "393          82     usa            ford mustang gl  \n",
       "394          82  europe                  vw pickup  \n",
       "395          82     usa              dodge rampage  \n",
       "396          82     usa                ford ranger  \n",
       "397          82     usa                 chevy s-10  \n",
       "\n",
       "[398 rows x 9 columns]"
      ]
     },
     "execution_count": 16,
     "metadata": {},
     "output_type": "execute_result"
    }
   ],
   "source": [
    "px.scatter(data_frame=df_cars, x = 'horsepower', y = 'acceleration', color = 'origin', size = 'mpg', hover_name='name')"
   ]
  },
  {
   "cell_type": "markdown",
   "id": "4a3af807-cf51-49de-b845-ddba26768204",
   "metadata": {},
   "source": [
    "### Which point is the furthest in the x-axis?"
   ]
  },
  {
   "cell_type": "code",
   "execution_count": null,
   "id": "6cc3dd8c-1a90-402c-aa9c-66dd74c3be1e",
   "metadata": {},
   "outputs": [],
   "source": []
  },
  {
   "cell_type": "markdown",
   "id": "786d95dd-396f-4a09-be6d-8504219a7c05",
   "metadata": {},
   "source": [
    "### Which point is the furthest in the y-axis?"
   ]
  },
  {
   "cell_type": "code",
   "execution_count": null,
   "id": "09a765f2-6fb8-4d53-a1b7-cffb05f47d5a",
   "metadata": {},
   "outputs": [],
   "source": []
  },
  {
   "cell_type": "markdown",
   "id": "cf24834d",
   "metadata": {},
   "source": [
    "## Create a tree map\n",
    "\n",
    "> Understand what a tree map is in [plotly website](https://plotly.com/python/treemaps/)."
   ]
  },
  {
   "cell_type": "code",
   "execution_count": null,
   "id": "6deb1d1c",
   "metadata": {},
   "outputs": [],
   "source": []
  }
 ],
 "metadata": {
  "kernelspec": {
   "display_name": "Python 3 (ipykernel)",
   "language": "python",
   "name": "python3"
  },
  "language_info": {
   "codemirror_mode": {
    "name": "ipython",
    "version": 3
   },
   "file_extension": ".py",
   "mimetype": "text/x-python",
   "name": "python",
   "nbconvert_exporter": "python",
   "pygments_lexer": "ipython3",
   "version": "3.10.8"
  },
  "toc-autonumbering": true
 },
 "nbformat": 4,
 "nbformat_minor": 5
}
